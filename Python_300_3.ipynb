{
  "nbformat": 4,
  "nbformat_minor": 0,
  "metadata": {
    "colab": {
      "name": "Python 300-3.ipynb",
      "provenance": [],
      "collapsed_sections": [],
      "authorship_tag": "ABX9TyNAEB+/Y3C/KrqtlUhoHdRm"
    },
    "kernelspec": {
      "name": "python3",
      "display_name": "Python 3"
    },
    "language_info": {
      "name": "python"
    }
  },
  "cells": [
    {
      "cell_type": "markdown",
      "source": [
        "## 분기문 \n",
        "- 101번 ~ 130번 "
      ],
      "metadata": {
        "id": "XSQWm-V9-ghX"
      }
    },
    {
      "cell_type": "code",
      "execution_count": null,
      "metadata": {
        "id": "8CzcqmJH-cQ5"
      },
      "outputs": [],
      "source": [
        "#101번\n",
        "# bool 타입"
      ]
    },
    {
      "cell_type": "code",
      "source": [
        "#102번 \n",
        "print( 3 == 5 )"
      ],
      "metadata": {
        "colab": {
          "base_uri": "https://localhost:8080/"
        },
        "id": "gYgWVO7r-qfF",
        "outputId": "cce781ba-f4ae-4a2e-925b-4421b59ad319"
      },
      "execution_count": null,
      "outputs": [
        {
          "output_type": "stream",
          "name": "stdout",
          "text": [
            "False\n"
          ]
        }
      ]
    },
    {
      "cell_type": "code",
      "source": [
        "#103번 \n",
        "print(3 < 5)"
      ],
      "metadata": {
        "colab": {
          "base_uri": "https://localhost:8080/"
        },
        "id": "dNASzyYp-qZG",
        "outputId": "ca490c76-295d-48d5-c3a8-345b463cb12f"
      },
      "execution_count": null,
      "outputs": [
        {
          "output_type": "stream",
          "name": "stdout",
          "text": [
            "True\n"
          ]
        }
      ]
    },
    {
      "cell_type": "code",
      "source": [
        "#104번 \n",
        "x = 4\n",
        "print(1 < x < 5)"
      ],
      "metadata": {
        "colab": {
          "base_uri": "https://localhost:8080/"
        },
        "id": "ILehrzo0-qTV",
        "outputId": "075a3660-4d0f-4188-e5fc-a0a6e95f89fe"
      },
      "execution_count": null,
      "outputs": [
        {
          "output_type": "stream",
          "name": "stdout",
          "text": [
            "True\n"
          ]
        }
      ]
    },
    {
      "cell_type": "code",
      "source": [
        "#105번 \n",
        "print ((3 == 3) and (4 != 3))"
      ],
      "metadata": {
        "colab": {
          "base_uri": "https://localhost:8080/"
        },
        "id": "kGQwFjhD-qM4",
        "outputId": "a8ab957f-81d7-468c-ac1f-0ac1edd25350"
      },
      "execution_count": null,
      "outputs": [
        {
          "output_type": "stream",
          "name": "stdout",
          "text": [
            "True\n"
          ]
        }
      ]
    },
    {
      "cell_type": "code",
      "source": [
        "#106번 \n",
        "print(3 => 4) \n",
        "# x >= y , x <= y 연산자만 가능"
      ],
      "metadata": {
        "colab": {
          "base_uri": "https://localhost:8080/",
          "height": 136
        },
        "id": "F_fdXp6v-qG5",
        "outputId": "3a4b97db-750b-4295-b2c1-1f8526ef67e1"
      },
      "execution_count": null,
      "outputs": [
        {
          "output_type": "error",
          "ename": "SyntaxError",
          "evalue": "ignored",
          "traceback": [
            "\u001b[0;36m  File \u001b[0;32m\"<ipython-input-6-6d63e950aa1a>\"\u001b[0;36m, line \u001b[0;32m2\u001b[0m\n\u001b[0;31m    print(3 => 4)\u001b[0m\n\u001b[0m             ^\u001b[0m\n\u001b[0;31mSyntaxError\u001b[0m\u001b[0;31m:\u001b[0m invalid syntax\n"
          ]
        }
      ]
    },
    {
      "cell_type": "code",
      "source": [
        "#107번 \n",
        "if 4 < 3:\n",
        "    print(\"Hello World\")    \n",
        "# 조건 만족이 안되기때문에 출력이 안된다.     "
      ],
      "metadata": {
        "id": "SeqsXbW6-qAx"
      },
      "execution_count": null,
      "outputs": []
    },
    {
      "cell_type": "code",
      "source": [
        "#108번 \n",
        "if 4 < 3:\n",
        "    print(\"Hello World.\")\n",
        "else:\n",
        "    print(\"Hi, there.\")\n",
        "# 4 < 3 이 미성립되므로 Hi, there이 출력된다.    "
      ],
      "metadata": {
        "id": "NDXPZKx0-p6g"
      },
      "execution_count": null,
      "outputs": []
    },
    {
      "cell_type": "code",
      "source": [
        "#109번 \n",
        "if True :\n",
        "    print (\"1\")\n",
        "    print (\"2\")\n",
        "else :\n",
        "    print(\"3\")\n",
        "print(\"4\")\n"
      ],
      "metadata": {
        "colab": {
          "base_uri": "https://localhost:8080/"
        },
        "id": "KIBk0nGa-p0J",
        "outputId": "c2305534-6b82-4598-c002-f8f03c2be06d"
      },
      "execution_count": null,
      "outputs": [
        {
          "output_type": "stream",
          "name": "stdout",
          "text": [
            "1\n",
            "2\n",
            "4\n"
          ]
        }
      ]
    },
    {
      "cell_type": "code",
      "source": [
        "#110번\n",
        "if True :\n",
        "    if False:\n",
        "        print(\"1\")\n",
        "        print(\"2\")\n",
        "    else:\n",
        "        print(\"3\")\n",
        "else :\n",
        "    print(\"4\")\n",
        "print(\"5\")"
      ],
      "metadata": {
        "colab": {
          "base_uri": "https://localhost:8080/"
        },
        "id": "6y0Y0X8j-ptD",
        "outputId": "38921878-625f-46d4-bf88-4d7b5b2418b7"
      },
      "execution_count": null,
      "outputs": [
        {
          "output_type": "stream",
          "name": "stdout",
          "text": [
            "3\n",
            "5\n"
          ]
        }
      ]
    },
    {
      "cell_type": "code",
      "source": [
        "#111번\n",
        "user = input(\"입력:\")\n",
        "print(user * 2)"
      ],
      "metadata": {
        "colab": {
          "base_uri": "https://localhost:8080/"
        },
        "id": "9nFFjaz3-pmp",
        "outputId": "1d1aa5f2-e952-42dc-dbd6-4b217629ae6e"
      },
      "execution_count": null,
      "outputs": [
        {
          "output_type": "stream",
          "name": "stdout",
          "text": [
            "입력:2\n",
            "22\n"
          ]
        }
      ]
    },
    {
      "cell_type": "code",
      "source": [
        "#112번\n",
        "user = input(\"숫자를 입력하세요:\")\n",
        "print(int(user) + 10 )"
      ],
      "metadata": {
        "colab": {
          "base_uri": "https://localhost:8080/"
        },
        "id": "wW8ydf_k-pfP",
        "outputId": "f1d9b17c-0ed9-49ce-c211-a37dd4f6a3c6"
      },
      "execution_count": null,
      "outputs": [
        {
          "output_type": "stream",
          "name": "stdout",
          "text": [
            "숫자를 입력하세요:10\n",
            "20\n"
          ]
        }
      ]
    },
    {
      "cell_type": "code",
      "source": [
        "#113번\n",
        "user = input(\"\")\n",
        "if int(user) % 2 == 0:\n",
        "  print(\"짝수\")\n",
        "else:\n",
        "  print(\"홀수\")"
      ],
      "metadata": {
        "colab": {
          "base_uri": "https://localhost:8080/"
        },
        "id": "djD72PEP-pZx",
        "outputId": "89f560e8-7392-454a-fe76-1c3564c8ef21"
      },
      "execution_count": null,
      "outputs": [
        {
          "output_type": "stream",
          "name": "stdout",
          "text": [
            "5\n",
            "홀수\n"
          ]
        }
      ]
    },
    {
      "cell_type": "code",
      "source": [
        "#114번\n",
        "user = input(\"입력값: \")\n",
        "num = 20 + int(user)\n",
        "\n",
        "if num > 255:\n",
        "  print(\"출력값:\",255)\n",
        "else:\n",
        "  print(\"출력값:\",num)"
      ],
      "metadata": {
        "colab": {
          "base_uri": "https://localhost:8080/"
        },
        "id": "8g0dOIKa-pTr",
        "outputId": "2d9b5f52-48a6-4d81-882f-98db44e4dc5b"
      },
      "execution_count": null,
      "outputs": [
        {
          "output_type": "stream",
          "name": "stdout",
          "text": [
            "입력값: 230\n",
            "출력값: 250\n"
          ]
        }
      ]
    },
    {
      "cell_type": "code",
      "source": [
        "#115번\n",
        "user = input(\"입력값: \")\n",
        "num = int(user) - 20\n",
        "\n",
        "if num < 0:\n",
        "  print(\"출력값:\",0)\n",
        "\n",
        "elif num > 255:\n",
        "  print(\"출력값:\",255)\n",
        "\n",
        "else:\n",
        "  print(\"출력값:\", num)"
      ],
      "metadata": {
        "colab": {
          "base_uri": "https://localhost:8080/"
        },
        "id": "BNCE4Usg-pNx",
        "outputId": "9a2227d4-699a-435b-f992-eddafe304348"
      },
      "execution_count": null,
      "outputs": [
        {
          "output_type": "stream",
          "name": "stdout",
          "text": [
            "입력값: 25\n",
            "출력값: 5\n"
          ]
        }
      ]
    },
    {
      "cell_type": "code",
      "source": [
        "#116번 \n",
        "time = input(\"현재시간: \")\n",
        "if time[-2:] == \"00\":\n",
        "    print(\"정각 입니다.\")\n",
        "else:\n",
        "    print(\"정각이 아닙니다.\")"
      ],
      "metadata": {
        "id": "eLx88G3h-pH3",
        "colab": {
          "base_uri": "https://localhost:8080/"
        },
        "outputId": "67e514a0-a995-4b9f-e65b-26ec48134302"
      },
      "execution_count": null,
      "outputs": [
        {
          "output_type": "stream",
          "name": "stdout",
          "text": [
            "현재시간: 12:00\n",
            "정각 입니다.\n"
          ]
        }
      ]
    },
    {
      "cell_type": "code",
      "source": [
        "#117번\n",
        "fruit = [\"사과\", \"포도\", \"홍시\"]\n",
        "user = input(\"좋아하는 과일은?\")\n",
        "\n",
        "if user in fruit:\n",
        "  print(\"정답입니다.\")\n",
        "else:\n",
        "  print(\"오답입니다.\")\n"
      ],
      "metadata": {
        "id": "F74fx3nN-pCy",
        "colab": {
          "base_uri": "https://localhost:8080/"
        },
        "outputId": "18b88f09-830a-4bfd-c8c3-5043810b1daf"
      },
      "execution_count": null,
      "outputs": [
        {
          "output_type": "stream",
          "name": "stdout",
          "text": [
            "좋아하는 과일은?수박\n",
            "오답입니다.\n"
          ]
        }
      ]
    },
    {
      "cell_type": "code",
      "source": [
        "#118번\n",
        "warn_investment_list = [\"Microsoft\", \"Google\", \"Naver\", \"Kakao\", \"SAMSUNG\", \"LG\"]\n",
        "user = input(\"종목명:\")\n",
        "\n",
        "if user in warn_investment_list:\n",
        "  print(\"투자 경고 종목입니다.\")\n",
        "else:\n",
        "  print(\"투자 경고 종목이 아닙니다.\")"
      ],
      "metadata": {
        "id": "GQ8u94yq-o9q",
        "colab": {
          "base_uri": "https://localhost:8080/"
        },
        "outputId": "113a7b5f-120f-41a0-dc98-2ee58dbae6be"
      },
      "execution_count": null,
      "outputs": [
        {
          "output_type": "stream",
          "name": "stdout",
          "text": [
            "종목명:Naver\n",
            "투자 경고 종목입니다.\n"
          ]
        }
      ]
    },
    {
      "cell_type": "code",
      "source": [
        "#119번\n",
        "fruit = {\"봄\" : \"딸기\", \"여름\" : \"토마토\", \"가을\" : \"사과\"}\n",
        "user = input(\"제가 좋아하는 계절은:\" )\n",
        "if user in fruit.keys():\n",
        "  print(\"정답입니다.\")\n",
        "else:\n",
        "  print(\"오답입니다.\")"
      ],
      "metadata": {
        "id": "7FB2Q8fj-o48",
        "colab": {
          "base_uri": "https://localhost:8080/"
        },
        "outputId": "4d3fbd2c-2961-471b-f3fe-2966c60fc466"
      },
      "execution_count": null,
      "outputs": [
        {
          "output_type": "stream",
          "name": "stdout",
          "text": [
            "제가 좋아하는 계절은:가을\n",
            "정답입니다.\n"
          ]
        }
      ]
    },
    {
      "cell_type": "code",
      "source": [
        "#120번\n",
        "fruit = {\"봄\" : \"딸기\", \"여름\" : \"토마토\", \"가을\" : \"사과\"}\n",
        "user = input(\"좋아하는 과일은?\")\n",
        "\n",
        "if user in fruit.values():\n",
        "  print(\"정답입니다.\")\n",
        "else:\n",
        "   print(\"오답입니다.\") "
      ],
      "metadata": {
        "id": "4XWBHGfJ-o0A",
        "colab": {
          "base_uri": "https://localhost:8080/"
        },
        "outputId": "57af7cd6-a2b4-4348-fc7b-5aa1adcacad0"
      },
      "execution_count": null,
      "outputs": [
        {
          "output_type": "stream",
          "name": "stdout",
          "text": [
            "좋아하는 과일은?수박\n",
            "오답입니다.\n"
          ]
        }
      ]
    },
    {
      "cell_type": "code",
      "source": [
        "#121번\n",
        "user = input(\"\")\n",
        "\n",
        "if user.islower():\n",
        "  print(user.upper())\n",
        "else:\n",
        "  print(user.lower())"
      ],
      "metadata": {
        "id": "87I8olIv-ovc",
        "colab": {
          "base_uri": "https://localhost:8080/"
        },
        "outputId": "7874a074-f8de-4362-e88a-564b35dafcd7"
      },
      "execution_count": null,
      "outputs": [
        {
          "output_type": "stream",
          "name": "stdout",
          "text": [
            "A\n",
            "a\n"
          ]
        }
      ]
    },
    {
      "cell_type": "code",
      "source": [
        "#122번\n",
        "user = input(\"score:\" )\n",
        "\n",
        "if 81 <= int(user) <= 100:\n",
        "  print(\"grade is A\")\n",
        "elif 61 <= int(user) <= 80:\n",
        "  print(\"grade is B\")\n",
        "elif 41 <= int(user) <= 60:\n",
        "  print(\"grade is C\")\n",
        "elif 21 <= int(user) <= 40:\n",
        "  print(\"grade is D\")\n",
        "else:\n",
        "  print(\"grase is E\")        \n"
      ],
      "metadata": {
        "id": "25misX1G-oqO",
        "colab": {
          "base_uri": "https://localhost:8080/"
        },
        "outputId": "c33cdb99-c128-4105-9f50-662f26ee3661"
      },
      "execution_count": null,
      "outputs": [
        {
          "output_type": "stream",
          "name": "stdout",
          "text": [
            "score:99\n",
            "grade is A\n"
          ]
        }
      ]
    },
    {
      "cell_type": "code",
      "source": [
        "#123번 안됨   "
      ],
      "metadata": {
        "id": "cMQxIkrK-olq"
      },
      "execution_count": 1,
      "outputs": []
    },
    {
      "cell_type": "code",
      "source": [
        "#124번\n",
        "num1 = input(\"input number1:\" )\n",
        "num2 = input(\"input number2:\")\n",
        "num3 = input(\"input number3:\")\n",
        "num1 = int(num1)\n",
        "num2 = int(num2)\n",
        "num3 = int(num3)\n",
        "\n",
        "if num1 >= num2 and num1 >= num3:\n",
        "  print(num1)\n",
        "elif num2 >= num1 and num2 >= num3:\n",
        "  print(num2)\n",
        "else:\n",
        "  print(num3)\n",
        "   "
      ],
      "metadata": {
        "id": "hFdooTKE-ohK",
        "colab": {
          "base_uri": "https://localhost:8080/"
        },
        "outputId": "34321780-b459-4d4a-ebf8-eb49144863c8"
      },
      "execution_count": null,
      "outputs": [
        {
          "output_type": "stream",
          "name": "stdout",
          "text": [
            "input number1:2\n",
            "input number2:4\n",
            "input number3:6\n",
            "6\n"
          ]
        }
      ]
    },
    {
      "cell_type": "code",
      "source": [
        "#125번\n",
        "num = input(\"휴대전화 번호 입력: \")\n",
        "num = num.split(\"-\")[0]\n",
        "if num == \"011\":\n",
        "   tel = \"SKT\"\n",
        "elif num == \"016\":\n",
        "   tel = \"KT\"   \n",
        "elif num == \"019\":\n",
        "   tel = \"LGU\"\n",
        "else:\n",
        "   tel = \"알수없음\"\n",
        "print(f\"당신은 {tel} 사용자입니다.\")    "
      ],
      "metadata": {
        "id": "_Gg33k0Z-ocY",
        "colab": {
          "base_uri": "https://localhost:8080/"
        },
        "outputId": "e953a8b7-6081-4c59-d2c6-fb0bbb9f626d"
      },
      "execution_count": null,
      "outputs": [
        {
          "output_type": "stream",
          "name": "stdout",
          "text": [
            "휴대전화 번호 입력: 011-2222-2222\n",
            "당신은 SKT 사용자입니다.\n"
          ]
        }
      ]
    },
    {
      "cell_type": "code",
      "source": [
        "#126번\n",
        "num = input(\"우편번호: \")\n",
        "num = num[:3]\n",
        "\n",
        "if num in [\"010\", \"011\", \"012\"]:\n",
        "  print(\"강북구\")\n",
        "elif num in[\"014\", \"015\", \"016\"]:\n",
        "  print(\"도봉구\")\n",
        "else:\n",
        "  print(\"노원구\")    "
      ],
      "metadata": {
        "id": "cyPfxdYI-oXY",
        "colab": {
          "base_uri": "https://localhost:8080/"
        },
        "outputId": "29c8c190-6a6b-4dcd-93c2-b8d2474fee7c"
      },
      "execution_count": null,
      "outputs": [
        {
          "output_type": "stream",
          "name": "stdout",
          "text": [
            "우편번호: 018\n",
            "노원구\n"
          ]
        }
      ]
    },
    {
      "cell_type": "code",
      "source": [
        "#127번\n",
        "주민번호 = input(\"주민등록번호: \")\n",
        "주민번호 = 주민번호.split(\"-\")[1]\n",
        "if 주민번호[0] == \"1\" or 주민번호[0] == \"3\":\n",
        "    print(\"남자\")\n",
        "else:\n",
        "    print(\"여자\")"
      ],
      "metadata": {
        "id": "00D9rYVT-oRv",
        "colab": {
          "base_uri": "https://localhost:8080/"
        },
        "outputId": "7b223398-aac9-4699-c777-d34df8240558"
      },
      "execution_count": null,
      "outputs": [
        {
          "output_type": "stream",
          "name": "stdout",
          "text": [
            "주민등록번호: 821010-1635210\n",
            "남자\n"
          ]
        }
      ]
    },
    {
      "cell_type": "code",
      "source": [
        "#128번\n",
        "주민번호 = input(\"주민등록번호: \")\n",
        "뒷자리 = 주민번호.split(\"-\")[1]\n",
        "if 0 <= int(뒷자리[1:3]) <= 8:\n",
        "    print(\"서울입니다.\")\n",
        "else:\n",
        "    print(\"서울이 아닙니다.\")"
      ],
      "metadata": {
        "id": "NeeYcAeV-oLn",
        "colab": {
          "base_uri": "https://localhost:8080/"
        },
        "outputId": "82596568-36fb-4379-93a3-61b14133d815"
      },
      "execution_count": null,
      "outputs": [
        {
          "output_type": "stream",
          "name": "stdout",
          "text": [
            "주민등록번호: 861010-1015210\n",
            "서울입니다.\n"
          ]
        }
      ]
    },
    {
      "cell_type": "code",
      "source": [
        "#129번 어려움"
      ],
      "metadata": {
        "id": "1zc2bEmj-oCu"
      },
      "execution_count": null,
      "outputs": []
    },
    {
      "cell_type": "code",
      "source": [
        "#130번 어려움 "
      ],
      "metadata": {
        "id": "1kRmUfV--n2R"
      },
      "execution_count": null,
      "outputs": []
    },
    {
      "cell_type": "markdown",
      "source": [
        "## 반복문\n",
        "- 131번 ~ 150번 "
      ],
      "metadata": {
        "id": "p2iHU1pKCeKU"
      }
    },
    {
      "cell_type": "code",
      "source": [
        "#131번 리스트에 있는 목록 나온다.\n",
        "과일 = [\"사과\", \"귤\", \"수박\"]\n",
        "for 변수 in 과일:\n",
        "    print(변수)"
      ],
      "metadata": {
        "colab": {
          "base_uri": "https://localhost:8080/"
        },
        "id": "Y3y0ltdSCkpg",
        "outputId": "70449284-2519-4690-fe3f-8955b2aec0bf"
      },
      "execution_count": null,
      "outputs": [
        {
          "output_type": "stream",
          "name": "stdout",
          "text": [
            "사과\n",
            "귤\n",
            "수박\n"
          ]
        }
      ]
    },
    {
      "cell_type": "code",
      "source": [
        "#132번 for문 핵심은 \"들여쓰기된 코드가 자료구조에 저장된 데이터 개수만큼 반복된다\" \n",
        "# 과일이 3가지 종류이므로 #####이 3번 반복\n",
        "과일 = [\"사과\", \"귤\", \"수박\"]\n",
        "for 변수 in 과일:\n",
        "  print(\"#####\")"
      ],
      "metadata": {
        "colab": {
          "base_uri": "https://localhost:8080/"
        },
        "id": "G_qeyQqxCmni",
        "outputId": "1a5d30b6-bf67-4cdb-fd9c-26674a7fe400"
      },
      "execution_count": null,
      "outputs": [
        {
          "output_type": "stream",
          "name": "stdout",
          "text": [
            "#####\n",
            "#####\n",
            "#####\n"
          ]
        }
      ]
    },
    {
      "cell_type": "code",
      "source": [
        "#133번\n",
        "변수 = \"A\"\n",
        "print(변수)\n",
        "변수 = \"B\"\n",
        "print(변수)\n",
        "변수 = \"C\"\n",
        "print(변수)"
      ],
      "metadata": {
        "id": "SjAu9f-gCmiZ",
        "colab": {
          "base_uri": "https://localhost:8080/"
        },
        "outputId": "e158b5bc-a29c-4a04-9266-772d7914cd8f"
      },
      "execution_count": 3,
      "outputs": [
        {
          "output_type": "stream",
          "name": "stdout",
          "text": [
            "A\n",
            "B\n",
            "C\n"
          ]
        }
      ]
    },
    {
      "cell_type": "code",
      "source": [
        "#134번\n",
        "print(\"출력:\", \"A\")\n"
      ],
      "metadata": {
        "id": "KnrOYZx7CmdK",
        "colab": {
          "base_uri": "https://localhost:8080/"
        },
        "outputId": "e4af9008-177d-42ad-cf54-d15ae353d919"
      },
      "execution_count": 4,
      "outputs": [
        {
          "output_type": "stream",
          "name": "stdout",
          "text": [
            "출력: A\n",
            "출력: B\n",
            "출력: C\n"
          ]
        }
      ]
    },
    {
      "cell_type": "code",
      "source": [
        "#135번\n",
        "print(\"변환:\", \"A\".lower())\n",
        "print(\"변환:\", \"B\".lower())\n",
        "print(\"변환:\", \"C\".lower())"
      ],
      "metadata": {
        "id": "UTQwrgKgCmXa",
        "colab": {
          "base_uri": "https://localhost:8080/"
        },
        "outputId": "b89b1f63-371c-44bd-b6a1-8cbbc6072d6d"
      },
      "execution_count": 7,
      "outputs": [
        {
          "output_type": "stream",
          "name": "stdout",
          "text": [
            "변환: a\n",
            "변환: b\n",
            "변환: c\n"
          ]
        }
      ]
    },
    {
      "cell_type": "code",
      "source": [
        "#136번\n",
        "for 변수 in [ 10, 20, 30]:\n",
        "  print(변수)"
      ],
      "metadata": {
        "id": "fRcvtjiVCmQv",
        "colab": {
          "base_uri": "https://localhost:8080/"
        },
        "outputId": "92ec2ecb-9f2c-4f4f-cae3-9bccef6ea269"
      },
      "execution_count": 9,
      "outputs": [
        {
          "output_type": "stream",
          "name": "stdout",
          "text": [
            "10\n",
            "20\n",
            "30\n"
          ]
        }
      ]
    },
    {
      "cell_type": "code",
      "source": [
        "#137번\n",
        "for 변수 in [ 10, 20, 30]:\n",
        "  print(변수)"
      ],
      "metadata": {
        "id": "HibA8smgCmLP",
        "colab": {
          "base_uri": "https://localhost:8080/"
        },
        "outputId": "766f4212-aca1-4db5-b21f-15c597a87b94"
      },
      "execution_count": 11,
      "outputs": [
        {
          "output_type": "stream",
          "name": "stdout",
          "text": [
            "10\n",
            "20\n",
            "30\n"
          ]
        }
      ]
    },
    {
      "cell_type": "code",
      "source": [
        "#138번\n",
        "for 변수 in [ 10, 20, 30]:\n",
        "  print(변수)\n",
        "  print(\"-------\")"
      ],
      "metadata": {
        "id": "Cf4wBFVTCmFa",
        "colab": {
          "base_uri": "https://localhost:8080/"
        },
        "outputId": "7d7750c6-cc7a-4c73-fb0c-5274228d4519"
      },
      "execution_count": 17,
      "outputs": [
        {
          "output_type": "stream",
          "name": "stdout",
          "text": [
            "10\n",
            "-------\n",
            "20\n",
            "-------\n",
            "30\n",
            "-------\n"
          ]
        }
      ]
    },
    {
      "cell_type": "code",
      "source": [
        "#139번\n",
        "print(\"++++\")\n",
        "for 변수 in [ 10, 20, 30]: \n",
        "  print(변수)"
      ],
      "metadata": {
        "id": "vgNp9R5aCmAB",
        "colab": {
          "base_uri": "https://localhost:8080/"
        },
        "outputId": "2e62141b-54e4-4fe8-ab7a-bd6a940b41e5"
      },
      "execution_count": 21,
      "outputs": [
        {
          "output_type": "stream",
          "name": "stdout",
          "text": [
            "++++\n",
            "10\n",
            "20\n",
            "30\n"
          ]
        }
      ]
    },
    {
      "cell_type": "code",
      "source": [
        "#140번 for문은 들여쓰기된 코드가 데이테 개수만큼 반복된다. \n",
        "for 변수 in [1, 2, 3, 4]:\n",
        "  print(\"-------\")\n"
      ],
      "metadata": {
        "id": "_Gao5-8ICl7G",
        "colab": {
          "base_uri": "https://localhost:8080/"
        },
        "outputId": "3703add1-0e69-4a51-c1f5-11a3a0bef306"
      },
      "execution_count": 22,
      "outputs": [
        {
          "output_type": "stream",
          "name": "stdout",
          "text": [
            "-------\n",
            "-------\n",
            "-------\n",
            "-------\n"
          ]
        }
      ]
    },
    {
      "cell_type": "code",
      "source": [
        "#141번\n",
        "for 리스트 in [100, 200, 300]:\n",
        "  print(리스트 + 10)\n"
      ],
      "metadata": {
        "id": "cS61t_YhCl2b",
        "colab": {
          "base_uri": "https://localhost:8080/"
        },
        "outputId": "a8f05ab1-cec8-453f-d624-f476576a1cf6"
      },
      "execution_count": 23,
      "outputs": [
        {
          "output_type": "stream",
          "name": "stdout",
          "text": [
            "110\n",
            "210\n",
            "310\n"
          ]
        }
      ]
    },
    {
      "cell_type": "code",
      "source": [
        "#142번\n",
        "for 리스트 in [\"김밥\", \"라면\", \"튀김\"]:\n",
        "  print(\"오늘의 메뉴: \",리스트)"
      ],
      "metadata": {
        "id": "1udAMjemClxV",
        "colab": {
          "base_uri": "https://localhost:8080/"
        },
        "outputId": "17988c01-d076-47a5-e339-c382364e15c8"
      },
      "execution_count": 24,
      "outputs": [
        {
          "output_type": "stream",
          "name": "stdout",
          "text": [
            "오늘의 메뉴:  김밥\n",
            "오늘의 메뉴:  라면\n",
            "오늘의 메뉴:  튀김\n"
          ]
        }
      ]
    },
    {
      "cell_type": "code",
      "source": [
        "#143번\n",
        "리스트 = [\"SK하이닉스\", \"삼성전자\", \"LG전자\"]\n",
        "for 주식 in 리스트 :\n",
        "  print(len(주식))"
      ],
      "metadata": {
        "id": "_bCRLa2WClsi",
        "colab": {
          "base_uri": "https://localhost:8080/"
        },
        "outputId": "57615d1a-cb48-440b-ad94-7d4680a8f86b"
      },
      "execution_count": 29,
      "outputs": [
        {
          "output_type": "stream",
          "name": "stdout",
          "text": [
            "6\n",
            "4\n",
            "4\n"
          ]
        }
      ]
    },
    {
      "cell_type": "code",
      "source": [
        "#144번\n",
        "리스트 = ['dog', 'cat', 'parrot']\n",
        "for 동물 in 리스트:\n",
        "  print(동물, len(리스트))"
      ],
      "metadata": {
        "id": "fZ8B0OesCln4",
        "colab": {
          "base_uri": "https://localhost:8080/"
        },
        "outputId": "dc32e45c-852d-4c2a-993f-97a6c9f776f6"
      },
      "execution_count": 30,
      "outputs": [
        {
          "output_type": "stream",
          "name": "stdout",
          "text": [
            "dog 3\n",
            "cat 3\n",
            "parrot 3\n"
          ]
        }
      ]
    },
    {
      "cell_type": "code",
      "source": [
        "#145번\n",
        "리스트 = ['dog', 'cat', 'parrot']\n",
        "for 동물 in 리스트:\n",
        "  print(동물[0])"
      ],
      "metadata": {
        "id": "iysrp91KCli_",
        "colab": {
          "base_uri": "https://localhost:8080/"
        },
        "outputId": "a088b30a-2833-42c9-d66a-1c7e4a7a2435"
      },
      "execution_count": 32,
      "outputs": [
        {
          "output_type": "stream",
          "name": "stdout",
          "text": [
            "d\n",
            "c\n",
            "p\n"
          ]
        }
      ]
    },
    {
      "cell_type": "code",
      "source": [
        "#146번\n",
        "리스트 = [1, 2, 3]\n",
        "for 곱셈 in 리스트:\n",
        "  print(\"3 x\",곱셈)"
      ],
      "metadata": {
        "id": "hKIruRvCCldc",
        "colab": {
          "base_uri": "https://localhost:8080/"
        },
        "outputId": "6bd5bd41-11eb-4c5a-c056-7472de9ca3fd"
      },
      "execution_count": 35,
      "outputs": [
        {
          "output_type": "stream",
          "name": "stdout",
          "text": [
            "3 x 1\n",
            "3 x 2\n",
            "3 x 3\n"
          ]
        }
      ]
    },
    {
      "cell_type": "code",
      "source": [
        "#147번\n",
        "리스트 = [1, 2, 3]\n",
        "for 곱셈 in 리스트:\n",
        "  print(\"3 x\",곱셈,\"=\",3 * 곱셈)"
      ],
      "metadata": {
        "id": "kbP9-DlVClXR",
        "colab": {
          "base_uri": "https://localhost:8080/"
        },
        "outputId": "6beed9e7-261f-46e9-ff5a-11991e408cbc"
      },
      "execution_count": 39,
      "outputs": [
        {
          "output_type": "stream",
          "name": "stdout",
          "text": [
            "3 x 1 = 3\n",
            "3 x 2 = 6\n",
            "3 x 3 = 9\n"
          ]
        }
      ]
    },
    {
      "cell_type": "code",
      "source": [
        "#148번\n",
        "리스트 = [\"가\", \"나\", \"다\", \"라\"]\n",
        "for 한글 in 리스트[1:]:\n",
        "  print(한글)"
      ],
      "metadata": {
        "id": "__ZvBlzLClRP",
        "colab": {
          "base_uri": "https://localhost:8080/"
        },
        "outputId": "2e5469f2-7edd-4516-d2c2-ad23edabd229"
      },
      "execution_count": 40,
      "outputs": [
        {
          "output_type": "stream",
          "name": "stdout",
          "text": [
            "나\n",
            "다\n",
            "라\n"
          ]
        }
      ]
    },
    {
      "cell_type": "code",
      "source": [
        "#149번\n",
        "리스트 = [\"가\", \"나\", \"다\", \"라\"]\n",
        "for 한글 in 리스트[::2]:\n",
        "  print(한글)"
      ],
      "metadata": {
        "id": "9Ti5mGMRClK2",
        "colab": {
          "base_uri": "https://localhost:8080/"
        },
        "outputId": "9526cafd-012a-40b3-91fa-e31d38546ceb"
      },
      "execution_count": 41,
      "outputs": [
        {
          "output_type": "stream",
          "name": "stdout",
          "text": [
            "가\n",
            "다\n"
          ]
        }
      ]
    },
    {
      "cell_type": "code",
      "source": [
        "#150번 \n",
        "리스트 = [\"가\", \"나\", \"다\", \"라\"]\n",
        "for 한글 in 리스트[::-1]:\n",
        "  print(한글)\n",
        " "
      ],
      "metadata": {
        "id": "0YwDY76GClBH",
        "colab": {
          "base_uri": "https://localhost:8080/"
        },
        "outputId": "d36c013f-bd2a-46d1-9e8f-cdb467f207a9"
      },
      "execution_count": 42,
      "outputs": [
        {
          "output_type": "stream",
          "name": "stdout",
          "text": [
            "라\n",
            "다\n",
            "나\n",
            "가\n"
          ]
        }
      ]
    }
  ]
}