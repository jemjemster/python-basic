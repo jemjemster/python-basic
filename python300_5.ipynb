{
  "nbformat": 4,
  "nbformat_minor": 0,
  "metadata": {
    "colab": {
      "name": "python300-5.ipynb",
      "provenance": [],
      "collapsed_sections": [],
      "authorship_tag": "ABX9TyMSl0YNXjAvav8KlaL0S4C3"
    },
    "kernelspec": {
      "name": "python3",
      "display_name": "Python 3"
    },
    "language_info": {
      "name": "python"
    }
  },
  "cells": [
    {
      "cell_type": "markdown",
      "source": [
        "## 파이썬 함수\n",
        "- 201번 ~ 240번 "
      ],
      "metadata": {
        "id": "qQ2qwSOkidlm"
      }
    },
    {
      "cell_type": "code",
      "execution_count": 3,
      "metadata": {
        "id": "3NhZUBTIiBtQ"
      },
      "outputs": [],
      "source": [
        "# 201번 def() : 긴코드 짧게 축약할 때, 마법의 모자, 함수 쓰고 그 자리에 값 남기기\n",
        "def print_coin():\n",
        "    print(\"비트코인\")"
      ]
    },
    {
      "cell_type": "code",
      "source": [
        "# 202번\n",
        "print_coin()"
      ],
      "metadata": {
        "colab": {
          "base_uri": "https://localhost:8080/"
        },
        "id": "CDF6ASCfiowZ",
        "outputId": "036830d1-a2e1-4a35-c465-e2632934f339"
      },
      "execution_count": 4,
      "outputs": [
        {
          "output_type": "stream",
          "name": "stdout",
          "text": [
            "비트코인\n"
          ]
        }
      ]
    },
    {
      "cell_type": "code",
      "source": [
        "# 203번 100번 출력 for,range 사용\n",
        "#for 변수 in range(횟수):\n",
        "#     반복할 코드\n",
        "for i in range(100):\n",
        "    print_coin()"
      ],
      "metadata": {
        "colab": {
          "base_uri": "https://localhost:8080/"
        },
        "id": "k0X67WkFiopY",
        "outputId": "b02c46f8-20ec-4fe3-aa9c-78627377a86e"
      },
      "execution_count": 5,
      "outputs": [
        {
          "output_type": "stream",
          "name": "stdout",
          "text": [
            "비트코인\n",
            "비트코인\n",
            "비트코인\n",
            "비트코인\n",
            "비트코인\n",
            "비트코인\n",
            "비트코인\n",
            "비트코인\n",
            "비트코인\n",
            "비트코인\n",
            "비트코인\n",
            "비트코인\n",
            "비트코인\n",
            "비트코인\n",
            "비트코인\n",
            "비트코인\n",
            "비트코인\n",
            "비트코인\n",
            "비트코인\n",
            "비트코인\n",
            "비트코인\n",
            "비트코인\n",
            "비트코인\n",
            "비트코인\n",
            "비트코인\n",
            "비트코인\n",
            "비트코인\n",
            "비트코인\n",
            "비트코인\n",
            "비트코인\n",
            "비트코인\n",
            "비트코인\n",
            "비트코인\n",
            "비트코인\n",
            "비트코인\n",
            "비트코인\n",
            "비트코인\n",
            "비트코인\n",
            "비트코인\n",
            "비트코인\n",
            "비트코인\n",
            "비트코인\n",
            "비트코인\n",
            "비트코인\n",
            "비트코인\n",
            "비트코인\n",
            "비트코인\n",
            "비트코인\n",
            "비트코인\n",
            "비트코인\n",
            "비트코인\n",
            "비트코인\n",
            "비트코인\n",
            "비트코인\n",
            "비트코인\n",
            "비트코인\n",
            "비트코인\n",
            "비트코인\n",
            "비트코인\n",
            "비트코인\n",
            "비트코인\n",
            "비트코인\n",
            "비트코인\n",
            "비트코인\n",
            "비트코인\n",
            "비트코인\n",
            "비트코인\n",
            "비트코인\n",
            "비트코인\n",
            "비트코인\n",
            "비트코인\n",
            "비트코인\n",
            "비트코인\n",
            "비트코인\n",
            "비트코인\n",
            "비트코인\n",
            "비트코인\n",
            "비트코인\n",
            "비트코인\n",
            "비트코인\n",
            "비트코인\n",
            "비트코인\n",
            "비트코인\n",
            "비트코인\n",
            "비트코인\n",
            "비트코인\n",
            "비트코인\n",
            "비트코인\n",
            "비트코인\n",
            "비트코인\n",
            "비트코인\n",
            "비트코인\n",
            "비트코인\n",
            "비트코인\n",
            "비트코인\n",
            "비트코인\n",
            "비트코인\n",
            "비트코인\n",
            "비트코인\n",
            "비트코인\n"
          ]
        }
      ]
    },
    {
      "cell_type": "code",
      "source": [
        "# 204번\n",
        "def print_coins():\n",
        "    for i in range(100):\n",
        "      print(\"비트코인\")"
      ],
      "metadata": {
        "id": "1e1BFTd3iohC"
      },
      "execution_count": 7,
      "outputs": []
    },
    {
      "cell_type": "code",
      "source": [
        "# 205번 함수 정의한 후 출력해야 함\n",
        "hello()\n",
        "def hello():\n",
        "    print(\"Hi\")"
      ],
      "metadata": {
        "id": "qs69FURcioYN",
        "colab": {
          "base_uri": "https://localhost:8080/",
          "height": 227
        },
        "outputId": "54a18ede-d370-4f1d-89a6-15b09a78363c"
      },
      "execution_count": 8,
      "outputs": [
        {
          "output_type": "error",
          "ename": "NameError",
          "evalue": "ignored",
          "traceback": [
            "\u001b[0;31m---------------------------------------------------------------------------\u001b[0m",
            "\u001b[0;31mNameError\u001b[0m                                 Traceback (most recent call last)",
            "\u001b[0;32m<ipython-input-8-d068962c5fa8>\u001b[0m in \u001b[0;36m<module>\u001b[0;34m()\u001b[0m\n\u001b[1;32m      1\u001b[0m \u001b[0;31m# 205번\u001b[0m\u001b[0;34m\u001b[0m\u001b[0;34m\u001b[0m\u001b[0;34m\u001b[0m\u001b[0m\n\u001b[0;32m----> 2\u001b[0;31m \u001b[0mhello\u001b[0m\u001b[0;34m(\u001b[0m\u001b[0;34m)\u001b[0m\u001b[0;34m\u001b[0m\u001b[0;34m\u001b[0m\u001b[0m\n\u001b[0m\u001b[1;32m      3\u001b[0m \u001b[0;32mdef\u001b[0m \u001b[0mhello\u001b[0m\u001b[0;34m(\u001b[0m\u001b[0;34m)\u001b[0m\u001b[0;34m:\u001b[0m\u001b[0;34m\u001b[0m\u001b[0;34m\u001b[0m\u001b[0m\n\u001b[1;32m      4\u001b[0m     \u001b[0mprint\u001b[0m\u001b[0;34m(\u001b[0m\u001b[0;34m\"Hi\"\u001b[0m\u001b[0;34m)\u001b[0m\u001b[0;34m\u001b[0m\u001b[0;34m\u001b[0m\u001b[0m\n",
            "\u001b[0;31mNameError\u001b[0m: name 'hello' is not defined"
          ]
        }
      ]
    },
    {
      "cell_type": "code",
      "source": [
        "# 206번\n",
        "def message() :\n",
        "    print(\"A\")\n",
        "    print(\"B\")\n",
        "\n",
        "message()\n",
        "print(\"C\")\n",
        "message()"
      ],
      "metadata": {
        "id": "2Qty-5EhioL_",
        "colab": {
          "base_uri": "https://localhost:8080/"
        },
        "outputId": "6a01c0d3-3e9d-4eda-ea53-78f8a2003c38"
      },
      "execution_count": 9,
      "outputs": [
        {
          "output_type": "stream",
          "name": "stdout",
          "text": [
            "A\n",
            "B\n",
            "C\n",
            "A\n",
            "B\n"
          ]
        }
      ]
    },
    {
      "cell_type": "code",
      "source": [
        "# 207번 print() 출력 이후 message() 정의된거 출력\n",
        "print(\"A\")\n",
        "\n",
        "def message() :\n",
        "    print(\"B\")\n",
        "\n",
        "print(\"C\")\n",
        "message()"
      ],
      "metadata": {
        "id": "vxb9LMNjioC2",
        "colab": {
          "base_uri": "https://localhost:8080/"
        },
        "outputId": "feb99005-6410-456b-e694-35569a7c698c"
      },
      "execution_count": 10,
      "outputs": [
        {
          "output_type": "stream",
          "name": "stdout",
          "text": [
            "A\n",
            "C\n",
            "B\n"
          ]
        }
      ]
    },
    {
      "cell_type": "code",
      "source": [
        "# 208번 message() 정의는 출력된게 아님 print() / message() 순서에 맞게 출력. \n",
        "print(\"A\")\n",
        "def message1() :\n",
        "    print(\"B\")\n",
        "print(\"C\")\n",
        "def message2() :\n",
        "    print(\"D\")\n",
        "message1()\n",
        "print(\"E\")\n",
        "message2()"
      ],
      "metadata": {
        "id": "m9SNKYWpin4s",
        "colab": {
          "base_uri": "https://localhost:8080/"
        },
        "outputId": "d0464675-c768-4ead-960b-7c77b4212a88"
      },
      "execution_count": 11,
      "outputs": [
        {
          "output_type": "stream",
          "name": "stdout",
          "text": [
            "A\n",
            "C\n",
            "B\n",
            "E\n",
            "D\n"
          ]
        }
      ]
    },
    {
      "cell_type": "code",
      "source": [
        "# 209번 message2 먼저 출력되고 message1 출력\n",
        "def message1():\n",
        "    print(\"A\")\n",
        "\n",
        "def message2():\n",
        "    print(\"B\")\n",
        "    message1()\n",
        "\n",
        "message2()"
      ],
      "metadata": {
        "id": "Nh4TtYNoinv1",
        "colab": {
          "base_uri": "https://localhost:8080/"
        },
        "outputId": "ba91cb8e-581a-4471-cbff-f02849fdcd0f"
      },
      "execution_count": 12,
      "outputs": [
        {
          "output_type": "stream",
          "name": "stdout",
          "text": [
            "B\n",
            "A\n"
          ]
        }
      ]
    },
    {
      "cell_type": "code",
      "source": [
        "# 210번\n",
        "def message1():\n",
        "    print(\"A\")\n",
        "\n",
        "def message2():\n",
        "    print(\"B\")\n",
        "\n",
        "def message3():\n",
        "    for i in range (3) :\n",
        "        message2()\n",
        "        print(\"C\")\n",
        "    message1()\n",
        "\n",
        "message3()"
      ],
      "metadata": {
        "id": "dvmC3CJRinj2",
        "colab": {
          "base_uri": "https://localhost:8080/"
        },
        "outputId": "7c1c2a93-1007-4332-ce79-b563b23dd5ba"
      },
      "execution_count": 13,
      "outputs": [
        {
          "output_type": "stream",
          "name": "stdout",
          "text": [
            "B\n",
            "C\n",
            "B\n",
            "C\n",
            "B\n",
            "C\n",
            "A\n"
          ]
        }
      ]
    },
    {
      "cell_type": "code",
      "source": [
        "# 211번 순서대로 안녕,Hi가 나옴\n",
        "def 함수(문자열) :\n",
        "    print(문자열)\n",
        "\n",
        "함수(\"안녕\")\n",
        "함수(\"Hi\")"
      ],
      "metadata": {
        "id": "UzOQCrOhinck",
        "colab": {
          "base_uri": "https://localhost:8080/"
        },
        "outputId": "653006a3-526d-473c-cab5-9373e05c5863"
      },
      "execution_count": 14,
      "outputs": [
        {
          "output_type": "stream",
          "name": "stdout",
          "text": [
            "안녕\n",
            "Hi\n"
          ]
        }
      ]
    },
    {
      "cell_type": "code",
      "source": [
        "# 212번 a와b를 더한 값이 나옴\n",
        "def 함수(a, b) :\n",
        "    print(a + b)\n",
        "\n",
        "함수(3, 4)\n",
        "함수(7, 8)"
      ],
      "metadata": {
        "id": "ePuUi6yCinVA",
        "colab": {
          "base_uri": "https://localhost:8080/"
        },
        "outputId": "dbc70af5-785f-44d4-fa21-88499a6fa79d"
      },
      "execution_count": 15,
      "outputs": [
        {
          "output_type": "stream",
          "name": "stdout",
          "text": [
            "7\n",
            "15\n"
          ]
        }
      ]
    },
    {
      "cell_type": "code",
      "source": [
        "# 213번 에러가 안 나는데..함수 호출할 때 하나의 파라미터 입력해야함(기억!)\n",
        "def 함수(문자열) :\n",
        "    print(문자열)"
      ],
      "metadata": {
        "id": "a1jiWwBTinOw"
      },
      "execution_count": 17,
      "outputs": []
    },
    {
      "cell_type": "code",
      "source": [
        "# 214번 문자열과 숫자는 계산할 수 없다,\n",
        "def 함수(a, b) :\n",
        "    print(a + b)\n",
        "\n",
        "함수(\"안녕\", 3)"
      ],
      "metadata": {
        "id": "JeaHw5GEinIg",
        "colab": {
          "base_uri": "https://localhost:8080/",
          "height": 337
        },
        "outputId": "79083852-c367-427e-9bf7-79aed3407fcf"
      },
      "execution_count": 18,
      "outputs": [
        {
          "output_type": "error",
          "ename": "TypeError",
          "evalue": "ignored",
          "traceback": [
            "\u001b[0;31m---------------------------------------------------------------------------\u001b[0m",
            "\u001b[0;31mTypeError\u001b[0m                                 Traceback (most recent call last)",
            "\u001b[0;32m<ipython-input-18-0beca6cfab62>\u001b[0m in \u001b[0;36m<module>\u001b[0;34m()\u001b[0m\n\u001b[1;32m      3\u001b[0m     \u001b[0mprint\u001b[0m\u001b[0;34m(\u001b[0m\u001b[0ma\u001b[0m \u001b[0;34m+\u001b[0m \u001b[0mb\u001b[0m\u001b[0;34m)\u001b[0m\u001b[0;34m\u001b[0m\u001b[0;34m\u001b[0m\u001b[0m\n\u001b[1;32m      4\u001b[0m \u001b[0;34m\u001b[0m\u001b[0m\n\u001b[0;32m----> 5\u001b[0;31m \u001b[0m함수\u001b[0m\u001b[0;34m(\u001b[0m\u001b[0;34m\"안녕\"\u001b[0m\u001b[0;34m,\u001b[0m \u001b[0;36m3\u001b[0m\u001b[0;34m)\u001b[0m\u001b[0;34m\u001b[0m\u001b[0;34m\u001b[0m\u001b[0m\n\u001b[0m",
            "\u001b[0;32m<ipython-input-18-0beca6cfab62>\u001b[0m in \u001b[0;36m함수\u001b[0;34m(a, b)\u001b[0m\n\u001b[1;32m      1\u001b[0m \u001b[0;31m# 214번\u001b[0m\u001b[0;34m\u001b[0m\u001b[0;34m\u001b[0m\u001b[0;34m\u001b[0m\u001b[0m\n\u001b[1;32m      2\u001b[0m \u001b[0;32mdef\u001b[0m \u001b[0m함수\u001b[0m\u001b[0;34m(\u001b[0m\u001b[0ma\u001b[0m\u001b[0;34m,\u001b[0m \u001b[0mb\u001b[0m\u001b[0;34m)\u001b[0m \u001b[0;34m:\u001b[0m\u001b[0;34m\u001b[0m\u001b[0;34m\u001b[0m\u001b[0m\n\u001b[0;32m----> 3\u001b[0;31m     \u001b[0mprint\u001b[0m\u001b[0;34m(\u001b[0m\u001b[0ma\u001b[0m \u001b[0;34m+\u001b[0m \u001b[0mb\u001b[0m\u001b[0;34m)\u001b[0m\u001b[0;34m\u001b[0m\u001b[0;34m\u001b[0m\u001b[0m\n\u001b[0m\u001b[1;32m      4\u001b[0m \u001b[0;34m\u001b[0m\u001b[0m\n\u001b[1;32m      5\u001b[0m \u001b[0m함수\u001b[0m\u001b[0;34m(\u001b[0m\u001b[0;34m\"안녕\"\u001b[0m\u001b[0;34m,\u001b[0m \u001b[0;36m3\u001b[0m\u001b[0;34m)\u001b[0m\u001b[0;34m\u001b[0m\u001b[0;34m\u001b[0m\u001b[0m\n",
            "\u001b[0;31mTypeError\u001b[0m: can only concatenate str (not \"int\") to str"
          ]
        }
      ]
    },
    {
      "cell_type": "code",
      "source": [
        "# 215번\n",
        "def print_with_smile (string):\n",
        "    print( string + \":D\" )\n",
        "print_with_smile(\"안녕\")"
      ],
      "metadata": {
        "id": "ekVIsOaVinCA",
        "colab": {
          "base_uri": "https://localhost:8080/"
        },
        "outputId": "1f825d54-d5ba-489e-9c44-5be1664f3610"
      },
      "execution_count": 21,
      "outputs": [
        {
          "output_type": "stream",
          "name": "stdout",
          "text": [
            "안녕:D\n"
          ]
        }
      ]
    },
    {
      "cell_type": "code",
      "source": [
        "# 216번\n",
        "print_with_smile(\"안녕하세요\")"
      ],
      "metadata": {
        "id": "wK8nKP5fim5q",
        "colab": {
          "base_uri": "https://localhost:8080/"
        },
        "outputId": "07db8930-7616-43e3-b0a3-fbd33e04a828"
      },
      "execution_count": 23,
      "outputs": [
        {
          "output_type": "stream",
          "name": "stdout",
          "text": [
            "안녕하세요:D\n"
          ]
        }
      ]
    },
    {
      "cell_type": "code",
      "source": [
        "# 217번\n",
        "def print_upper_price(num):\n",
        "    print (num * 1.3) "
      ],
      "metadata": {
        "id": "jXLVcuEbimwT"
      },
      "execution_count": 25,
      "outputs": []
    },
    {
      "cell_type": "code",
      "source": [
        "# 218번\n",
        "def print_sum (a,b):\n",
        "    print (a + b)\n",
        "print_sum( 3, 4 )"
      ],
      "metadata": {
        "id": "-8sSPPb6imnr",
        "colab": {
          "base_uri": "https://localhost:8080/"
        },
        "outputId": "e775b352-80cb-471f-ada5-b06e4be11171"
      },
      "execution_count": 27,
      "outputs": [
        {
          "output_type": "stream",
          "name": "stdout",
          "text": [
            "7\n"
          ]
        }
      ]
    },
    {
      "cell_type": "code",
      "source": [
        "# 219번\n",
        "def print_arithmetic_operation( a , b ):\n",
        "    print( a + b )\n",
        "    print( a - b )\n",
        "    print( a * b )\n",
        "    print( a / b )\n",
        "print_arithmetic_operation ( 3, 4 )\n",
        "\n",
        "# print(a, \"+\", b, \"=\", a + b)\n",
        "# print(a, \"-\", b, \"=\", a - b)\n",
        "# print(a, \"*\", b, \"=\", a * b)\n",
        "# print(a, \"/\", b, \"=\", a / b)"
      ],
      "metadata": {
        "id": "J_5crcwBimhb",
        "colab": {
          "base_uri": "https://localhost:8080/"
        },
        "outputId": "1f2e2e23-d157-492c-c926-be3dd964e3de"
      },
      "execution_count": 29,
      "outputs": [
        {
          "output_type": "stream",
          "name": "stdout",
          "text": [
            "7\n",
            "-1\n",
            "12\n",
            "0.75\n"
          ]
        }
      ]
    },
    {
      "cell_type": "code",
      "source": [
        "# 220번\n",
        "def print_max ( a, b, c ):\n",
        "    if a > b :\n",
        "      if a > c:\n",
        "        max = a\n",
        "    elif b > c:\n",
        "       max = b\n",
        "    else :\n",
        "       max = c \n",
        "    print(max)\n",
        "print_max( 4, 8, 6 )    \n"
      ],
      "metadata": {
        "id": "2HadRb8rimbc",
        "colab": {
          "base_uri": "https://localhost:8080/"
        },
        "outputId": "d8270f08-a074-459f-c875-89b05333b92a"
      },
      "execution_count": 32,
      "outputs": [
        {
          "output_type": "stream",
          "name": "stdout",
          "text": [
            "8\n"
          ]
        }
      ]
    },
    {
      "cell_type": "code",
      "source": [
        "# 221번 ★ 슬라이싱 사용 ★\n",
        "def print_reverse(string):\n",
        "\n",
        "    print(string[::-1])\n",
        "print_reverse(\"python\")      "
      ],
      "metadata": {
        "id": "2eqtIRLnimVM",
        "colab": {
          "base_uri": "https://localhost:8080/"
        },
        "outputId": "043f065b-1d37-438a-81e4-502d979b18ac"
      },
      "execution_count": 34,
      "outputs": [
        {
          "output_type": "stream",
          "name": "stdout",
          "text": [
            "nohtyp\n"
          ]
        }
      ]
    },
    {
      "cell_type": "code",
      "source": [
        "# 222번 [] 리스트 \n",
        "def print_score( score ):\n",
        "    print(sum(score)/len(score) )\n",
        "print_score([1, 2, 3])"
      ],
      "metadata": {
        "id": "tnWshA6VimPN",
        "colab": {
          "base_uri": "https://localhost:8080/"
        },
        "outputId": "d100510a-d2e6-46e9-d4bb-0fbf26fbfa32"
      },
      "execution_count": 36,
      "outputs": [
        {
          "output_type": "stream",
          "name": "stdout",
          "text": [
            "2.0\n"
          ]
        }
      ]
    },
    {
      "cell_type": "code",
      "source": [
        "# 223번\n",
        "def print_even(list):\n",
        "    for i in list:\n",
        "      if i % 2 == 0 :\n",
        "        print(i)\n",
        "print_even([1, 3, 2, 10, 12, 11, 15])"
      ],
      "metadata": {
        "id": "KGIRirhgimJN",
        "colab": {
          "base_uri": "https://localhost:8080/"
        },
        "outputId": "a3713131-17bd-4a1b-c896-a6ff3688e574"
      },
      "execution_count": 37,
      "outputs": [
        {
          "output_type": "stream",
          "name": "stdout",
          "text": [
            "2\n",
            "10\n",
            "12\n"
          ]
        }
      ]
    },
    {
      "cell_type": "code",
      "source": [
        "# 224번 어려워ㅓ \n",
        "def print_keys(dic):\n",
        "    for keys in dic.keys():\n",
        "        print(keys)\n",
        "print_keys ({\"이름\":\"김말똥\", \"나이\":30, \"성별\":0})    "
      ],
      "metadata": {
        "id": "vT8PUFpgimC9",
        "colab": {
          "base_uri": "https://localhost:8080/"
        },
        "outputId": "e16fbf6f-0371-473c-bde6-945e3eb77e16"
      },
      "execution_count": 42,
      "outputs": [
        {
          "output_type": "stream",
          "name": "stdout",
          "text": [
            "이름\n",
            "나이\n",
            "성별\n"
          ]
        }
      ]
    },
    {
      "cell_type": "code",
      "source": [
        "# 225번 어려워ㅓ2\n",
        "my_dict = {\"10/26\" : [100, 130, 100, 100],\n",
        "           \"10/27\" : [10, 12, 10, 11]}\n",
        "def print_value_by_key(my_dict, key):\n",
        "      print(my_dict[key])\n",
        "      \n",
        "print_value_by_key ( my_dict, \"10/26\" )"
      ],
      "metadata": {
        "id": "Sqfy0KTPil8u",
        "colab": {
          "base_uri": "https://localhost:8080/"
        },
        "outputId": "ed36f00c-7817-45f9-e15e-4b0eec036136"
      },
      "execution_count": 44,
      "outputs": [
        {
          "output_type": "stream",
          "name": "stdout",
          "text": [
            "[100, 130, 100, 100]\n"
          ]
        }
      ]
    },
    {
      "cell_type": "code",
      "source": [
        "# 226번 오...넘 어렵다\n",
        "def print_5xn(string):\n",
        "    line = int(len(string) / 5)\n",
        "    for i in range(line + 1):\n",
        "      print(string[ i * 5: i * 5 + 5])\n",
        "print_5xn(\"아이엠어보이유알어걸\")     "
      ],
      "metadata": {
        "id": "i0I9XqUiil2O",
        "colab": {
          "base_uri": "https://localhost:8080/"
        },
        "outputId": "294064ef-ca54-4d8d-fd52-e2d8f3e29871"
      },
      "execution_count": 48,
      "outputs": [
        {
          "output_type": "stream",
          "name": "stdout",
          "text": [
            "아이엠어보\n",
            "이유알어걸\n",
            "\n"
          ]
        }
      ]
    },
    {
      "cell_type": "code",
      "source": [
        "# 227번\n",
        "def print_mxn(string, num):\n",
        "    line = int(len(string) /  num)\n",
        "    for i in range(line + 1):\n",
        "        print(string[i * num : i * num + num])\n",
        "print_mxn(\"아이엠어보이유알어걸\", 3)"
      ],
      "metadata": {
        "id": "ZOf3OM0uilvt",
        "colab": {
          "base_uri": "https://localhost:8080/"
        },
        "outputId": "27ca79ac-4571-4cb7-f332-a6d155956df6"
      },
      "execution_count": 56,
      "outputs": [
        {
          "output_type": "stream",
          "name": "stdout",
          "text": [
            "아이엠\n",
            "어보이\n",
            "유알어\n",
            "걸\n"
          ]
        }
      ]
    },
    {
      "cell_type": "code",
      "source": [
        "# 228번 못 풀겠다,,\n"
      ],
      "metadata": {
        "id": "qdeJHZwEiloa"
      },
      "execution_count": null,
      "outputs": []
    },
    {
      "cell_type": "code",
      "source": [
        "# 229번\n",
        "def my_print (a, b) :\n",
        "    print(\"왼쪽:\", a)\n",
        "    print(\"오른쪽:\", b)\n",
        "\n",
        "my_print(a=100, b=200)"
      ],
      "metadata": {
        "id": "yjo52FFmilfS",
        "colab": {
          "base_uri": "https://localhost:8080/"
        },
        "outputId": "2ea6723e-56a6-4996-b506-e145225c0e6f"
      },
      "execution_count": 51,
      "outputs": [
        {
          "output_type": "stream",
          "name": "stdout",
          "text": [
            "왼쪽: 100\n",
            "오른쪽: 200\n"
          ]
        }
      ]
    },
    {
      "cell_type": "code",
      "source": [
        "# 230번 b가 먼저 지정되더라도 순서대로 출력 \n",
        "def my_print (a, b) :\n",
        "    print(\"왼쪽:\", a)\n",
        "    print(\"오른쪽:\", b)\n",
        "\n",
        "my_print(b=100, a=200)"
      ],
      "metadata": {
        "id": "xZmkeENfilO4",
        "colab": {
          "base_uri": "https://localhost:8080/"
        },
        "outputId": "45cd38c0-687d-412c-9a23-93a3954a4f58"
      },
      "execution_count": 50,
      "outputs": [
        {
          "output_type": "stream",
          "name": "stdout",
          "text": [
            "왼쪽: 200\n",
            "오른쪽: 100\n"
          ]
        }
      ]
    }
  ]
}