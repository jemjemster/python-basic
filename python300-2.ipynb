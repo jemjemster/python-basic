{
  "nbformat": 4,
  "nbformat_minor": 0,
  "metadata": {
    "colab": {
      "name": "파이썬 300제1.ipynb",
      "provenance": [],
      "collapsed_sections": [],
      "authorship_tag": "ABX9TyOGHI3EG6kcBPXCU84rsEQy",
      "include_colab_link": true
    },
    "kernelspec": {
      "name": "python3",
      "display_name": "Python 3"
    },
    "language_info": {
      "name": "python"
    }
  },
  "cells": [
    {
      "cell_type": "markdown",
      "metadata": {
        "id": "view-in-github",
        "colab_type": "text"
      },
      "source": [
        "<a href=\"https://colab.research.google.com/github/jemjemster/python-basic/blob/main/python300-2.ipynb\" target=\"_parent\"><img src=\"https://colab.research.google.com/assets/colab-badge.svg\" alt=\"Open In Colab\"/></a>"
      ]
    },
    {
      "cell_type": "markdown",
      "source": [
        "# 리스트 \n",
        "- 51번 ~ 60번 "
      ],
      "metadata": {
        "id": "tub32ov1uUJt"
      }
    },
    {
      "cell_type": "code",
      "execution_count": null,
      "metadata": {
        "id": "bPQoybEZuQix",
        "colab": {
          "base_uri": "https://localhost:8080/"
        },
        "outputId": "da23c909-11e3-4726-d7a2-fa1ef633e696"
      },
      "outputs": [
        {
          "output_type": "stream",
          "name": "stdout",
          "text": [
            "['닥터 스트레인지', '스플릿', '럭키']\n"
          ]
        }
      ],
      "source": [
        "# 51번\n",
        "movie_rank = [\"닥터 스트레인지\",\"스플릿\",\"럭키\"]\n",
        "print(movie_rank)"
      ]
    },
    {
      "cell_type": "code",
      "source": [
        "# 52번\n",
        "movie_rank = [\"닥터 스트레인지\",\"스플릿\",\"럭키\"]\n",
        "movie_rank.append(\"배트맨\")\n",
        "print(movie_rank) "
      ],
      "metadata": {
        "id": "uElZ8uciufxt",
        "colab": {
          "base_uri": "https://localhost:8080/"
        },
        "outputId": "5def68a0-0f98-4e41-f0f1-d525b8ba90fa"
      },
      "execution_count": null,
      "outputs": [
        {
          "output_type": "stream",
          "name": "stdout",
          "text": [
            "['닥터 스트레인지', '스플릿', '럭키', '배트맨']\n"
          ]
        }
      ]
    },
    {
      "cell_type": "code",
      "source": [
        "# 53번\n",
        "movie_rank = [\"닥터 스트레인지\",\"스플릿\",\"럭키\",\"배트맨\"]\n",
        "movie_rank.insert(1,\"슈퍼맨\")\n",
        "print(movie_rank)"
      ],
      "metadata": {
        "id": "hBNM6Yqeufr-",
        "colab": {
          "base_uri": "https://localhost:8080/"
        },
        "outputId": "d978b755-0b6a-4543-85a6-c56f35299e7b"
      },
      "execution_count": null,
      "outputs": [
        {
          "output_type": "stream",
          "name": "stdout",
          "text": [
            "['닥터 스트레인지', '슈퍼맨', '스플릿', '럭키', '배트맨']\n"
          ]
        }
      ]
    },
    {
      "cell_type": "code",
      "source": [
        "# 54번\n",
        "movie_rank = ['닥터 스트레인지', '슈퍼맨', '스플릿', '럭키', '배트맨']\n",
        "movie_rank.remove('럭키')\n",
        "print(movie_rank)"
      ],
      "metadata": {
        "id": "_6qE2yeiufnS",
        "colab": {
          "base_uri": "https://localhost:8080/"
        },
        "outputId": "92e6eb0a-be70-4bd2-8586-8785658ff667"
      },
      "execution_count": null,
      "outputs": [
        {
          "output_type": "stream",
          "name": "stdout",
          "text": [
            "['닥터 스트레인지', '슈퍼맨', '스플릿', '배트맨']\n"
          ]
        }
      ]
    },
    {
      "cell_type": "code",
      "source": [
        "# 55번\n",
        "movie_rank = ['닥터 스트레인지', '슈퍼맨', '스플릿', '배트맨']\n",
        "movie_rank.remove('스플릿')\n",
        "movie_rank.remove('배트맨')\n",
        "print(movie_rank)"
      ],
      "metadata": {
        "id": "KZW6vMWZufhz",
        "colab": {
          "base_uri": "https://localhost:8080/"
        },
        "outputId": "3dff1a2b-464c-457d-849c-f2c559fe3946"
      },
      "execution_count": null,
      "outputs": [
        {
          "output_type": "stream",
          "name": "stdout",
          "text": [
            "['닥터 스트레인지', '슈퍼맨']\n"
          ]
        }
      ]
    },
    {
      "cell_type": "code",
      "source": [
        "# 56번\n",
        "lang1 = [\"C\", \"C++\", \"JAVA\"]\n",
        "lang2 = [\"Python\", \"Go\", \"C#\"]\n",
        "langs = lang1 + lang2\n",
        "print(langs)"
      ],
      "metadata": {
        "id": "Nt96x8vGufdJ",
        "colab": {
          "base_uri": "https://localhost:8080/"
        },
        "outputId": "39ee7ebd-7439-4529-8df1-a60e7456fab2"
      },
      "execution_count": null,
      "outputs": [
        {
          "output_type": "stream",
          "name": "stdout",
          "text": [
            "['C', 'C++', 'JAVA', 'Python', 'Go', 'C#']\n"
          ]
        }
      ]
    },
    {
      "cell_type": "code",
      "source": [
        "# 57번\n",
        "nums = [1, 2, 3, 4, 5, 6, 7]\n",
        "print(\"max\",max(nums))\n",
        "print(\"min\", min(nums))"
      ],
      "metadata": {
        "id": "2tmKSgzwufXu",
        "colab": {
          "base_uri": "https://localhost:8080/"
        },
        "outputId": "0b405bec-a61d-496d-ec51-730e0d7692d0"
      },
      "execution_count": null,
      "outputs": [
        {
          "output_type": "stream",
          "name": "stdout",
          "text": [
            "max 7\n",
            "min 1\n"
          ]
        }
      ]
    },
    {
      "cell_type": "code",
      "source": [
        "# 58번\n",
        "nums = [1, 2, 3, 4, 5]\n",
        "print(sum(nums))"
      ],
      "metadata": {
        "id": "bxqCLHchufR7",
        "colab": {
          "base_uri": "https://localhost:8080/"
        },
        "outputId": "3d4933a9-d8a1-4897-ebc9-6b173e5e3658"
      },
      "execution_count": null,
      "outputs": [
        {
          "output_type": "stream",
          "name": "stdout",
          "text": [
            "15\n"
          ]
        }
      ]
    },
    {
      "cell_type": "code",
      "source": [
        "# 59번\n",
        "cook = [\"피자\", \"김밥\", \"만두\", \"양념치킨\", \"족발\", \"피자\", \"김치만두\", \"쫄면\", \"소시지\", \"라면\", \"팥빙수\", \"김치전\"]\n",
        "print(len(cook))"
      ],
      "metadata": {
        "id": "sldUBuSVufI1",
        "colab": {
          "base_uri": "https://localhost:8080/"
        },
        "outputId": "1dfdb2f6-f41d-4cff-ecb9-daadac63d311"
      },
      "execution_count": null,
      "outputs": [
        {
          "output_type": "stream",
          "name": "stdout",
          "text": [
            "12\n"
          ]
        }
      ]
    },
    {
      "cell_type": "code",
      "source": [
        "# 60번 \n",
        "nums = [1, 2, 3, 4, 5]\n",
        "average = sum(nums) / len(nums)\n",
        "print(average)"
      ],
      "metadata": {
        "id": "Q77QJK1Uue_a",
        "colab": {
          "base_uri": "https://localhost:8080/"
        },
        "outputId": "bb3a6f48-e4ff-4944-c0ce-a66cb000b4f7"
      },
      "execution_count": null,
      "outputs": [
        {
          "output_type": "stream",
          "name": "stdout",
          "text": [
            "3.0\n"
          ]
        }
      ]
    },
    {
      "cell_type": "markdown",
      "source": [
        "- 61번 ~ 70번"
      ],
      "metadata": {
        "id": "MUaBwqoNvgDR"
      }
    },
    {
      "cell_type": "code",
      "source": [
        "# 61번 \n",
        "price = ['20180728', 100, 130, 140, 150, 160, 170]\n",
        "print(price[1:])"
      ],
      "metadata": {
        "colab": {
          "base_uri": "https://localhost:8080/"
        },
        "id": "TJTleDK_vm27",
        "outputId": "e08ae6c4-2379-4cf9-eff1-b3aa10d9bcb7"
      },
      "execution_count": null,
      "outputs": [
        {
          "output_type": "stream",
          "name": "stdout",
          "text": [
            "[100, 130, 140, 150, 160, 170]\n"
          ]
        }
      ]
    },
    {
      "cell_type": "code",
      "source": [
        "# 62번 \n",
        "nums = [1, 2, 3, 4, 5, 6, 7, 8, 9, 10]\n",
        "print(nums[::2])"
      ],
      "metadata": {
        "colab": {
          "base_uri": "https://localhost:8080/"
        },
        "id": "D4HOKVImvnfR",
        "outputId": "b7eb7674-0a3b-4b0e-bf0f-f8c41fcb909d"
      },
      "execution_count": null,
      "outputs": [
        {
          "output_type": "stream",
          "name": "stdout",
          "text": [
            "[1, 3, 5, 7, 9]\n"
          ]
        }
      ]
    },
    {
      "cell_type": "code",
      "source": [
        "# 63번 \n",
        "nums = [1, 2, 3, 4, 5, 6, 7, 8, 9, 10]\n",
        "print(nums[1::2])"
      ],
      "metadata": {
        "colab": {
          "base_uri": "https://localhost:8080/"
        },
        "id": "XZggop6Nvncr",
        "outputId": "6a2134d1-d035-4031-d01e-a2519fa602d8"
      },
      "execution_count": null,
      "outputs": [
        {
          "output_type": "stream",
          "name": "stdout",
          "text": [
            "[2, 4, 6, 8, 10]\n"
          ]
        }
      ]
    },
    {
      "cell_type": "code",
      "source": [
        "# 64번 \n",
        "nums = [1, 2, 3, 4, 5]\n",
        "print(nums[::-1])"
      ],
      "metadata": {
        "colab": {
          "base_uri": "https://localhost:8080/"
        },
        "id": "csPwnVUMvnaU",
        "outputId": "798ff0eb-d8d5-4306-e5b9-867ad3840fb0"
      },
      "execution_count": null,
      "outputs": [
        {
          "output_type": "stream",
          "name": "stdout",
          "text": [
            "[5, 4, 3, 2, 1]\n"
          ]
        }
      ]
    },
    {
      "cell_type": "code",
      "source": [
        "# 65번 \n",
        "interest = ['삼성전자', 'LG전자', 'Naver']\n",
        "print(interest[0], interest[2])"
      ],
      "metadata": {
        "colab": {
          "base_uri": "https://localhost:8080/"
        },
        "id": "vdxwM-CTvnXw",
        "outputId": "09f68f6a-390a-4891-e4e3-c03d273e58c1"
      },
      "execution_count": null,
      "outputs": [
        {
          "output_type": "stream",
          "name": "stdout",
          "text": [
            "삼성전자 Naver\n"
          ]
        }
      ]
    },
    {
      "cell_type": "code",
      "source": [
        "# 66번 \n",
        "interest = ['삼성전자', 'LG전자', 'Naver', 'SK하이닉스', '미래에셋대우']\n",
        "print(\" \".join(interest))"
      ],
      "metadata": {
        "colab": {
          "base_uri": "https://localhost:8080/"
        },
        "id": "M_O5Nr40vnUm",
        "outputId": "167e761d-3852-4407-b433-f85d9157da98"
      },
      "execution_count": null,
      "outputs": [
        {
          "output_type": "stream",
          "name": "stdout",
          "text": [
            "삼성전자 LG전자 Naver SK하이닉스 미래에셋대우\n"
          ]
        }
      ]
    },
    {
      "cell_type": "code",
      "source": [
        "# 67번 \n",
        "interest = ['삼성전자', 'LG전자', 'Naver', 'SK하이닉스', '미래에셋대우']\n",
        "print(\"/\".join(interest))"
      ],
      "metadata": {
        "id": "YQNLfX3nvnQ-",
        "colab": {
          "base_uri": "https://localhost:8080/"
        },
        "outputId": "9c2eb453-0cd2-40c3-e1bb-d56c4cfa0123"
      },
      "execution_count": null,
      "outputs": [
        {
          "output_type": "stream",
          "name": "stdout",
          "text": [
            "삼성전자/LG전자/Naver/SK하이닉스/미래에셋대우\n"
          ]
        }
      ]
    },
    {
      "cell_type": "code",
      "source": [
        "# 68번 \n",
        "interest = ['삼성전자', 'LG전자', 'Naver', 'SK하이닉스', '미래에셋대우']\n",
        "print(\"\\n\".join(interest))"
      ],
      "metadata": {
        "id": "ApPQrehfvnIF",
        "colab": {
          "base_uri": "https://localhost:8080/"
        },
        "outputId": "754a882c-bfc2-43e4-d255-0116b24a505c"
      },
      "execution_count": null,
      "outputs": [
        {
          "output_type": "stream",
          "name": "stdout",
          "text": [
            "삼성전자\n",
            "LG전자\n",
            "Naver\n",
            "SK하이닉스\n",
            "미래에셋대우\n"
          ]
        }
      ]
    },
    {
      "cell_type": "code",
      "source": [
        "# 69번 \n",
        "string = \"삼성전자/LG전자/Naver\"\n",
        "interest = string.split(\"/\")\n",
        "print(interest)"
      ],
      "metadata": {
        "id": "jWe3fl8yvxqC",
        "colab": {
          "base_uri": "https://localhost:8080/"
        },
        "outputId": "c4a13318-208e-4125-f484-1244175c5cc0"
      },
      "execution_count": null,
      "outputs": [
        {
          "output_type": "stream",
          "name": "stdout",
          "text": [
            "['삼성전자', 'LG전자', 'Naver']\n"
          ]
        }
      ]
    },
    {
      "cell_type": "code",
      "source": [
        "# 70번\n",
        "data = [2, 4, 3, 1, 5, 10, 9]\n",
        "data.sort()\n",
        "print(data)"
      ],
      "metadata": {
        "id": "moyGFfZlvxRz",
        "colab": {
          "base_uri": "https://localhost:8080/"
        },
        "outputId": "16480bed-ee78-474d-adc2-51aef0cc1899"
      },
      "execution_count": null,
      "outputs": [
        {
          "output_type": "stream",
          "name": "stdout",
          "text": [
            "[1, 2, 3, 4, 5, 9, 10]\n"
          ]
        }
      ]
    },
    {
      "cell_type": "markdown",
      "source": [
        "## 튜플 \n",
        " - 71번 ~ 80번"
      ],
      "metadata": {
        "id": "WEcHA6gUxTR3"
      }
    },
    {
      "cell_type": "code",
      "source": [
        "# 71번\n",
        "my_variable = ()\n",
        "print(type(my_variable))"
      ],
      "metadata": {
        "id": "tSx3WheowCBG",
        "colab": {
          "base_uri": "https://localhost:8080/"
        },
        "outputId": "311a5fe4-2ca9-42ab-9936-8d4254428256"
      },
      "execution_count": null,
      "outputs": [
        {
          "output_type": "stream",
          "name": "stdout",
          "text": [
            "<class 'tuple'>\n"
          ]
        }
      ]
    },
    {
      "cell_type": "code",
      "source": [
        "# 72번\n",
        "movie_rank = (\"닥터 스트레인지\",\"스플릿\",\"럭키\")\n",
        "print(movie_rank)"
      ],
      "metadata": {
        "id": "4QS3XjMowB9N",
        "colab": {
          "base_uri": "https://localhost:8080/"
        },
        "outputId": "dc171ce9-2e62-4a63-efd7-a9695ff2626f"
      },
      "execution_count": null,
      "outputs": [
        {
          "output_type": "stream",
          "name": "stdout",
          "text": [
            "('닥터 스트레인지', '스플릿', '럭키')\n"
          ]
        }
      ]
    },
    {
      "cell_type": "code",
      "source": [
        "# 73번\n",
        "my_tuple = (1,)"
      ],
      "metadata": {
        "id": "wjO-Mh4NwB5T"
      },
      "execution_count": null,
      "outputs": []
    },
    {
      "cell_type": "code",
      "source": [
        "# 74번\n",
        "t = (1, 2, 3)\n",
        "t[0] = 'a'  #튜플은 값 변경 못한다"
      ],
      "metadata": {
        "id": "45lPYUadwB16",
        "colab": {
          "base_uri": "https://localhost:8080/",
          "height": 209
        },
        "outputId": "8be5e305-e036-4f68-c6d1-c5c51c548ea3"
      },
      "execution_count": null,
      "outputs": [
        {
          "output_type": "error",
          "ename": "TypeError",
          "evalue": "ignored",
          "traceback": [
            "\u001b[0;31m---------------------------------------------------------------------------\u001b[0m",
            "\u001b[0;31mTypeError\u001b[0m                                 Traceback (most recent call last)",
            "\u001b[0;32m<ipython-input-24-8d9bb821bb3c>\u001b[0m in \u001b[0;36m<module>\u001b[0;34m()\u001b[0m\n\u001b[1;32m      1\u001b[0m \u001b[0;31m# 74번\u001b[0m\u001b[0;34m\u001b[0m\u001b[0;34m\u001b[0m\u001b[0;34m\u001b[0m\u001b[0m\n\u001b[1;32m      2\u001b[0m \u001b[0mt\u001b[0m \u001b[0;34m=\u001b[0m \u001b[0;34m(\u001b[0m\u001b[0;36m1\u001b[0m\u001b[0;34m,\u001b[0m \u001b[0;36m2\u001b[0m\u001b[0;34m,\u001b[0m \u001b[0;36m3\u001b[0m\u001b[0;34m)\u001b[0m\u001b[0;34m\u001b[0m\u001b[0;34m\u001b[0m\u001b[0m\n\u001b[0;32m----> 3\u001b[0;31m \u001b[0mt\u001b[0m\u001b[0;34m[\u001b[0m\u001b[0;36m0\u001b[0m\u001b[0;34m]\u001b[0m \u001b[0;34m=\u001b[0m \u001b[0;34m'a'\u001b[0m  \u001b[0;31m#튜플은 값 변경 못한다\u001b[0m\u001b[0;34m\u001b[0m\u001b[0;34m\u001b[0m\u001b[0m\n\u001b[0m",
            "\u001b[0;31mTypeError\u001b[0m: 'tuple' object does not support item assignment"
          ]
        }
      ]
    },
    {
      "cell_type": "code",
      "source": [
        "# 75번\n",
        "t = 1, 2, 3, 4\n",
        "print(type(t))  #튜플은 괄호 안써도 사용가능하다. "
      ],
      "metadata": {
        "id": "_sWk4W72wBvs"
      },
      "execution_count": null,
      "outputs": []
    },
    {
      "cell_type": "code",
      "source": [
        "# 76번\n",
        "t = ('A', 'b', 'c')"
      ],
      "metadata": {
        "id": "nJOPEwjrwBsj"
      },
      "execution_count": null,
      "outputs": []
    },
    {
      "cell_type": "code",
      "source": [
        "# 77번\n",
        "interest = ('삼성전자', 'LG전자', 'SK Hynix')\n",
        "data = list(interest)\n",
        "print(data)"
      ],
      "metadata": {
        "id": "SMAZt4jjwBoX",
        "colab": {
          "base_uri": "https://localhost:8080/"
        },
        "outputId": "d2b9cb52-857d-4c5f-c2e9-2999c64b8928"
      },
      "execution_count": null,
      "outputs": [
        {
          "output_type": "stream",
          "name": "stdout",
          "text": [
            "['삼성전자', 'LG전자', 'SK Hynix']\n"
          ]
        }
      ]
    },
    {
      "cell_type": "code",
      "source": [
        "# 78번\n",
        "interest = ['삼성전자', 'LG전자', 'SK Hynix']\n",
        "data = tuple(interest)\n",
        "print(data)"
      ],
      "metadata": {
        "id": "yQ4hKL-xwBir",
        "colab": {
          "base_uri": "https://localhost:8080/"
        },
        "outputId": "a760d11e-13df-4ace-be51-8a9486742cc6"
      },
      "execution_count": null,
      "outputs": [
        {
          "output_type": "stream",
          "name": "stdout",
          "text": [
            "('삼성전자', 'LG전자', 'SK Hynix')\n"
          ]
        }
      ]
    },
    {
      "cell_type": "code",
      "source": [
        "# 79번\n",
        "temp = ('apple', 'banana', 'cake')\n",
        "a, b, c = temp\n",
        "print(a, b, c)  # 변수에 값 할당"
      ],
      "metadata": {
        "id": "JK9gSP0pwBZj",
        "colab": {
          "base_uri": "https://localhost:8080/"
        },
        "outputId": "40286a28-7aca-4d9f-b44b-e61c53c5ba69"
      },
      "execution_count": null,
      "outputs": [
        {
          "output_type": "stream",
          "name": "stdout",
          "text": [
            "apple banana cake\n"
          ]
        }
      ]
    },
    {
      "cell_type": "code",
      "source": [
        "# 80번\n",
        "data = tuple(range(2,100,2))\n",
        "print(data)  #range(A,B,C) = A부터 B까지 C의 간격으로 B-1까지의 정수 반환 "
      ],
      "metadata": {
        "id": "7Wa1TcxGwLTX",
        "colab": {
          "base_uri": "https://localhost:8080/"
        },
        "outputId": "7df21b43-3632-461b-f5da-0311bc9bdbeb"
      },
      "execution_count": null,
      "outputs": [
        {
          "output_type": "stream",
          "name": "stdout",
          "text": [
            "(2, 4, 6, 8, 10, 12, 14, 16, 18, 20, 22, 24, 26, 28, 30, 32, 34, 36, 38, 40, 42, 44, 46, 48, 50, 52, 54, 56, 58, 60, 62, 64, 66, 68, 70, 72, 74, 76, 78, 80, 82, 84, 86, 88, 90, 92, 94, 96, 98)\n"
          ]
        }
      ]
    },
    {
      "cell_type": "markdown",
      "source": [
        "## 딕셔너리 \n",
        " - 81번 ~ 90번 "
      ],
      "metadata": {
        "id": "GPbG93DlAICV"
      }
    },
    {
      "cell_type": "code",
      "source": [
        "# 81번 "
      ],
      "metadata": {
        "id": "R-0Tg3NFwOVN"
      },
      "execution_count": null,
      "outputs": []
    },
    {
      "cell_type": "code",
      "source": [
        "# 82번\n"
      ],
      "metadata": {
        "id": "jUjCQqn8wOPo",
        "colab": {
          "base_uri": "https://localhost:8080/"
        },
        "outputId": "44c95fc2-a8c8-41bb-f269-e49861ed39fa"
      },
      "execution_count": null,
      "outputs": [
        {
          "output_type": "stream",
          "name": "stdout",
          "text": [
            "{}\n"
          ]
        }
      ]
    },
    {
      "cell_type": "code",
      "source": [
        "# 83번"
      ],
      "metadata": {
        "id": "xU6S1vg5wOKc"
      },
      "execution_count": null,
      "outputs": []
    },
    {
      "cell_type": "code",
      "source": [
        "# 84번\n",
        "temp = {}\n",
        "print(temp)"
      ],
      "metadata": {
        "id": "XKwkbNoPwOFx",
        "colab": {
          "base_uri": "https://localhost:8080/"
        },
        "outputId": "4e10559f-27a7-4eb3-d989-e2768a0afb7e"
      },
      "execution_count": null,
      "outputs": [
        {
          "output_type": "stream",
          "name": "stdout",
          "text": [
            "{}\n"
          ]
        }
      ]
    },
    {
      "cell_type": "code",
      "source": [
        "# 85번\n",
        "data = {'메로나:1000','폴라포:1200','빵빠레:1800'}\n",
        "print(data)"
      ],
      "metadata": {
        "id": "ZzluJrARwOBT",
        "colab": {
          "base_uri": "https://localhost:8080/"
        },
        "outputId": "af78a95b-b387-44a7-ceb3-190310640c47"
      },
      "execution_count": null,
      "outputs": [
        {
          "output_type": "stream",
          "name": "stdout",
          "text": [
            "{'폴라포:1200', '빵빠레:1800', '메로나:1000'}\n"
          ]
        }
      ]
    },
    {
      "cell_type": "code",
      "source": [
        "# 86번\n",
        "data = {\"메로나\": 1000, \"폴라포\": 1200, \"빵빠레\": 1800}\n",
        "data[\"죠스바\"] = 1200\n",
        "data[\"월드콘\"] = 1500\n",
        "print(data)"
      ],
      "metadata": {
        "id": "Z0gwSmHvwN8o",
        "colab": {
          "base_uri": "https://localhost:8080/"
        },
        "outputId": "750e7054-514a-428d-cd49-d66d755adf69"
      },
      "execution_count": null,
      "outputs": [
        {
          "output_type": "stream",
          "name": "stdout",
          "text": [
            "{'메로나': 1000, '폴라포': 1200, '빵빠레': 1800, '죠스바': 1200, '월드콘': 1500}\n"
          ]
        }
      ]
    },
    {
      "cell_type": "code",
      "source": [
        "# 87번\n",
        "ice = {'메로나': 1000,\n",
        "       '폴로포': 1200,\n",
        "       '빵빠레': 1800,\n",
        "       '죠스바': 1200,\n",
        "       '월드콘': 1500}\n",
        "\n",
        "print(\"메로나 가격: \", ice[\"메로나\"])"
      ],
      "metadata": {
        "id": "lb4EymelwN4M",
        "colab": {
          "base_uri": "https://localhost:8080/"
        },
        "outputId": "1cfe5e16-ab46-4a84-c55b-b391702c06bf"
      },
      "execution_count": null,
      "outputs": [
        {
          "output_type": "stream",
          "name": "stdout",
          "text": [
            "메로나 가격:  1000\n"
          ]
        }
      ]
    },
    {
      "cell_type": "code",
      "source": [
        "# 88번\n",
        "ice = {'메로나': 1000,\n",
        "       '폴로포': 1200,\n",
        "       '빵빠레': 1800,\n",
        "       '죠스바': 1200,\n",
        "       '월드콘': 1500}\n",
        "ice['메로나'] = 1300    #수정할땐 딕셔너리이름[ 바꿀 값의 이름 ] = 가격\n",
        "print(ice)"
      ],
      "metadata": {
        "id": "7mYgAXYQwNzh",
        "colab": {
          "base_uri": "https://localhost:8080/"
        },
        "outputId": "7e0e02bf-af59-4c85-8536-fab55032bda8"
      },
      "execution_count": null,
      "outputs": [
        {
          "output_type": "stream",
          "name": "stdout",
          "text": [
            "{'메로나': 1300, '폴로포': 1200, '빵빠레': 1800, '죠스바': 1200, '월드콘': 1500}\n"
          ]
        }
      ]
    },
    {
      "cell_type": "code",
      "source": [
        "# 89번\n",
        "ice = {'메로나': 1000,\n",
        "       '폴로포': 1200,\n",
        "       '빵빠레': 1800,\n",
        "       '죠스바': 1200,\n",
        "       '월드콘': 1500}\n",
        "del(ice['메로나'])\n",
        "print(ice)       "
      ],
      "metadata": {
        "id": "AwEYgkVgwNvG",
        "colab": {
          "base_uri": "https://localhost:8080/"
        },
        "outputId": "387fe226-732e-4812-bdf9-a801142b0fcf"
      },
      "execution_count": null,
      "outputs": [
        {
          "output_type": "stream",
          "name": "stdout",
          "text": [
            "{'폴로포': 1200, '빵빠레': 1800, '죠스바': 1200, '월드콘': 1500}\n"
          ]
        }
      ]
    },
    {
      "cell_type": "code",
      "source": [
        "# 90번\n",
        "icecream = {'폴라포': 1200, '빵빠레': 1800, '월드콘': 1500, '메로나': 1000}\n",
        "icecream['누가바']\n",
        "# 딕셔너리에 없는 키 사용해서 인덱싱하면 에러 발생 "
      ],
      "metadata": {
        "id": "IGwZ4TI2wNqp",
        "colab": {
          "base_uri": "https://localhost:8080/",
          "height": 136
        },
        "outputId": "cf61bb9c-5173-47df-a4cc-c935f4032412"
      },
      "execution_count": null,
      "outputs": [
        {
          "output_type": "error",
          "ename": "SyntaxError",
          "evalue": "ignored",
          "traceback": [
            "\u001b[0;36m  File \u001b[0;32m\"<ipython-input-55-9dbc944d234c>\"\u001b[0;36m, line \u001b[0;32m3\u001b[0m\n\u001b[0;31m    >> icecream['누가바']\u001b[0m\n\u001b[0m     ^\u001b[0m\n\u001b[0;31mSyntaxError\u001b[0m\u001b[0;31m:\u001b[0m invalid syntax\n"
          ]
        }
      ]
    },
    {
      "cell_type": "code",
      "source": [
        "# 91번 하나의 key에 value 여러개 넣고싶으면 리스트 이용\n",
        "inventory = {'메로나': [300, 20], '비비빅': [400, 3], '죠스바': [250, 100]}\n",
        "print(inventory)"
      ],
      "metadata": {
        "id": "2Bw3vCf3wNmG",
        "colab": {
          "base_uri": "https://localhost:8080/"
        },
        "outputId": "608a85ca-0956-4b0b-877d-c61abb54f74f"
      },
      "execution_count": null,
      "outputs": [
        {
          "output_type": "stream",
          "name": "stdout",
          "text": [
            "{'메로나': [300, 20], '비비빅': [400, 3], '죠스바': [250, 100]}\n"
          ]
        }
      ]
    },
    {
      "cell_type": "code",
      "source": [
        "# 92번\n",
        "inventory = {\"메로나\": [300, 20],\n",
        "              \"비비빅\": [400, 3],\n",
        "              \"죠스바\": [250, 100]}\n",
        "print(inventory['메로나'][0], \"원\")              "
      ],
      "metadata": {
        "id": "yZxZsZr2wNh0",
        "colab": {
          "base_uri": "https://localhost:8080/"
        },
        "outputId": "ceedc6bb-bea4-49a0-a560-1b0f472fff81"
      },
      "execution_count": null,
      "outputs": [
        {
          "output_type": "stream",
          "name": "stdout",
          "text": [
            "300 원\n"
          ]
        }
      ]
    },
    {
      "cell_type": "code",
      "source": [
        "# 93번\n",
        "inventory = {\"메로나\": [300, 20],\n",
        "              \"비비빅\": [400, 3],\n",
        "              \"죠스바\": [250, 100]}\n",
        "print(inventory['메로나'][1], \"개\")"
      ],
      "metadata": {
        "id": "gqTbYTk8wNdY",
        "colab": {
          "base_uri": "https://localhost:8080/"
        },
        "outputId": "832e18ab-db68-4bd7-b972-73623bd77f1e"
      },
      "execution_count": null,
      "outputs": [
        {
          "output_type": "stream",
          "name": "stdout",
          "text": [
            "20 개\n"
          ]
        }
      ]
    },
    {
      "cell_type": "code",
      "source": [
        "# 94번\n",
        "inventory = {\"메로나\": [300, 20],\n",
        "              \"비비빅\": [400, 3],\n",
        "              \"죠스바\": [250, 100]}\n",
        "inventory['월드콘'] = [500, 7]\n",
        "print(inventory)               "
      ],
      "metadata": {
        "id": "ORsjyg61wNY_",
        "colab": {
          "base_uri": "https://localhost:8080/"
        },
        "outputId": "68020872-5424-46b9-b8af-67d4d08f9fd1"
      },
      "execution_count": null,
      "outputs": [
        {
          "output_type": "stream",
          "name": "stdout",
          "text": [
            "{'메로나': [300, 20], '비비빅': [400, 3], '죠스바': [250, 100], '월드콘': [500, 7]}\n"
          ]
        }
      ]
    },
    {
      "cell_type": "code",
      "source": [
        "# 95번\n",
        "icecream = {'탱크보이': 1200, '폴라포': 1200, '빵빠레': 1800, '월드콘': 1500, '메로나': 1000}\n",
        "print(list(icecream.keys()))\n",
        "# ice = list(icecream,keys())"
      ],
      "metadata": {
        "id": "QzBD3xzMwNUg",
        "colab": {
          "base_uri": "https://localhost:8080/"
        },
        "outputId": "8d0cd901-ade1-417c-ba12-4b781fa283b9"
      },
      "execution_count": null,
      "outputs": [
        {
          "output_type": "stream",
          "name": "stdout",
          "text": [
            "['탱크보이', '폴라포', '빵빠레', '월드콘', '메로나']\n"
          ]
        }
      ]
    },
    {
      "cell_type": "code",
      "source": [
        "# 96번\n",
        "icecream = {'탱크보이': 1200, '폴라포': 1200, '빵빠레': 1800, '월드콘': 1500, '메로나': 1000}\n",
        "print(list(icecream.values()))"
      ],
      "metadata": {
        "id": "TAgwa2nLwNPT",
        "colab": {
          "base_uri": "https://localhost:8080/"
        },
        "outputId": "516587cb-5e30-47ac-b40d-3832ffab45ff"
      },
      "execution_count": null,
      "outputs": [
        {
          "output_type": "stream",
          "name": "stdout",
          "text": [
            "[1200, 1200, 1800, 1500, 1000]\n"
          ]
        }
      ]
    },
    {
      "cell_type": "code",
      "source": [
        "# 97번\n",
        "icecream = {'탱크보이': 1200, '폴라포': 1200, '빵빠레': 1800, '월드콘': 1500, '메로나': 1000}\n",
        "ice = list(icecream.values())\n",
        "print(sum(ice))\n",
        "# sum(icecream.values())"
      ],
      "metadata": {
        "id": "MBdS2BZ-wNJD",
        "colab": {
          "base_uri": "https://localhost:8080/"
        },
        "outputId": "dc6e2f94-2856-4a3c-f358-9ce2e7041220"
      },
      "execution_count": null,
      "outputs": [
        {
          "output_type": "stream",
          "name": "stdout",
          "text": [
            "6700\n"
          ]
        }
      ]
    },
    {
      "cell_type": "code",
      "source": [
        "# 98번\n",
        "icecream = {'탱크보이': 1200, '폴라포': 1200, '빵빠레': 1800, '월드콘': 1500, '메로나': 1000}\n",
        "new_product = {'팥빙수':2700, '아맛나':1000}\n",
        "icecream.update(new_product)\n",
        "print(icecream)"
      ],
      "metadata": {
        "id": "QVqwCkwfwNAv",
        "colab": {
          "base_uri": "https://localhost:8080/"
        },
        "outputId": "1e401245-8292-4b6c-c2fc-b7ef6224d20d"
      },
      "execution_count": null,
      "outputs": [
        {
          "output_type": "stream",
          "name": "stdout",
          "text": [
            "{'탱크보이': 1200, '폴라포': 1200, '빵빠레': 1800, '월드콘': 1500, '메로나': 1000, '팥빙수': 2700, '아맛나': 1000}\n"
          ]
        }
      ]
    },
    {
      "cell_type": "code",
      "source": [
        "# 99번 zip은 묶어주는 함수 \n",
        "keys = (\"apple\", \"pear\", \"peach\")\n",
        "vals = (300, 250, 400)\n",
        "result = dict(zip(keys,vals))\n",
        "print(result)"
      ],
      "metadata": {
        "id": "NlWhQfvWwM1S",
        "colab": {
          "base_uri": "https://localhost:8080/"
        },
        "outputId": "4553ad1f-09eb-4a0f-86b3-abcebff1f96f"
      },
      "execution_count": null,
      "outputs": [
        {
          "output_type": "stream",
          "name": "stdout",
          "text": [
            "{'apple': 300, 'pear': 250, 'peach': 400}\n"
          ]
        }
      ]
    },
    {
      "cell_type": "code",
      "source": [
        "# 100번 \n",
        "date = ['09/05', '09/06', '09/07', '09/08', '09/09']\n",
        "close_price = [10500, 10300, 10100, 10800, 11000]\n",
        "close_table = dict(zip(date,close_price))\n",
        "print(close_table)"
      ],
      "metadata": {
        "id": "M3tIbjf2whZY",
        "colab": {
          "base_uri": "https://localhost:8080/"
        },
        "outputId": "d23e5db7-4526-4475-83bb-9313d0276424"
      },
      "execution_count": null,
      "outputs": [
        {
          "output_type": "stream",
          "name": "stdout",
          "text": [
            "{'09/05': 10500, '09/06': 10300, '09/07': 10100, '09/08': 10800, '09/09': 11000}\n"
          ]
        }
      ]
    }
  ]
}