{
  "nbformat": 4,
  "nbformat_minor": 0,
  "metadata": {
    "colab": {
      "name": "Python300-4.ipynb",
      "provenance": [],
      "collapsed_sections": [],
      "authorship_tag": "ABX9TyMXc2G2XnwApf4f0aPxJ+2t"
    },
    "kernelspec": {
      "name": "python3",
      "display_name": "Python 3"
    },
    "language_info": {
      "name": "python"
    }
  },
  "cells": [
    {
      "cell_type": "markdown",
      "source": [
        "## 반복문 \n",
        "- 151번 ~ 200번"
      ],
      "metadata": {
        "id": "RSTnFxk-GSgp"
      }
    },
    {
      "cell_type": "code",
      "execution_count": null,
      "metadata": {
        "id": "a6j-0vaYGKmu",
        "colab": {
          "base_uri": "https://localhost:8080/"
        },
        "outputId": "8f4a951c-951e-4836-ea44-f3aa3da8232e"
      },
      "outputs": [
        {
          "output_type": "stream",
          "name": "stdout",
          "text": [
            "-20\n",
            "-3\n"
          ]
        }
      ],
      "source": [
        "# 151번\n",
        "리스트 = [3, -20, -3, 44]\n",
        "for 숫자 in 리스트:\n",
        "  if 숫자 < 0:\n",
        "    print(숫자)"
      ]
    },
    {
      "cell_type": "code",
      "source": [
        "# 152번\n",
        "리스트 = [3, 100, 23, 44]\n",
        "for 숫자 in 리스트:\n",
        "  if 숫자 % 3 == 0:\n",
        "    print(숫자)"
      ],
      "metadata": {
        "id": "dgHbBPiQGc6m",
        "colab": {
          "base_uri": "https://localhost:8080/"
        },
        "outputId": "7f46601c-c8a5-4782-ece6-4ca6c17d1021"
      },
      "execution_count": null,
      "outputs": [
        {
          "output_type": "stream",
          "name": "stdout",
          "text": [
            "3\n"
          ]
        }
      ]
    },
    {
      "cell_type": "code",
      "source": [
        "# 153번\n",
        "리스트 = [13, 21, 12, 14, 30, 18]\n",
        "for 숫자 in 리스트:\n",
        "  if 숫자 % 3 == 0 and (숫자 < 20):\n",
        "    print(숫자)"
      ],
      "metadata": {
        "id": "noZ0g5UQGc0l",
        "colab": {
          "base_uri": "https://localhost:8080/"
        },
        "outputId": "e49b74f8-e8cc-4ba0-dad6-6774282cecbc"
      },
      "execution_count": null,
      "outputs": [
        {
          "output_type": "stream",
          "name": "stdout",
          "text": [
            "12\n",
            "18\n"
          ]
        }
      ]
    },
    {
      "cell_type": "code",
      "source": [
        "# 154번\n",
        "리스트 = [\"I\", \"study\", \"python\", \"language\", \"!\"]\n",
        "for 단어 in 리스트:\n",
        "  if len(단어) >= 3:\n",
        "    print(단어) "
      ],
      "metadata": {
        "id": "i52IJEMeGcvX",
        "colab": {
          "base_uri": "https://localhost:8080/"
        },
        "outputId": "11c8b4fb-9206-4d9f-dcda-b238b74fbaa4"
      },
      "execution_count": null,
      "outputs": [
        {
          "output_type": "stream",
          "name": "stdout",
          "text": [
            "study\n",
            "python\n",
            "language\n"
          ]
        }
      ]
    },
    {
      "cell_type": "code",
      "source": [
        "# 155번 isupper = 해당 문자가 대문자인지 확인해주는 함수 \n",
        "리스트 = [\"A\", \"b\", \"c\", \"D\"]\n",
        "for 알파벳 in 리스트:\n",
        "  if 알파벳.isupper():\n",
        "    print(알파벳)"
      ],
      "metadata": {
        "id": "XLGpuoa_GcpP",
        "colab": {
          "base_uri": "https://localhost:8080/"
        },
        "outputId": "d2801674-7a18-42fc-d6f0-577df48dde22"
      },
      "execution_count": null,
      "outputs": [
        {
          "output_type": "stream",
          "name": "stdout",
          "text": [
            "A\n",
            "D\n"
          ]
        }
      ]
    },
    {
      "cell_type": "code",
      "source": [
        "# 156번\n",
        "리스트 = [\"A\", \"b\", \"c\", \"D\"]\n",
        "for 알파벳 in 리스트:\n",
        "  if 알파벳.islower():\n",
        "    print(알파벳)"
      ],
      "metadata": {
        "id": "tWkUZc54Gci8",
        "colab": {
          "base_uri": "https://localhost:8080/"
        },
        "outputId": "ea9ffd44-8c28-42c9-ddb8-65c7e7887326"
      },
      "execution_count": null,
      "outputs": [
        {
          "output_type": "stream",
          "name": "stdout",
          "text": [
            "b\n",
            "c\n"
          ]
        }
      ]
    },
    {
      "cell_type": "code",
      "source": [
        "# 157번\n",
        "리스트 = ['dog', 'cat', 'parrot']\n",
        "for 동물 in 리스트:\n",
        "  print(동물.upper())"
      ],
      "metadata": {
        "id": "JSC9kcxEGccp",
        "colab": {
          "base_uri": "https://localhost:8080/"
        },
        "outputId": "af7e10d8-41d6-4a8f-8c4b-9509e6a1e339"
      },
      "execution_count": null,
      "outputs": [
        {
          "output_type": "stream",
          "name": "stdout",
          "text": [
            "DOG\n",
            "CAT\n",
            "PARROT\n"
          ]
        }
      ]
    },
    {
      "cell_type": "code",
      "source": [
        "# 158번\n",
        "리스트 = ['hello.py', 'ex01.py', 'intro.hwp']\n",
        "for 파일 in 리스트:\n",
        "  print(파일.split('.')[0]) # 마침표 구분자 \".\" 문자열 분할, 0번 인덱스 파일 이름만 출력  "
      ],
      "metadata": {
        "id": "FRMt4BfYGcXY",
        "colab": {
          "base_uri": "https://localhost:8080/"
        },
        "outputId": "a70b7eaa-e76a-4ae5-866f-e522f33ebd25"
      },
      "execution_count": null,
      "outputs": [
        {
          "output_type": "stream",
          "name": "stdout",
          "text": [
            "hello\n",
            "ex01\n",
            "intro\n"
          ]
        }
      ]
    },
    {
      "cell_type": "code",
      "source": [
        "# 159번\n",
        "리스트 = ['intra.h', 'intra.c', 'define.h', 'run.py']\n",
        "for 파일 in 리스트:\n",
        "  split = 파일.split(\".\")\n",
        "  if split[1] == \"h\":\n",
        "    print(파일)"
      ],
      "metadata": {
        "id": "zymxjHPUGcSL",
        "colab": {
          "base_uri": "https://localhost:8080/"
        },
        "outputId": "96d9f1d3-283a-4d50-f349-4894cda3fa11"
      },
      "execution_count": null,
      "outputs": [
        {
          "output_type": "stream",
          "name": "stdout",
          "text": [
            "intra.h\n",
            "define.h\n"
          ]
        }
      ]
    },
    {
      "cell_type": "code",
      "source": [
        "# 160번\n",
        "리스트 = ['intra.h', 'intra.c', 'define.h', 'run.py']\n",
        "for 파일 in 리스트:\n",
        "  split = 파일.split(\".\")\n",
        "  if split[1] == \"h\" or split[1] == \"c\":\n",
        "    print(파일)"
      ],
      "metadata": {
        "id": "JRcL2o6BGcIk",
        "colab": {
          "base_uri": "https://localhost:8080/"
        },
        "outputId": "1a06e56c-beaf-4543-be0b-9eda41863ae8"
      },
      "execution_count": null,
      "outputs": [
        {
          "output_type": "stream",
          "name": "stdout",
          "text": [
            "intra.h\n",
            "intra.c\n",
            "define.h\n"
          ]
        }
      ]
    },
    {
      "cell_type": "code",
      "source": [
        "# 161번\n",
        "for i in range(100):\n",
        "  print(i)"
      ],
      "metadata": {
        "id": "2NYXr5BAGcDf",
        "colab": {
          "base_uri": "https://localhost:8080/"
        },
        "outputId": "119bf6b9-ca3c-4abf-abbc-6f46bf5eac49"
      },
      "execution_count": null,
      "outputs": [
        {
          "output_type": "stream",
          "name": "stdout",
          "text": [
            "0\n",
            "1\n",
            "2\n",
            "3\n",
            "4\n",
            "5\n",
            "6\n",
            "7\n",
            "8\n",
            "9\n",
            "10\n",
            "11\n",
            "12\n",
            "13\n",
            "14\n",
            "15\n",
            "16\n",
            "17\n",
            "18\n",
            "19\n",
            "20\n",
            "21\n",
            "22\n",
            "23\n",
            "24\n",
            "25\n",
            "26\n",
            "27\n",
            "28\n",
            "29\n",
            "30\n",
            "31\n",
            "32\n",
            "33\n",
            "34\n",
            "35\n",
            "36\n",
            "37\n",
            "38\n",
            "39\n",
            "40\n",
            "41\n",
            "42\n",
            "43\n",
            "44\n",
            "45\n",
            "46\n",
            "47\n",
            "48\n",
            "49\n",
            "50\n",
            "51\n",
            "52\n",
            "53\n",
            "54\n",
            "55\n",
            "56\n",
            "57\n",
            "58\n",
            "59\n",
            "60\n",
            "61\n",
            "62\n",
            "63\n",
            "64\n",
            "65\n",
            "66\n",
            "67\n",
            "68\n",
            "69\n",
            "70\n",
            "71\n",
            "72\n",
            "73\n",
            "74\n",
            "75\n",
            "76\n",
            "77\n",
            "78\n",
            "79\n",
            "80\n",
            "81\n",
            "82\n",
            "83\n",
            "84\n",
            "85\n",
            "86\n",
            "87\n",
            "88\n",
            "89\n",
            "90\n",
            "91\n",
            "92\n",
            "93\n",
            "94\n",
            "95\n",
            "96\n",
            "97\n",
            "98\n",
            "99\n"
          ]
        }
      ]
    },
    {
      "cell_type": "code",
      "source": [
        "# 162번\n",
        "for i in range(2002,2051,4):\n",
        "  print(i)"
      ],
      "metadata": {
        "id": "j962hnUnGb_B",
        "colab": {
          "base_uri": "https://localhost:8080/"
        },
        "outputId": "c7e6344f-228e-462b-c0e8-5a1ecd0f7ae0"
      },
      "execution_count": null,
      "outputs": [
        {
          "output_type": "stream",
          "name": "stdout",
          "text": [
            "2002\n",
            "2006\n",
            "2010\n",
            "2014\n",
            "2018\n",
            "2022\n",
            "2026\n",
            "2030\n",
            "2034\n",
            "2038\n",
            "2042\n",
            "2046\n",
            "2050\n"
          ]
        }
      ]
    },
    {
      "cell_type": "code",
      "source": [
        "# 163번\n",
        "for i in range(1,31):\n",
        " if i % 3 == 0: \n",
        "  print(i)\n",
        "\n",
        "#for num in range(3, 31, 3):\n",
        "#    print (num)\n"
      ],
      "metadata": {
        "id": "TtNJA63WGb5_",
        "colab": {
          "base_uri": "https://localhost:8080/"
        },
        "outputId": "d9e0aac7-b2ab-41ce-a5c7-9d07ab91dac7"
      },
      "execution_count": null,
      "outputs": [
        {
          "output_type": "stream",
          "name": "stdout",
          "text": [
            "3\n",
            "6\n",
            "9\n",
            "12\n",
            "15\n",
            "18\n",
            "21\n",
            "24\n",
            "27\n",
            "30\n"
          ]
        }
      ]
    },
    {
      "cell_type": "code",
      "source": [
        "# 164번\n",
        "for i in range(99,0,-1):\n",
        "  print(i)\n",
        "# for i in range(100):\n",
        "#    print(99 - i)"
      ],
      "metadata": {
        "id": "8Cd6XdvKGb07",
        "colab": {
          "base_uri": "https://localhost:8080/"
        },
        "outputId": "26d42500-46ce-4df3-cb03-4865e1bd690a"
      },
      "execution_count": null,
      "outputs": [
        {
          "output_type": "stream",
          "name": "stdout",
          "text": [
            "99\n",
            "98\n",
            "97\n",
            "96\n",
            "95\n",
            "94\n",
            "93\n",
            "92\n",
            "91\n",
            "90\n",
            "89\n",
            "88\n",
            "87\n",
            "86\n",
            "85\n",
            "84\n",
            "83\n",
            "82\n",
            "81\n",
            "80\n",
            "79\n",
            "78\n",
            "77\n",
            "76\n",
            "75\n",
            "74\n",
            "73\n",
            "72\n",
            "71\n",
            "70\n",
            "69\n",
            "68\n",
            "67\n",
            "66\n",
            "65\n",
            "64\n",
            "63\n",
            "62\n",
            "61\n",
            "60\n",
            "59\n",
            "58\n",
            "57\n",
            "56\n",
            "55\n",
            "54\n",
            "53\n",
            "52\n",
            "51\n",
            "50\n",
            "49\n",
            "48\n",
            "47\n",
            "46\n",
            "45\n",
            "44\n",
            "43\n",
            "42\n",
            "41\n",
            "40\n",
            "39\n",
            "38\n",
            "37\n",
            "36\n",
            "35\n",
            "34\n",
            "33\n",
            "32\n",
            "31\n",
            "30\n",
            "29\n",
            "28\n",
            "27\n",
            "26\n",
            "25\n",
            "24\n",
            "23\n",
            "22\n",
            "21\n",
            "20\n",
            "19\n",
            "18\n",
            "17\n",
            "16\n",
            "15\n",
            "14\n",
            "13\n",
            "12\n",
            "11\n",
            "10\n",
            "9\n",
            "8\n",
            "7\n",
            "6\n",
            "5\n",
            "4\n",
            "3\n",
            "2\n",
            "1\n"
          ]
        }
      ]
    },
    {
      "cell_type": "code",
      "source": [
        "# 165번\n",
        "for i in range(0,10):\n",
        " print(i / 10)"
      ],
      "metadata": {
        "id": "hpcBhD5FGbwo",
        "colab": {
          "base_uri": "https://localhost:8080/"
        },
        "outputId": "4c024da5-651e-48b8-db21-81198c547b59"
      },
      "execution_count": null,
      "outputs": [
        {
          "output_type": "stream",
          "name": "stdout",
          "text": [
            "0.0\n",
            "0.1\n",
            "0.2\n",
            "0.3\n",
            "0.4\n",
            "0.5\n",
            "0.6\n",
            "0.7\n",
            "0.8\n",
            "0.9\n"
          ]
        }
      ]
    },
    {
      "cell_type": "code",
      "source": [
        "# 166번\n",
        "for i in range(1,10): \n",
        "    print(3, '*', i, '=', 3 * i)"
      ],
      "metadata": {
        "id": "5sNdzGDpGbse",
        "colab": {
          "base_uri": "https://localhost:8080/"
        },
        "outputId": "b87b53da-1eae-49a2-84b7-906ba81de811"
      },
      "execution_count": null,
      "outputs": [
        {
          "output_type": "stream",
          "name": "stdout",
          "text": [
            "3 * 1 = 3\n",
            "3 * 2 = 6\n",
            "3 * 3 = 9\n",
            "3 * 4 = 12\n",
            "3 * 5 = 15\n",
            "3 * 6 = 18\n",
            "3 * 7 = 21\n",
            "3 * 8 = 24\n",
            "3 * 9 = 27\n"
          ]
        }
      ]
    },
    {
      "cell_type": "code",
      "source": [
        "# 167번\n",
        "for i in range(1,10): \n",
        "  if i % 2 == 1:\n",
        "    print(3, '*', i, '=', 3 * i)"
      ],
      "metadata": {
        "id": "U3jTftzAGbnu",
        "colab": {
          "base_uri": "https://localhost:8080/"
        },
        "outputId": "7a59fdab-f417-48dd-e5c8-73861ed12851"
      },
      "execution_count": null,
      "outputs": [
        {
          "output_type": "stream",
          "name": "stdout",
          "text": [
            "3 * 1 = 3\n",
            "3 * 3 = 9\n",
            "3 * 5 = 15\n",
            "3 * 7 = 21\n",
            "3 * 9 = 27\n"
          ]
        }
      ]
    },
    {
      "cell_type": "code",
      "source": [
        "# 168번\n",
        "x = 0\n",
        "for y in range(1, 11):\n",
        "    x = x + y\n",
        "print (\"합 :\", x)"
      ],
      "metadata": {
        "id": "0eKYlmKjGbjD",
        "colab": {
          "base_uri": "https://localhost:8080/"
        },
        "outputId": "34e3399d-bb97-4af3-962e-c662f02846bd"
      },
      "execution_count": null,
      "outputs": [
        {
          "output_type": "stream",
          "name": "stdout",
          "text": [
            "합 : 55\n"
          ]
        }
      ]
    },
    {
      "cell_type": "code",
      "source": [
        "# 169번\n",
        "x = 0\n",
        "for y in range(1,11,2):\n",
        "    x = x + y\n",
        "print(\"합 :\", x)"
      ],
      "metadata": {
        "id": "TCQ80NVGGbe6",
        "colab": {
          "base_uri": "https://localhost:8080/"
        },
        "outputId": "c93ecabb-88ae-4205-8a88-3697f69ca7e5"
      },
      "execution_count": null,
      "outputs": [
        {
          "output_type": "stream",
          "name": "stdout",
          "text": [
            "합 : 25\n"
          ]
        }
      ]
    },
    {
      "cell_type": "code",
      "source": [
        "# 170번\n",
        "x = 1\n",
        "for y in range(1,11):\n",
        "  x = x * y\n",
        "print(x)"
      ],
      "metadata": {
        "id": "UKy5osQ4Gbaw",
        "colab": {
          "base_uri": "https://localhost:8080/"
        },
        "outputId": "86ab23e8-a3e7-4158-c9da-4699305def4a"
      },
      "execution_count": null,
      "outputs": [
        {
          "output_type": "stream",
          "name": "stdout",
          "text": [
            "3628800\n"
          ]
        }
      ]
    },
    {
      "cell_type": "code",
      "source": [
        "# 171번\n",
        "price_list = [32100, 32150, 32000, 32500]\n",
        "for i in range(4):\n",
        "  print(price_list[i])"
      ],
      "metadata": {
        "id": "npvgDgMuGbWA",
        "colab": {
          "base_uri": "https://localhost:8080/"
        },
        "outputId": "77c80e3e-a7ff-4f70-9230-05113b2ccede"
      },
      "execution_count": null,
      "outputs": [
        {
          "output_type": "stream",
          "name": "stdout",
          "text": [
            "32100\n",
            "32150\n",
            "32000\n",
            "32500\n"
          ]
        }
      ]
    },
    {
      "cell_type": "code",
      "source": [
        "# 172번 enumerate() = 기본적으로 인덱스와 원소로 이루어진 튜플(tuple) 만들어줌.\n",
        "price_list = [32100, 32150, 32000, 32500]\n",
        "for i, data in enumerate(price_list):\n",
        "    print(i, data)"
      ],
      "metadata": {
        "id": "-9RqJCIpGbRE",
        "colab": {
          "base_uri": "https://localhost:8080/"
        },
        "outputId": "4f5cd376-513b-4bf8-98df-2d3ca8f85689"
      },
      "execution_count": null,
      "outputs": [
        {
          "output_type": "stream",
          "name": "stdout",
          "text": [
            "0 32100\n",
            "1 32150\n",
            "2 32000\n",
            "3 32500\n"
          ]
        }
      ]
    },
    {
      "cell_type": "code",
      "source": [
        "# 173번\n",
        "price_list = [32100, 32150, 32000, 32500]\n",
        "for i, data in list(enumerate(price_list)):\n",
        "    print(3 - i, data)"
      ],
      "metadata": {
        "id": "BgVUQ2L5GbL_",
        "colab": {
          "base_uri": "https://localhost:8080/"
        },
        "outputId": "0c09aa43-7509-42c1-9c27-f7beed10af0f"
      },
      "execution_count": null,
      "outputs": [
        {
          "output_type": "stream",
          "name": "stdout",
          "text": [
            "3 32100\n",
            "2 32150\n",
            "1 32000\n",
            "0 32500\n"
          ]
        }
      ]
    },
    {
      "cell_type": "code",
      "source": [
        "# 174번\n",
        "price_list = [32100, 32150, 32000, 32500]\n",
        "for i in range(1, 4):\n",
        "    print(90 + 10 * i, price_list[i] )"
      ],
      "metadata": {
        "id": "NrLervbvGbFm",
        "colab": {
          "base_uri": "https://localhost:8080/"
        },
        "outputId": "591a7c38-2646-4136-e635-5500166f0d4f"
      },
      "execution_count": null,
      "outputs": [
        {
          "output_type": "stream",
          "name": "stdout",
          "text": [
            "100 32150\n",
            "110 32000\n",
            "120 32500\n"
          ]
        }
      ]
    },
    {
      "cell_type": "code",
      "source": [
        "# 175번\n",
        "my_list = [\"가\", \"나\", \"다\", \"라\"]\n",
        "for i in [0, 1, 2]:\n",
        "    print(my_list[i], my_list[i+1])"
      ],
      "metadata": {
        "id": "wQRZpmmpGa-D",
        "colab": {
          "base_uri": "https://localhost:8080/"
        },
        "outputId": "49e49513-6bcf-43a8-c793-4b7b4f8da2e4"
      },
      "execution_count": null,
      "outputs": [
        {
          "output_type": "stream",
          "name": "stdout",
          "text": [
            "가 나\n",
            "나 다\n",
            "다 라\n"
          ]
        }
      ]
    },
    {
      "cell_type": "code",
      "source": [
        "# 176번\n",
        "my_list = [\"가\", \"나\", \"다\", \"라\", \"마\"]\n",
        "for i in[0, 1, 2]:\n",
        "    print(my_list[i], my_list[i+1], my_list[i+2])"
      ],
      "metadata": {
        "id": "K5VpoYzqGa3o",
        "colab": {
          "base_uri": "https://localhost:8080/"
        },
        "outputId": "0ec2c937-f48f-4557-d944-a7ddaf0e7d78"
      },
      "execution_count": null,
      "outputs": [
        {
          "output_type": "stream",
          "name": "stdout",
          "text": [
            "가 나 다\n",
            "나 다 라\n",
            "다 라 마\n"
          ]
        }
      ]
    },
    {
      "cell_type": "code",
      "source": [
        "# 177번\n",
        "my_list = [\"가\", \"나\", \"다\", \"라\"]\n",
        "for i in[0, -1, -2]:\n",
        "    print(my_list[i-1], my_list[i-2])"
      ],
      "metadata": {
        "id": "iXT_IaYdGaxR",
        "colab": {
          "base_uri": "https://localhost:8080/"
        },
        "outputId": "f1a9eba4-d9f5-43d6-f9a1-1275dd226d8f"
      },
      "execution_count": null,
      "outputs": [
        {
          "output_type": "stream",
          "name": "stdout",
          "text": [
            "라 다\n",
            "다 나\n",
            "나 가\n"
          ]
        }
      ]
    },
    {
      "cell_type": "code",
      "source": [
        "# 178번\n",
        "my_list = [100, 200, 400, 800]\n",
        "for i in[0, 1, 2]:\n",
        "    print(my_list[i+1] - my_list[i])"
      ],
      "metadata": {
        "id": "Y7Sz__FqGaqP",
        "colab": {
          "base_uri": "https://localhost:8080/"
        },
        "outputId": "37ff2b9b-9fa9-41dc-ec88-51d1fb7a4a72"
      },
      "execution_count": null,
      "outputs": [
        {
          "output_type": "stream",
          "name": "stdout",
          "text": [
            "100\n",
            "200\n",
            "400\n"
          ]
        }
      ]
    },
    {
      "cell_type": "code",
      "source": [
        "# 179번\n",
        "my_list = [100, 200, 400, 800, 1000, 1300]\n",
        "for i in[0, 1, 2, 3]:\n",
        "    print((my_list[i] + my_list[i+1] + my_list[i+2]) / 3)"
      ],
      "metadata": {
        "id": "dCH1FpKgGajd",
        "colab": {
          "base_uri": "https://localhost:8080/"
        },
        "outputId": "1ead603e-cbf1-4ed5-ceb3-d331374ac311"
      },
      "execution_count": null,
      "outputs": [
        {
          "output_type": "stream",
          "name": "stdout",
          "text": [
            "233.33333333333334\n",
            "466.6666666666667\n",
            "733.3333333333334\n",
            "1033.3333333333333\n"
          ]
        }
      ]
    },
    {
      "cell_type": "code",
      "source": [
        "# 180번 len()은 리스트에 들어있는 원소 개수, append()는 리스트에 값을 추가하는 함수\n",
        "low_prices  = [100, 200, 400, 800, 1000]\n",
        "high_prices = [150, 300, 430, 880, 1000]\n",
        "#for i in[0, 1, 2, 3, 4]:\n",
        "#    volatility = high_prices[i] - low_prices[i]\n",
        "#    print(volatility)\n",
        "\n",
        "volatility = []\n",
        "for i in range(len(low_prices)) :\n",
        "    volatility.append(high_prices[i] - low_prices[i])\n",
        "    print(volatility)"
      ],
      "metadata": {
        "id": "ZEvP93gnGaKw",
        "colab": {
          "base_uri": "https://localhost:8080/"
        },
        "outputId": "11e5fec3-e065-4a33-e4a4-640d6358b71c"
      },
      "execution_count": null,
      "outputs": [
        {
          "output_type": "stream",
          "name": "stdout",
          "text": [
            "[50]\n",
            "[50, 100]\n",
            "[50, 100, 30]\n",
            "[50, 100, 30, 80]\n",
            "[50, 100, 30, 80, 0]\n"
          ]
        }
      ]
    },
    {
      "cell_type": "code",
      "source": [
        "# 181번 2차원 리스트 = 리스트 안에 리스트가 들어간 것\n",
        "apart = [[\"101호\", \"201호\"], [\"301호\",\"102호\"], [\"202호\", \"302호\"]]\n",
        "print(apart)\n"
      ],
      "metadata": {
        "id": "-YH0sD83GaFA",
        "colab": {
          "base_uri": "https://localhost:8080/"
        },
        "outputId": "ab8f658f-58df-4583-967a-515dd93b287f"
      },
      "execution_count": null,
      "outputs": [
        {
          "output_type": "stream",
          "name": "stdout",
          "text": [
            "[['101호', '201호'], ['301호', '102호'], ['202호', '302호']]\n"
          ]
        }
      ]
    },
    {
      "cell_type": "code",
      "source": [
        "# 182번\n",
        "stock = [[\"시가\", 100, 200, 300], [\"종가\", 80, 210, 330]]\n",
        "print(stock)"
      ],
      "metadata": {
        "id": "TR-DHc2xGZ_5",
        "colab": {
          "base_uri": "https://localhost:8080/"
        },
        "outputId": "e096d157-6a24-428d-811a-01b417f95ba5"
      },
      "execution_count": null,
      "outputs": [
        {
          "output_type": "stream",
          "name": "stdout",
          "text": [
            "[['시가', 100, 200, 300], ['종가', 80, 210, 330]]\n"
          ]
        }
      ]
    },
    {
      "cell_type": "code",
      "source": [
        "# 183번\n",
        "stock = {\"시가\" : [100, 200, 300]}, {\"종가\" : [ 80, 210, 330]}\n",
        "print(stock)"
      ],
      "metadata": {
        "id": "_PJKL39BGZ55",
        "colab": {
          "base_uri": "https://localhost:8080/"
        },
        "outputId": "fea39968-0688-468f-c3de-ddf688a274d0"
      },
      "execution_count": null,
      "outputs": [
        {
          "output_type": "stream",
          "name": "stdout",
          "text": [
            "({'시가': [100, 200, 300]}, {'종가': [80, 210, 330]})\n"
          ]
        }
      ]
    },
    {
      "cell_type": "code",
      "source": [
        "# 184번\n",
        "stock = {\"10/10\" : [80, 100, 70, 90], \"10/11\" : [210, 230, 190, 200]}\n",
        "print(stock)"
      ],
      "metadata": {
        "id": "DdfQRAycGZ0l",
        "colab": {
          "base_uri": "https://localhost:8080/"
        },
        "outputId": "e9241071-3582-4a19-a0e8-2bc0c3556cdb"
      },
      "execution_count": null,
      "outputs": [
        {
          "output_type": "stream",
          "name": "stdout",
          "text": [
            "{'10/10': [80, 100, 70, 90], '10/11': [210, 230, 190, 200]}\n"
          ]
        }
      ]
    },
    {
      "cell_type": "code",
      "source": [
        "# 185번 첫번째 for문 [101, 102] 이런식, 두번째 for문 101, 102 이런식\n",
        "apart = [ [101, 102], [201, 202], [301, 302] ]\n",
        "for row in apart:\n",
        "    for col in row:\n",
        "        print( col, \"호\")"
      ],
      "metadata": {
        "id": "DMW9Y6M3GZuT",
        "colab": {
          "base_uri": "https://localhost:8080/"
        },
        "outputId": "e188e887-9eb3-488d-f551-8fb06ef730b0"
      },
      "execution_count": null,
      "outputs": [
        {
          "output_type": "stream",
          "name": "stdout",
          "text": [
            "101 호\n",
            "102 호\n",
            "201 호\n",
            "202 호\n",
            "301 호\n",
            "302 호\n"
          ]
        }
      ]
    },
    {
      "cell_type": "code",
      "source": [
        "# 186번\n",
        "apart = [ [101, 102], [201, 202], [301, 302] ]\n",
        "for row in apart[::-1]:\n",
        "    for col in row:\n",
        "        print(col, \"호\")"
      ],
      "metadata": {
        "id": "XgHm4KjgGZqg",
        "colab": {
          "base_uri": "https://localhost:8080/"
        },
        "outputId": "ea89106c-be9b-4fe0-d1af-8796024503f1"
      },
      "execution_count": null,
      "outputs": [
        {
          "output_type": "stream",
          "name": "stdout",
          "text": [
            "301 호\n",
            "302 호\n",
            "201 호\n",
            "202 호\n",
            "101 호\n",
            "102 호\n"
          ]
        }
      ]
    },
    {
      "cell_type": "code",
      "source": [
        "# 187번\n",
        "apart = [ [101, 102], [201, 202], [301, 302] ]\n",
        "for row in apart[::-1]:\n",
        "    for col in row[::-1]:\n",
        "        print( col, \"호\")"
      ],
      "metadata": {
        "id": "5vR3B5RiGZmP",
        "colab": {
          "base_uri": "https://localhost:8080/"
        },
        "outputId": "b5eab26f-cbb4-4f02-a501-4ca1974d8d52"
      },
      "execution_count": null,
      "outputs": [
        {
          "output_type": "stream",
          "name": "stdout",
          "text": [
            "302 호\n",
            "301 호\n",
            "202 호\n",
            "201 호\n",
            "102 호\n",
            "101 호\n"
          ]
        }
      ]
    },
    {
      "cell_type": "code",
      "source": [
        "# 188번\n",
        "apart = [ [101, 102], [201, 202], [301, 302] ]\n",
        "for row in apart:\n",
        "    for col in row:\n",
        "        print( col, \"호\")\n",
        "        print(\"-----\")"
      ],
      "metadata": {
        "id": "pHq4Oz07GZhs",
        "colab": {
          "base_uri": "https://localhost:8080/"
        },
        "outputId": "3902b23f-77b0-477e-ea2d-1099b172a9ef"
      },
      "execution_count": null,
      "outputs": [
        {
          "output_type": "stream",
          "name": "stdout",
          "text": [
            "101 호\n",
            "-----\n",
            "102 호\n",
            "-----\n",
            "201 호\n",
            "-----\n",
            "202 호\n",
            "-----\n",
            "301 호\n",
            "-----\n",
            "302 호\n",
            "-----\n"
          ]
        }
      ]
    },
    {
      "cell_type": "code",
      "source": [
        "# 189번\n",
        "apart = [ [101, 102], [201, 202], [301, 302] ]\n",
        "for row in apart:\n",
        "    for col in row:\n",
        "        print( col, \"호\")\n",
        "    print(\"-----\")"
      ],
      "metadata": {
        "id": "WTOtEwmjGZcu",
        "colab": {
          "base_uri": "https://localhost:8080/"
        },
        "outputId": "e020eae3-6919-4ad7-d5ea-17d412e3054a"
      },
      "execution_count": null,
      "outputs": [
        {
          "output_type": "stream",
          "name": "stdout",
          "text": [
            "101 호\n",
            "102 호\n",
            "-----\n",
            "201 호\n",
            "202 호\n",
            "-----\n",
            "301 호\n",
            "302 호\n",
            "-----\n"
          ]
        }
      ]
    },
    {
      "cell_type": "code",
      "source": [
        "# 190번\n",
        "apart = [ [101, 102], [201, 202], [301, 302] ]\n",
        "apart = [ [101, 102], [201, 202], [301, 302] ]\n",
        "for row in apart:\n",
        "    for col in row:\n",
        "        print( col, \"호\")\n",
        "print(\"-----\")"
      ],
      "metadata": {
        "id": "-PIxJoiVGZYA",
        "colab": {
          "base_uri": "https://localhost:8080/"
        },
        "outputId": "a2ca8a75-bf8a-4bf4-a6c8-f40ce4578daa"
      },
      "execution_count": null,
      "outputs": [
        {
          "output_type": "stream",
          "name": "stdout",
          "text": [
            "101 호\n",
            "102 호\n",
            "201 호\n",
            "202 호\n",
            "301 호\n",
            "302 호\n",
            "-----\n"
          ]
        }
      ]
    },
    {
      "cell_type": "code",
      "source": [
        "# 191번\n",
        "data = [\n",
        "    [ 2000,  3050,  2050,  1980],\n",
        "    [ 7500,  2050,  2050,  1980],\n",
        "    [15450, 15050, 15550, 14900]\n",
        "]\n",
        "for i in data:\n",
        "    for num in i:\n",
        "        print(num * 1.00014)"
      ],
      "metadata": {
        "id": "m6yk-ANIGZTh",
        "colab": {
          "base_uri": "https://localhost:8080/"
        },
        "outputId": "1de4e2ad-4b4b-4f61-8812-96322a543483"
      },
      "execution_count": null,
      "outputs": [
        {
          "output_type": "stream",
          "name": "stdout",
          "text": [
            "2000.28\n",
            "3050.427\n",
            "2050.2870000000003\n",
            "1980.2772\n",
            "7501.05\n",
            "2050.2870000000003\n",
            "2050.2870000000003\n",
            "1980.2772\n",
            "15452.163\n",
            "15052.107\n",
            "15552.177\n",
            "14902.086000000001\n"
          ]
        }
      ]
    },
    {
      "cell_type": "code",
      "source": [
        "# 192번\n",
        "data = [\n",
        "    [ 2000,  3050,  2050,  1980],\n",
        "    [ 7500,  2050,  2050,  1980],\n",
        "    [15450, 15050, 15550, 14900]\n",
        "]\n",
        "for i in data:\n",
        "    for num in i:\n",
        "        print(num * 1.00014)\n",
        "    print(\"----\")"
      ],
      "metadata": {
        "id": "PXKKM3fUGZOf",
        "colab": {
          "base_uri": "https://localhost:8080/"
        },
        "outputId": "6caed816-cbf0-4d76-88bd-2359d3cd2acf"
      },
      "execution_count": null,
      "outputs": [
        {
          "output_type": "stream",
          "name": "stdout",
          "text": [
            "2000.28\n",
            "3050.427\n",
            "2050.2870000000003\n",
            "1980.2772\n",
            "----\n",
            "7501.05\n",
            "2050.2870000000003\n",
            "2050.2870000000003\n",
            "1980.2772\n",
            "----\n",
            "15452.163\n",
            "15052.107\n",
            "15552.177\n",
            "14902.086000000001\n",
            "----\n"
          ]
        }
      ]
    },
    {
      "cell_type": "code",
      "source": [
        "# 193번\n",
        "data = [\n",
        "    [ 2000,  3050,  2050,  1980],\n",
        "    [ 7500,  2050,  2050,  1980],\n",
        "    [15450, 15050, 15550, 14900]\n",
        "]\n",
        "result = []\n",
        "for line in data:\n",
        "    for col in line:\n",
        "        result.append(col * 1.00014)\n",
        "print(result)"
      ],
      "metadata": {
        "id": "svJ9Cc_9GZJe",
        "colab": {
          "base_uri": "https://localhost:8080/"
        },
        "outputId": "a7712b6e-9ecd-4427-fcca-b291375c146d"
      },
      "execution_count": null,
      "outputs": [
        {
          "output_type": "stream",
          "name": "stdout",
          "text": [
            "[2000.28, 3050.427, 2050.2870000000003, 1980.2772, 7501.05, 2050.2870000000003, 2050.2870000000003, 1980.2772, 15452.163, 15052.107, 15552.177, 14902.086000000001]\n"
          ]
        }
      ]
    },
    {
      "cell_type": "code",
      "source": [
        "# 194번\n",
        "data = [\n",
        "    [ 2000,  3050,  2050,  1980],\n",
        "    [ 7500,  2050,  2050,  1980],\n",
        "    [15450, 15050, 15550, 14900]\n",
        "]\n",
        "result = []\n",
        "for line in data:\n",
        "    sub = []\n",
        "    for column in line:\n",
        "        sub.append(column * 1.00014)\n",
        "    result.append(sub)\n",
        "print(result)"
      ],
      "metadata": {
        "id": "D45k-H5-GZFD",
        "colab": {
          "base_uri": "https://localhost:8080/"
        },
        "outputId": "be6feab2-9f9b-41fc-90cf-c3f9789d5fc9"
      },
      "execution_count": null,
      "outputs": [
        {
          "output_type": "stream",
          "name": "stdout",
          "text": [
            "[[2000.28, 3050.427, 2050.2870000000003, 1980.2772], [7501.05, 2050.2870000000003, 2050.2870000000003, 1980.2772], [15452.163, 15052.107, 15552.177, 14902.086000000001]]\n"
          ]
        }
      ]
    },
    {
      "cell_type": "code",
      "source": [
        "# 195번\n",
        "ohlc = [[\"open\", \"high\", \"low\", \"close\"],\n",
        "        [100, 110, 70, 100],\n",
        "        [200, 210, 180, 190],\n",
        "        [300, 310, 300, 310]]\n",
        "for row in ohlc[1:]:\n",
        "    print(row[3])        "
      ],
      "metadata": {
        "id": "48lRHtQVGZAA",
        "colab": {
          "base_uri": "https://localhost:8080/"
        },
        "outputId": "4faff571-f863-4ad0-a57e-845f8936ecf7"
      },
      "execution_count": null,
      "outputs": [
        {
          "output_type": "stream",
          "name": "stdout",
          "text": [
            "100\n",
            "190\n",
            "310\n"
          ]
        }
      ]
    },
    {
      "cell_type": "code",
      "source": [
        "# 196번\n",
        "ohlc = [[\"open\", \"high\", \"low\", \"close\"],\n",
        "        [100, 110, 70, 100],\n",
        "        [200, 210, 180, 190],\n",
        "        [300, 310, 300, 310]]\n",
        "for row in ohlc[1:]:\n",
        " if row[3] > 150:\n",
        "    print(row[3])    "
      ],
      "metadata": {
        "id": "1G3xtbEzGY7K",
        "colab": {
          "base_uri": "https://localhost:8080/"
        },
        "outputId": "8e2e684c-8c98-4e24-90cd-d730a03fcb90"
      },
      "execution_count": null,
      "outputs": [
        {
          "output_type": "stream",
          "name": "stdout",
          "text": [
            "190\n",
            "310\n"
          ]
        }
      ]
    },
    {
      "cell_type": "code",
      "source": [
        "# 197번\n",
        "ohlc = [[\"open\", \"high\", \"low\", \"close\"],\n",
        "        [100, 110, 70, 100],\n",
        "        [200, 210, 180, 190],\n",
        "        [300, 310, 300, 310]]\n",
        "for row in ohlc[1:]:\n",
        " if row[3] >= row[0]:\n",
        "    print(row[3]) "
      ],
      "metadata": {
        "id": "p82bCfU-GY11",
        "colab": {
          "base_uri": "https://localhost:8080/"
        },
        "outputId": "f5ac5e41-6687-43e7-ada7-98c0c68e3b15"
      },
      "execution_count": null,
      "outputs": [
        {
          "output_type": "stream",
          "name": "stdout",
          "text": [
            "100\n",
            "310\n"
          ]
        }
      ]
    },
    {
      "cell_type": "code",
      "source": [
        "# 198번\n",
        "ohlc = [[\"open\", \"high\", \"low\", \"close\"],\n",
        "        [100, 110, 70, 100],\n",
        "        [200, 210, 180, 190],\n",
        "        [300, 310, 300, 310]]\n",
        "volatility = []\n",
        "for row in ohlc[1:]:\n",
        "    volatility.append(row[1]-row[2])\n",
        "    print(volatility)"
      ],
      "metadata": {
        "id": "Mi_OuLEPGYwp",
        "colab": {
          "base_uri": "https://localhost:8080/"
        },
        "outputId": "5cee20fb-b1b0-4baf-9c9d-c49962962b91"
      },
      "execution_count": null,
      "outputs": [
        {
          "output_type": "stream",
          "name": "stdout",
          "text": [
            "[40]\n",
            "[40, 30]\n",
            "[40, 30, 10]\n"
          ]
        }
      ]
    },
    {
      "cell_type": "code",
      "source": [
        "# 199번\n",
        "ohlc = [[\"open\", \"high\", \"low\", \"close\"],\n",
        "        [100, 110, 70, 100],\n",
        "        [200, 210, 180, 190],\n",
        "        [300, 310, 300, 310]]\n",
        "for row in ohlc[1:]:\n",
        "    if row[3] > row[0]:\n",
        "        print(row[1]-row[2])       "
      ],
      "metadata": {
        "id": "lyuSB4XgGYqn",
        "colab": {
          "base_uri": "https://localhost:8080/"
        },
        "outputId": "96356fcd-181f-4722-ade4-da316b939b08"
      },
      "execution_count": null,
      "outputs": [
        {
          "output_type": "stream",
          "name": "stdout",
          "text": [
            "10\n"
          ]
        }
      ]
    },
    {
      "cell_type": "code",
      "source": [
        "# 200번\n",
        "ohlc = [[\"open\", \"high\", \"low\", \"close\"],\n",
        "        [100, 110, 70, 100],\n",
        "        [200, 210, 180, 190],\n",
        "        [300, 310, 300, 310]]\n",
        "profit = 0\n",
        "for row in ohlc[1:]:\n",
        "    profit += (row[3] - row[0])     \n",
        "    print(profit)"
      ],
      "metadata": {
        "id": "FFfHp4zVHEe5",
        "colab": {
          "base_uri": "https://localhost:8080/"
        },
        "outputId": "16cc3145-5298-46c4-ac9c-5b1979b1d9d5"
      },
      "execution_count": null,
      "outputs": [
        {
          "output_type": "stream",
          "name": "stdout",
          "text": [
            "0\n",
            "-10\n",
            "0\n"
          ]
        }
      ]
    }
  ]
}