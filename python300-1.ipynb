{
  "nbformat": 4,
  "nbformat_minor": 0,
  "metadata": {
    "colab": {
      "name": "파이썬300제.ipynb",
      "provenance": [],
      "collapsed_sections": [],
      "authorship_tag": "ABX9TyO+z1j0MwQmFIVM8KlR0jbk",
      "include_colab_link": true
    },
    "kernelspec": {
      "name": "python3",
      "display_name": "Python 3"
    },
    "language_info": {
      "name": "python"
    }
  },
  "cells": [
    {
      "cell_type": "markdown",
      "metadata": {
        "id": "view-in-github",
        "colab_type": "text"
      },
      "source": [
        "<a href=\"https://colab.research.google.com/github/jemjemster/python-basic/blob/main/python300-1.ipynb\" target=\"_parent\"><img src=\"https://colab.research.google.com/assets/colab-badge.svg\" alt=\"Open In Colab\"/></a>"
      ]
    },
    {
      "cell_type": "markdown",
      "source": [
        "#  1.파이썬 시작하기\n"
      ],
      "metadata": {
        "id": "sJLWBB9cUkgh"
      }
    },
    {
      "cell_type": "code",
      "execution_count": null,
      "metadata": {
        "colab": {
          "base_uri": "https://localhost:8080/"
        },
        "id": "q0j2gw3SUU3T",
        "outputId": "a17f9cc9-a790-45e7-c917-ea781131030b"
      },
      "outputs": [
        {
          "output_type": "stream",
          "name": "stdout",
          "text": [
            "Hello World\n"
          ]
        }
      ],
      "source": [
        "#1번 \n",
        "print(\"Hello World\")"
      ]
    },
    {
      "cell_type": "code",
      "source": [
        "#2번\n",
        "print(\"Mary's cosmetics\")"
      ],
      "metadata": {
        "colab": {
          "base_uri": "https://localhost:8080/"
        },
        "id": "fcBr37PJWEUl",
        "outputId": "9df8c630-39fc-4aef-b8e0-c480b1ea2fe3"
      },
      "execution_count": null,
      "outputs": [
        {
          "output_type": "stream",
          "name": "stdout",
          "text": [
            "Mary's cosmetics\n"
          ]
        }
      ]
    },
    {
      "cell_type": "code",
      "source": [
        "#3번\n",
        "print('신씨가 소리질렀다. \"도둑이야\".') "
      ],
      "metadata": {
        "colab": {
          "base_uri": "https://localhost:8080/"
        },
        "id": "QYmU0hZIWfwp",
        "outputId": "a13d5471-7cb4-46a3-9f4f-e26c5f8b6308"
      },
      "execution_count": null,
      "outputs": [
        {
          "output_type": "stream",
          "name": "stdout",
          "text": [
            "신씨가 소리질렀다. \"도둑이야\".\n"
          ]
        }
      ]
    },
    {
      "cell_type": "code",
      "source": [
        "#4번\n",
        "print(\"C:＼Windows\")"
      ],
      "metadata": {
        "colab": {
          "base_uri": "https://localhost:8080/"
        },
        "id": "JdJx6ih7WxO2",
        "outputId": "a08a8c32-8655-4db4-8858-e3bcdb6b79d1"
      },
      "execution_count": null,
      "outputs": [
        {
          "output_type": "stream",
          "name": "stdout",
          "text": [
            "C:＼Windows\n"
          ]
        }
      ]
    },
    {
      "cell_type": "code",
      "source": [
        "#5번 \\n은 줄바꿈,\\t는 탭\n",
        "print(\"안녕하세요.\\n만나서\\t\\t반갑습니다.\")"
      ],
      "metadata": {
        "colab": {
          "base_uri": "https://localhost:8080/"
        },
        "id": "htnTjRP6n1MZ",
        "outputId": "0159d3a6-0ee2-4cd0-ac85-4e9070636612"
      },
      "execution_count": null,
      "outputs": [
        {
          "output_type": "stream",
          "name": "stdout",
          "text": [
            "안녕하세요.\n",
            "만나서\t\t반갑습니다.\n"
          ]
        }
      ]
    },
    {
      "cell_type": "code",
      "source": [
        "#6번 여러 값 출력하려면 print함수에서 쉼표로 구분 \n",
        "print(\"오늘은\",\"일요일\")"
      ],
      "metadata": {
        "colab": {
          "base_uri": "https://localhost:8080/"
        },
        "id": "1hbq1TW4oMkl",
        "outputId": "2aab2940-3ba4-481a-a7cb-041a97026175"
      },
      "execution_count": null,
      "outputs": [
        {
          "output_type": "stream",
          "name": "stdout",
          "text": [
            "오늘은 일요일\n"
          ]
        }
      ]
    },
    {
      "cell_type": "code",
      "source": [
        "#7번 sep함수 사용 : 출력문들 사이 해당하는 내용 입력 가능\n",
        "#print(\"naver\", \"kakao\", \"samsung\", sep=\";\") -> 공백 대신 ;\n",
        "print(\"naver;\",\"kakao;\",\"samsung\")\n"
      ],
      "metadata": {
        "colab": {
          "base_uri": "https://localhost:8080/"
        },
        "id": "9z9xYYInodXu",
        "outputId": "72bffa1e-c1b1-42f0-dec3-caad762b04d0"
      },
      "execution_count": null,
      "outputs": [
        {
          "output_type": "stream",
          "name": "stdout",
          "text": [
            "naver; kakao; samsung\n"
          ]
        }
      ]
    },
    {
      "cell_type": "code",
      "source": [
        "#8번\n",
        "#print(\"naver\", \"kakao\", \"samsung\", sep=\"/\") -> 공백 대신 /\n",
        "print(\"naver/\",\"kakao/\",\"sk/\",\"samsung\")"
      ],
      "metadata": {
        "colab": {
          "base_uri": "https://localhost:8080/"
        },
        "id": "cq4jLh3Hoie1",
        "outputId": "23b48107-134b-43db-83ce-2bc7964e99eb"
      },
      "execution_count": null,
      "outputs": [
        {
          "output_type": "stream",
          "name": "stdout",
          "text": [
            "naver/ kakao/ sk/ samsung\n"
          ]
        }
      ]
    },
    {
      "cell_type": "code",
      "source": [
        "#9번 end함수 -> 출력값과 이어서 출력(줄바꿈 X), \n",
        "# end='' 무언가 입력하게 되면 sep함수처럼 문장에 추가됨. \n",
        "print(\"first\" ,end=\"\");print(\"second\")"
      ],
      "metadata": {
        "colab": {
          "base_uri": "https://localhost:8080/"
        },
        "id": "4gK11llpok0t",
        "outputId": "6ebbdf97-b26a-47d8-ea7d-73bfe31c3723"
      },
      "execution_count": null,
      "outputs": [
        {
          "output_type": "stream",
          "name": "stdout",
          "text": [
            "firstsecond\n"
          ]
        }
      ]
    },
    {
      "cell_type": "code",
      "source": [
        "#10번\n",
        "print(5/3)"
      ],
      "metadata": {
        "colab": {
          "base_uri": "https://localhost:8080/"
        },
        "id": "VuXenJinolFU",
        "outputId": "a3d80715-def3-40d4-c450-9a80be09c13d"
      },
      "execution_count": null,
      "outputs": [
        {
          "output_type": "stream",
          "name": "stdout",
          "text": [
            "1.6666666666666667\n"
          ]
        }
      ]
    },
    {
      "cell_type": "markdown",
      "source": [
        "# 2.파이썬 변수\n"
      ],
      "metadata": {
        "id": "KuBVcV0woedE"
      }
    },
    {
      "cell_type": "code",
      "source": [
        "#11번\n",
        "삼성전자 = 50000\n",
        "총평가금액 = 50000 * 10\n",
        "print(총평가금액)"
      ],
      "metadata": {
        "colab": {
          "base_uri": "https://localhost:8080/"
        },
        "id": "9YcYIAKEQr0o",
        "outputId": "b44ddc9f-3d93-472d-83e9-0caac278a0cb"
      },
      "execution_count": null,
      "outputs": [
        {
          "output_type": "stream",
          "name": "stdout",
          "text": [
            "500000\n"
          ]
        }
      ]
    },
    {
      "cell_type": "code",
      "source": [
        "#12번 \n",
        "시가총액 = 298000000000000\n",
        "현재가 = 50000\n",
        "PER = 15.79\n",
        "print(시가총액,type(시가총액))\n",
        "print(현재가,type(현재가))\n",
        "print(PER, type(PER))"
      ],
      "metadata": {
        "colab": {
          "base_uri": "https://localhost:8080/"
        },
        "id": "152s58q8QrwU",
        "outputId": "281fc5ef-1841-48a5-c5ab-9396e9e4eb7c"
      },
      "execution_count": null,
      "outputs": [
        {
          "output_type": "stream",
          "name": "stdout",
          "text": [
            "298000000000000 <class 'int'>\n",
            "50000 <class 'int'>\n",
            "15.79 <class 'float'>\n"
          ]
        }
      ]
    },
    {
      "cell_type": "code",
      "source": [
        "#13번\n",
        "s = \"hello\"\n",
        "t = \"python\"\n",
        "print(s + '!', t)"
      ],
      "metadata": {
        "colab": {
          "base_uri": "https://localhost:8080/"
        },
        "id": "ksz7x935Qrqs",
        "outputId": "24e0df15-72dd-452a-f050-8d6cc8cc3a48"
      },
      "execution_count": null,
      "outputs": [
        {
          "output_type": "stream",
          "name": "stdout",
          "text": [
            "hello! python\n"
          ]
        }
      ]
    },
    {
      "cell_type": "code",
      "source": [
        "#14번\n",
        "print(2 + 2 * 3)"
      ],
      "metadata": {
        "colab": {
          "base_uri": "https://localhost:8080/"
        },
        "id": "XnUNG9-tQrk9",
        "outputId": "853fd50e-1fb4-4771-ff92-5fd12a5b0969"
      },
      "execution_count": null,
      "outputs": [
        {
          "output_type": "stream",
          "name": "stdout",
          "text": [
            "8\n"
          ]
        }
      ]
    },
    {
      "cell_type": "code",
      "source": [
        "#15번\n",
        "#a = 128\n",
        "#print(type(a))\n",
        "a = \"132\" #숫자여도 \" \"안에 들어가있으면 문자열이다.\n",
        "print(type(a)) "
      ],
      "metadata": {
        "colab": {
          "base_uri": "https://localhost:8080/"
        },
        "id": "01vz085ZQrfe",
        "outputId": "09c713d6-44eb-42ba-9521-1404c66fdd85"
      },
      "execution_count": null,
      "outputs": [
        {
          "output_type": "stream",
          "name": "stdout",
          "text": [
            "<class 'str'>\n"
          ]
        }
      ]
    },
    {
      "cell_type": "code",
      "source": [
        "#16번\n",
        "num_str = \"720\"\n",
        "num_int = int(num_str) # 정수형 변환\n",
        "print(num_int, type(num_int))"
      ],
      "metadata": {
        "colab": {
          "base_uri": "https://localhost:8080/"
        },
        "id": "CYIVJwhSQrWo",
        "outputId": "c503fc8a-9358-4996-b130-c71c7f48e157"
      },
      "execution_count": null,
      "outputs": [
        {
          "output_type": "stream",
          "name": "stdout",
          "text": [
            "720 <class 'int'>\n"
          ]
        }
      ]
    },
    {
      "cell_type": "code",
      "source": [
        "#17번\n",
        "num = 100\n",
        "num_str = str(num)\n",
        "print(num_str, type(num_str))"
      ],
      "metadata": {
        "colab": {
          "base_uri": "https://localhost:8080/"
        },
        "id": "FHZJfbRqQrPT",
        "outputId": "019ce285-6171-4623-9953-7833b208e847"
      },
      "execution_count": null,
      "outputs": [
        {
          "output_type": "stream",
          "name": "stdout",
          "text": [
            "100 <class 'str'>\n"
          ]
        }
      ]
    },
    {
      "cell_type": "code",
      "source": [
        "#18번\n",
        "#data = \"15.79\"\n",
        "#data = float(data)\n",
        "#print(data, type(data)) 최대한 간단하게\n",
        "\n",
        "str = \"15.79\"\n",
        "str_float = float(str)\n",
        "print(str_float, type(str_float))"
      ],
      "metadata": {
        "colab": {
          "base_uri": "https://localhost:8080/"
        },
        "id": "S3pme1fEQrHz",
        "outputId": "f15d4051-efa1-4331-da90-baf768df1378"
      },
      "execution_count": null,
      "outputs": [
        {
          "output_type": "stream",
          "name": "stdout",
          "text": [
            "15.79 <class 'float'>\n"
          ]
        }
      ]
    },
    {
      "cell_type": "code",
      "source": [
        "#19번\n",
        "year = \"2020\"\n",
        "year_int = int(year) #생략 가능 \n",
        "print(int(year) - 3)\n",
        "print(int(year) - 2)\n",
        "print(int(year) - 1)"
      ],
      "metadata": {
        "colab": {
          "base_uri": "https://localhost:8080/"
        },
        "id": "JxH1CBJUQq_i",
        "outputId": "3246ba4b-0bff-445a-94cf-ea55f70f8625"
      },
      "execution_count": null,
      "outputs": [
        {
          "output_type": "stream",
          "name": "stdout",
          "text": [
            "2017\n",
            "2018\n",
            "2019\n"
          ]
        }
      ]
    },
    {
      "cell_type": "code",
      "source": [
        "#20번\n",
        "# 월 = 48584\n",
        "# 총금액 = 월 * 36\n",
        "# print(총금액)\n",
        "에어컨 = 48584 * 36  \n",
        "print(\"총금액\" + \"\\t=\",에어컨 )"
      ],
      "metadata": {
        "colab": {
          "base_uri": "https://localhost:8080/"
        },
        "id": "XnvUNcutQqyZ",
        "outputId": "91fed3dc-3ff8-4259-ad6e-758c1618b126"
      },
      "execution_count": null,
      "outputs": [
        {
          "output_type": "stream",
          "name": "stdout",
          "text": [
            "총금액\t= 1749024\n"
          ]
        }
      ]
    },
    {
      "cell_type": "markdown",
      "source": [
        "# 3.파이썬 문자열"
      ],
      "metadata": {
        "id": "nePDVZvE75Pg"
      }
    },
    {
      "cell_type": "code",
      "source": [
        "#21번\n",
        "letters = 'python'\n",
        "print(letters[0],letters[2])"
      ],
      "metadata": {
        "id": "lFCT1v8O8DVp",
        "colab": {
          "base_uri": "https://localhost:8080/"
        },
        "outputId": "545daa03-fc76-4e81-d3f8-feb488b2c8f7"
      },
      "execution_count": null,
      "outputs": [
        {
          "output_type": "stream",
          "name": "stdout",
          "text": [
            "p t\n"
          ]
        }
      ]
    },
    {
      "cell_type": "code",
      "source": [
        "#22번\n",
        "num = \"24가 2210\"\n",
        "print(num[-4:])"
      ],
      "metadata": {
        "id": "yZJMDh6-8EwP",
        "colab": {
          "base_uri": "https://localhost:8080/"
        },
        "outputId": "fa6b2bb6-7623-4c0a-c2c4-c23c69056144"
      },
      "execution_count": null,
      "outputs": [
        {
          "output_type": "stream",
          "name": "stdout",
          "text": [
            "2210\n"
          ]
        }
      ]
    },
    {
      "cell_type": "code",
      "source": [
        "#23번\n",
        "string = \"홀짝홀짝홀짝\"\n",
        "print(string[::2]) #2칸씩 넘어간다. "
      ],
      "metadata": {
        "id": "Xg2F4MRQ8Ep3",
        "colab": {
          "base_uri": "https://localhost:8080/"
        },
        "outputId": "4a811a59-0c9c-4541-adc2-cd5ae22ce7a2"
      },
      "execution_count": null,
      "outputs": [
        {
          "output_type": "stream",
          "name": "stdout",
          "text": [
            "홀홀홀\n"
          ]
        }
      ]
    },
    {
      "cell_type": "code",
      "source": [
        "#24번\n",
        "string = \"PYTHON\"\n",
        "print(string[::-1])"
      ],
      "metadata": {
        "id": "UMogj1oi8Eje",
        "colab": {
          "base_uri": "https://localhost:8080/"
        },
        "outputId": "0a10c3ac-a37e-46a3-9643-ebd616f9d14b"
      },
      "execution_count": null,
      "outputs": [
        {
          "output_type": "stream",
          "name": "stdout",
          "text": [
            "NOHTYP\n"
          ]
        }
      ]
    },
    {
      "cell_type": "code",
      "source": [
        "#25번\n",
        "num = \"010-1111-2222\"\n",
        "num1 = num.replace(\"-\", \" \") # \" \" 좀만 띄면 된다.\n",
        "print(num1)"
      ],
      "metadata": {
        "id": "tTsGxZrk8Ech",
        "colab": {
          "base_uri": "https://localhost:8080/"
        },
        "outputId": "bd09efd6-9abf-4d43-b4e5-78712d1985e5"
      },
      "execution_count": null,
      "outputs": [
        {
          "output_type": "stream",
          "name": "stdout",
          "text": [
            "010 1111 2222\n"
          ]
        }
      ]
    },
    {
      "cell_type": "code",
      "source": [
        "#26번\n",
        "num = \"010-1111-2222\"\n",
        "num1 = num.replace(\"-\", \"\") # \"\" 붙이면 된다.\n",
        "print(num1)"
      ],
      "metadata": {
        "id": "sqC9Lm7U8ETU",
        "colab": {
          "base_uri": "https://localhost:8080/"
        },
        "outputId": "feb51d62-0bc5-4eb1-84e2-ad497c285565"
      },
      "execution_count": null,
      "outputs": [
        {
          "output_type": "stream",
          "name": "stdout",
          "text": [
            "01011112222\n"
          ]
        }
      ]
    },
    {
      "cell_type": "code",
      "source": [
        "#27번\n",
        "url = \"http://sharebook.kr\"\n",
        "#print(url[-2:])\n",
        "url_split = url.split('.')\n",
        "print(url_split[-1])"
      ],
      "metadata": {
        "id": "iUIbDqrO8EIx",
        "colab": {
          "base_uri": "https://localhost:8080/"
        },
        "outputId": "ea3818ab-aca1-4577-89f1-6a1f2e08e9b2"
      },
      "execution_count": null,
      "outputs": [
        {
          "output_type": "stream",
          "name": "stdout",
          "text": [
            "kr\n"
          ]
        }
      ]
    },
    {
      "cell_type": "code",
      "source": [
        "#28번 문자열은 수정할 수 없다. 문자열이 할당(assignment)매서즈 지원 안함\n",
        "lang = 'python'\n",
        "lang[0] = 'P'\n",
        "print(lang)"
      ],
      "metadata": {
        "id": "-Vflb2JI8D_g",
        "colab": {
          "base_uri": "https://localhost:8080/",
          "height": 226
        },
        "outputId": "4d532309-18a9-4a72-b450-a06fe59bb99d"
      },
      "execution_count": null,
      "outputs": [
        {
          "output_type": "error",
          "ename": "TypeError",
          "evalue": "ignored",
          "traceback": [
            "\u001b[0;31m---------------------------------------------------------------------------\u001b[0m",
            "\u001b[0;31mTypeError\u001b[0m                                 Traceback (most recent call last)",
            "\u001b[0;32m<ipython-input-8-d601104a7f1c>\u001b[0m in \u001b[0;36m<module>\u001b[0;34m()\u001b[0m\n\u001b[1;32m      1\u001b[0m \u001b[0;31m#28번\u001b[0m\u001b[0;34m\u001b[0m\u001b[0;34m\u001b[0m\u001b[0;34m\u001b[0m\u001b[0m\n\u001b[1;32m      2\u001b[0m \u001b[0mlang\u001b[0m \u001b[0;34m=\u001b[0m \u001b[0;34m'python'\u001b[0m\u001b[0;34m\u001b[0m\u001b[0;34m\u001b[0m\u001b[0m\n\u001b[0;32m----> 3\u001b[0;31m \u001b[0mlang\u001b[0m\u001b[0;34m[\u001b[0m\u001b[0;36m0\u001b[0m\u001b[0;34m]\u001b[0m \u001b[0;34m=\u001b[0m \u001b[0;34m'P'\u001b[0m\u001b[0;34m\u001b[0m\u001b[0;34m\u001b[0m\u001b[0m\n\u001b[0m\u001b[1;32m      4\u001b[0m \u001b[0mprint\u001b[0m\u001b[0;34m(\u001b[0m\u001b[0mlang\u001b[0m\u001b[0;34m)\u001b[0m\u001b[0;34m\u001b[0m\u001b[0;34m\u001b[0m\u001b[0m\n",
            "\u001b[0;31mTypeError\u001b[0m: 'str' object does not support item assignment"
          ]
        }
      ]
    },
    {
      "cell_type": "code",
      "source": [
        "#29번\n",
        "string = 'abcdfe2a354a32a'\n",
        "string = string.replace('a','A') #문자열 바꾸기\n",
        "print(string)"
      ],
      "metadata": {
        "id": "355dH-0v8D2I",
        "colab": {
          "base_uri": "https://localhost:8080/"
        },
        "outputId": "93107d72-6aeb-4f5d-9b19-8e8a06d7d693"
      },
      "execution_count": null,
      "outputs": [
        {
          "output_type": "stream",
          "name": "stdout",
          "text": [
            "Abcdfe2A354A32A\n"
          ]
        }
      ]
    },
    {
      "cell_type": "code",
      "source": [
        "#30번 문자열은 변경할 수 없다.\n",
        "string = 'abcd'\n",
        "string.replace('b','B')\n",
        "print(string)"
      ],
      "metadata": {
        "id": "YDnlyOk_8Do1",
        "colab": {
          "base_uri": "https://localhost:8080/"
        },
        "outputId": "34ade245-884e-4374-f04a-bf1c6ba02da0"
      },
      "execution_count": null,
      "outputs": [
        {
          "output_type": "stream",
          "name": "stdout",
          "text": [
            "abcd\n"
          ]
        }
      ]
    },
    {
      "cell_type": "markdown",
      "source": [
        "# 3-1 31번 ~ 40번"
      ],
      "metadata": {
        "id": "WJRDhqph8RoU"
      }
    },
    {
      "cell_type": "code",
      "source": [
        "#31번 덧셈은 문자열의 연결\n",
        "a = \"3\"\n",
        "b = \"4\"\n",
        "print(a+b)"
      ],
      "metadata": {
        "id": "bgEJF4Mj8lGL",
        "colab": {
          "base_uri": "https://localhost:8080/"
        },
        "outputId": "4ec76906-d733-4bb7-92c5-bc59eb92c90e"
      },
      "execution_count": null,
      "outputs": [
        {
          "output_type": "stream",
          "name": "stdout",
          "text": [
            "34\n"
          ]
        }
      ]
    },
    {
      "cell_type": "code",
      "source": [
        "#32번 Hi 3번 반복\n",
        "print(\"Hi\" * 3)"
      ],
      "metadata": {
        "id": "gXPPHX8B8lAu",
        "colab": {
          "base_uri": "https://localhost:8080/"
        },
        "outputId": "b5586704-6eee-422a-b31c-7c01e39ca3f3"
      },
      "execution_count": null,
      "outputs": [
        {
          "output_type": "stream",
          "name": "stdout",
          "text": [
            "HiHiHi\n"
          ]
        }
      ]
    },
    {
      "cell_type": "code",
      "source": [
        "#33번\n",
        "print(\"-\" * 80)"
      ],
      "metadata": {
        "id": "x6lGqXOl8k5f",
        "colab": {
          "base_uri": "https://localhost:8080/"
        },
        "outputId": "76e3c5fa-dcf3-4db3-939f-7d0b3193a2af"
      },
      "execution_count": null,
      "outputs": [
        {
          "output_type": "stream",
          "name": "stdout",
          "text": [
            "--------------------------------------------------------------------------------\n"
          ]
        }
      ]
    },
    {
      "cell_type": "code",
      "source": [
        "#34번\n",
        "t1 = 'python'\n",
        "t2 = 'java'\n",
        "print( (t1 + t2) * 4)"
      ],
      "metadata": {
        "id": "1caFccAA8kzR",
        "colab": {
          "base_uri": "https://localhost:8080/"
        },
        "outputId": "099c6465-39e9-4cbf-9497-4b5c72c91772"
      },
      "execution_count": null,
      "outputs": [
        {
          "output_type": "stream",
          "name": "stdout",
          "text": [
            "pythonjavapythonjavapythonjavapythonjava\n"
          ]
        }
      ]
    },
    {
      "cell_type": "code",
      "source": [
        "#35번\n",
        "name1 = \"김민수\"\n",
        "age1 = 10\n",
        "name2 = \"이철희\"\n",
        "age2 = 13\n",
        "print(\"이름: %s 나이: %d\" %(name1, age1))\n",
        "print(\"이름: %s 나이: %d\" %(name2, age2))"
      ],
      "metadata": {
        "id": "szBet2vb8ktc",
        "colab": {
          "base_uri": "https://localhost:8080/"
        },
        "outputId": "e23e28cc-f923-409b-c0b2-196e9fd648b8"
      },
      "execution_count": null,
      "outputs": [
        {
          "output_type": "stream",
          "name": "stdout",
          "text": [
            "이름: 김민수 나이: 10\n",
            "이름: 이철희 나이: 13\n"
          ]
        }
      ]
    },
    {
      "cell_type": "code",
      "source": [
        "#36번\n",
        "name1 = \"김민수\"\n",
        "age1 = 10\n",
        "name2 = \"이철희\"\n",
        "age2 = 13\n",
        "print(\"이름: {} 나이: {}\".format(name1, age1)) #format 타입과 상관없이 값 출력될 위치에 {} 적어주면 됨\n",
        "print(\"이름: {} 나이: {}\".format(name2, age2))"
      ],
      "metadata": {
        "id": "289W5ZZw8kn8"
      },
      "execution_count": null,
      "outputs": []
    },
    {
      "cell_type": "code",
      "source": [
        "#37번\n",
        "name1 = \"김민수\"\n",
        "age1 = 10\n",
        "name2 = \"이철희\"\n",
        "age = 13\n",
        "print(f\"이름: {name1} 나이: {age1}\") #f-string {변수}형태로 문자열 사이에 타입 상관없이 입력 가능\n",
        "print(f\"이름: {name2} 나이: {age2}\")"
      ],
      "metadata": {
        "id": "wbyu4q-g8ki0",
        "colab": {
          "base_uri": "https://localhost:8080/"
        },
        "outputId": "560a1487-07d5-45bd-f8fa-ac2047dc8a27"
      },
      "execution_count": null,
      "outputs": [
        {
          "output_type": "stream",
          "name": "stdout",
          "text": [
            "이름: 김민수 나이: 10\n",
            "이름: 이철희 나이: 13\n"
          ]
        }
      ]
    },
    {
      "cell_type": "code",
      "source": [
        "#38번\n",
        "상장주식수 = \"5,969,782,550\"\n",
        "제거 = 상장주식수.replace(\",\",\"\")\n",
        "변환 = int(제거)\n",
        "print(변환, type(변환))"
      ],
      "metadata": {
        "id": "G_zJIxkK8kdB",
        "colab": {
          "base_uri": "https://localhost:8080/"
        },
        "outputId": "2b93d9a0-f481-4bce-9870-448895db488e"
      },
      "execution_count": null,
      "outputs": [
        {
          "output_type": "stream",
          "name": "stdout",
          "text": [
            "5969782550 <class 'int'>\n"
          ]
        }
      ]
    },
    {
      "cell_type": "code",
      "source": [
        "#39번\n",
        "분기 = \"2020/03(E)  (IFRS연결)\"\n",
        "print(분기[:7])"
      ],
      "metadata": {
        "id": "UjO1yVJF8kXB",
        "colab": {
          "base_uri": "https://localhost:8080/"
        },
        "outputId": "254f14a1-1d35-4a15-9d77-3849e8325571"
      },
      "execution_count": null,
      "outputs": [
        {
          "output_type": "stream",
          "name": "stdout",
          "text": [
            "2020/03\n"
          ]
        }
      ]
    },
    {
      "cell_type": "code",
      "source": [
        "#40번\n",
        "data = \"   삼성전자    \"\n",
        "data1 = data.strip()\n",
        "print(data1)"
      ],
      "metadata": {
        "id": "Ds2k46KG8kL5",
        "colab": {
          "base_uri": "https://localhost:8080/"
        },
        "outputId": "e0306ecc-6636-4858-dab6-8a96a36de3a3"
      },
      "execution_count": null,
      "outputs": [
        {
          "output_type": "stream",
          "name": "stdout",
          "text": [
            "삼성전자\n"
          ]
        }
      ]
    },
    {
      "cell_type": "markdown",
      "source": [
        "# 3-2 41번 ~ 50번 "
      ],
      "metadata": {
        "id": "473eS_Nx8mKM"
      }
    },
    {
      "cell_type": "code",
      "source": [
        "#41번\n",
        "ticker = \"btc_krw\"\n",
        "ticker1 = ticker.upper()\n",
        "print(ticker1)"
      ],
      "metadata": {
        "id": "WS9o3tge8skQ",
        "colab": {
          "base_uri": "https://localhost:8080/"
        },
        "outputId": "4ca2dbde-32f3-46f9-8817-ba39d5974029"
      },
      "execution_count": null,
      "outputs": [
        {
          "output_type": "stream",
          "name": "stdout",
          "text": [
            "BTC_KRW\n"
          ]
        }
      ]
    },
    {
      "cell_type": "code",
      "source": [
        "#42번\n",
        "ticker = \"BTC_KRW\"\n",
        "ticker1 = ticker.lower()\n",
        "print(ticker1)"
      ],
      "metadata": {
        "id": "1En8KNuW8tvI",
        "colab": {
          "base_uri": "https://localhost:8080/"
        },
        "outputId": "5de9f281-f188-475f-ce52-511b4d96fc76"
      },
      "execution_count": null,
      "outputs": [
        {
          "output_type": "stream",
          "name": "stdout",
          "text": [
            "btc_krw\n"
          ]
        }
      ]
    },
    {
      "cell_type": "code",
      "source": [
        "#43번 capitalize() - 첫글자만 대문자로 변환\n",
        "a = \"hello\"\n",
        "a = a.capitalize()\n",
        "print(a)"
      ],
      "metadata": {
        "id": "KSi_eakD8tp_",
        "colab": {
          "base_uri": "https://localhost:8080/"
        },
        "outputId": "627d1f86-7411-464d-b176-9e788c6752ce"
      },
      "execution_count": null,
      "outputs": [
        {
          "output_type": "stream",
          "name": "stdout",
          "text": [
            "Hello\n"
          ]
        }
      ]
    },
    {
      "cell_type": "code",
      "source": [
        "#44번\n",
        "file_name = \"보고서.xlsx\"\n",
        "file_name.endswith(\"xlsx\")"
      ],
      "metadata": {
        "id": "K7pnTAdy8tkH",
        "colab": {
          "base_uri": "https://localhost:8080/"
        },
        "outputId": "68882d4e-f3f0-4f20-864c-3a39978270e3"
      },
      "execution_count": null,
      "outputs": [
        {
          "output_type": "execute_result",
          "data": {
            "text/plain": [
              "True"
            ]
          },
          "metadata": {},
          "execution_count": 17
        }
      ]
    },
    {
      "cell_type": "code",
      "source": [
        "#45번\n",
        "file_name = \"보고서.xlsx\"\n",
        "file_name.endswith((\"xlsx\", \"xls\"))"
      ],
      "metadata": {
        "id": "kLBb8iqY8teB",
        "colab": {
          "base_uri": "https://localhost:8080/"
        },
        "outputId": "7e46c216-5a7c-4c11-ebda-b0483c6d9590"
      },
      "execution_count": null,
      "outputs": [
        {
          "output_type": "execute_result",
          "data": {
            "text/plain": [
              "True"
            ]
          },
          "metadata": {},
          "execution_count": 18
        }
      ]
    },
    {
      "cell_type": "code",
      "source": [
        "#46번\n",
        "file_name = \"2020_보고서.xlsx\"\n",
        "file_name.startswith(\"2020\")"
      ],
      "metadata": {
        "id": "gh3D9Brx8tXw",
        "colab": {
          "base_uri": "https://localhost:8080/"
        },
        "outputId": "bb6059f6-946b-436d-d94c-10d87ec7c6a3"
      },
      "execution_count": null,
      "outputs": [
        {
          "output_type": "execute_result",
          "data": {
            "text/plain": [
              "True"
            ]
          },
          "metadata": {},
          "execution_count": 21
        }
      ]
    },
    {
      "cell_type": "code",
      "source": [
        "#47번\n",
        "a = \"hello world\"\n",
        "a.split()"
      ],
      "metadata": {
        "id": "w4tFeGZN8tR_",
        "colab": {
          "base_uri": "https://localhost:8080/"
        },
        "outputId": "18a5e9c2-002e-4cb8-ff4a-29d0fed3896c"
      },
      "execution_count": null,
      "outputs": [
        {
          "output_type": "execute_result",
          "data": {
            "text/plain": [
              "['hello', 'world']"
            ]
          },
          "metadata": {},
          "execution_count": 22
        }
      ]
    },
    {
      "cell_type": "code",
      "source": [
        "#48번\n",
        "ticker = \"btc_krw\"\n",
        "ticker.split(\"_\")"
      ],
      "metadata": {
        "id": "SKvGH7l08tLK",
        "colab": {
          "base_uri": "https://localhost:8080/"
        },
        "outputId": "30bb8706-d78d-407a-b9fd-103ea7162d59"
      },
      "execution_count": null,
      "outputs": [
        {
          "output_type": "execute_result",
          "data": {
            "text/plain": [
              "['btc', 'krw']"
            ]
          },
          "metadata": {},
          "execution_count": 23
        }
      ]
    },
    {
      "cell_type": "code",
      "source": [
        "#49번\n",
        "date = \"2020-05-01\"\n",
        "date.split(\"-\")"
      ],
      "metadata": {
        "id": "Yigf6a4g8tCu",
        "colab": {
          "base_uri": "https://localhost:8080/"
        },
        "outputId": "6e80f96a-c869-4d9f-c33d-aa4f7578981e"
      },
      "execution_count": null,
      "outputs": [
        {
          "output_type": "execute_result",
          "data": {
            "text/plain": [
              "['2020', '05', '01']"
            ]
          },
          "metadata": {},
          "execution_count": 24
        }
      ]
    },
    {
      "cell_type": "code",
      "source": [
        "#50번\n",
        "data = \"039490     \"\n",
        "data1 = data.rstrip()\n",
        "print(data1)"
      ],
      "metadata": {
        "id": "bBd369-J8s4o",
        "colab": {
          "base_uri": "https://localhost:8080/"
        },
        "outputId": "189c3592-ee64-49a9-8f31-bb7e55598f69"
      },
      "execution_count": null,
      "outputs": [
        {
          "output_type": "stream",
          "name": "stdout",
          "text": [
            "039490\n"
          ]
        }
      ]
    }
  ]
}