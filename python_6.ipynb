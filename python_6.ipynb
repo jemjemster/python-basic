{
  "nbformat": 4,
  "nbformat_minor": 0,
  "metadata": {
    "colab": {
      "name": "python-6.ipynb",
      "provenance": [],
      "collapsed_sections": [],
      "authorship_tag": "ABX9TyPabg/OpR3X8RfxesO3mKkr"
    },
    "kernelspec": {
      "name": "python3",
      "display_name": "Python 3"
    },
    "language_info": {
      "name": "python"
    }
  },
  "cells": [
    {
      "cell_type": "markdown",
      "source": [
        "## 파이썬 클래스 \n",
        "- 251번 ~ 280번\n"
      ],
      "metadata": {
        "id": "f6hhmClEniq5"
      }
    },
    {
      "cell_type": "code",
      "execution_count": null,
      "metadata": {
        "id": "q6iHRZnMlSqH"
      },
      "outputs": [],
      "source": [
        "# 251번\n",
        "# 클래스 : 데이터 유형 나타내는 데이터       ex) int,float,str 데이터 유형 → 클래스\n",
        "# 객체 : 메모리에 존재하는 개별 데이터       ex) 유형은 type(),정체성은 id()로 구할 수 있음\n",
        "# 인스턴스 : 어떤 클래스에 속한 객체(이 객체를 클래스의 인스턴스라 부름)\n",
        "\n",
        "# 붕어빵 틀(클래스), 붕어빵(인스턴스) → 인스턴스 = 객체 / 클래스에 의해 만들어진 객체가 인스턴스"
      ]
    },
    {
      "cell_type": "code",
      "source": [
        "# 252번\n",
        "class Human:\n",
        "    pass"
      ],
      "metadata": {
        "id": "9dGCZ1vuntxj"
      },
      "execution_count": null,
      "outputs": []
    },
    {
      "cell_type": "code",
      "source": [
        "# 253번\n",
        "class Human:\n",
        "    pass\n",
        "\n",
        "areum = Human()"
      ],
      "metadata": {
        "id": "k14eP1E_ntpY"
      },
      "execution_count": null,
      "outputs": []
    },
    {
      "cell_type": "code",
      "source": [
        "# 254번\n",
        "class Human:\n",
        "   def __init__(self):\n",
        "      print(\"흐하하\")\n",
        "\n",
        "areum = Human()"
      ],
      "metadata": {
        "colab": {
          "base_uri": "https://localhost:8080/"
        },
        "id": "kZNZ_ZGcnth5",
        "outputId": "c7d0a313-8794-4e2a-9767-8a1f1c9daab4"
      },
      "execution_count": null,
      "outputs": [
        {
          "output_type": "stream",
          "name": "stdout",
          "text": [
            "흐하하\n"
          ]
        }
      ]
    },
    {
      "cell_type": "code",
      "source": [
        "# 255번\n",
        "class Human:\n",
        "    def __init__(self, name, age, sex):\n",
        "        self.name = name\n",
        "        self.age = age\n",
        "        self.sex = sex\n",
        "\n",
        "areum = Human(\"김장꾸\", 25, \"남자\")\n",
        "print(areum.name)"
      ],
      "metadata": {
        "colab": {
          "base_uri": "https://localhost:8080/"
        },
        "id": "--JRZlKmntan",
        "outputId": "9b59ebfe-95e0-45cf-cda3-ab0548ef0dcb"
      },
      "execution_count": null,
      "outputs": [
        {
          "output_type": "stream",
          "name": "stdout",
          "text": [
            "김장꾸\n"
          ]
        }
      ]
    },
    {
      "cell_type": "code",
      "source": [
        "# 256번\n",
        "class Human:\n",
        "    def __init__(self, name, age, sex):\n",
        "        self.name = name\n",
        "        self.age = age\n",
        "        self.sex = sex\n",
        "\n",
        "areum = Human(\"잼미니\", 23, \"여자\")\n",
        "print(areum.age)"
      ],
      "metadata": {
        "colab": {
          "base_uri": "https://localhost:8080/"
        },
        "id": "Yq9HWjcentUM",
        "outputId": "7917693d-11af-4b30-929d-415b188b713a"
      },
      "execution_count": null,
      "outputs": [
        {
          "output_type": "stream",
          "name": "stdout",
          "text": [
            "23\n"
          ]
        }
      ]
    },
    {
      "cell_type": "code",
      "source": [
        "# 257번\n",
        "class Human:\n",
        "    def __init__(self, name, age, sex):\n",
        "        self.name = name\n",
        "        self.age = age\n",
        "        self.sex = sex\n",
        "\n",
        "    def who(self):\n",
        "        print(\"이름: {} 나이: {} 성별: {}\".format(self.name, self.age, self.sex)) \n",
        "\n",
        "areum = Human(\"잼민이\", 22, \"남자\")\n",
        "areum.who()   "
      ],
      "metadata": {
        "colab": {
          "base_uri": "https://localhost:8080/"
        },
        "id": "pS4lLJ-sntNH",
        "outputId": "f2b1617e-c880-4723-ebe9-045b50ad1ae0"
      },
      "execution_count": null,
      "outputs": [
        {
          "output_type": "stream",
          "name": "stdout",
          "text": [
            "이름: 잼민이 나이: 22 성별: 남자\n"
          ]
        }
      ]
    },
    {
      "cell_type": "code",
      "source": [
        "# 258번\n",
        "class Human:\n",
        "   def __init__(self, name, age, sex):\n",
        "       self.name = name\n",
        "       self.age = age\n",
        "       self.sex = sex\n",
        "\n",
        "   def who(self):\n",
        "       print(\"이름: {} 나이: {} 성별: {}\".format(self.name, self.age,self.sex))\n",
        "\n",
        "   def setinfo(self, name, age, sex):\n",
        "       self.name = name\n",
        "       self.age = age\n",
        "       self.sex = sex\n",
        "\n",
        "areum = Human(\"김장꾸\", \"25\", \"남자\")\n",
        "areum.who()\n",
        "\n",
        "areum.setinfo(\"쨈미니\", 25, \"여자\")\n",
        "areum.who()"
      ],
      "metadata": {
        "colab": {
          "base_uri": "https://localhost:8080/"
        },
        "id": "lqCC888GntGT",
        "outputId": "31e36800-5414-49d2-83f8-6baba600d47e"
      },
      "execution_count": null,
      "outputs": [
        {
          "output_type": "stream",
          "name": "stdout",
          "text": [
            "이름: 김장꾸 나이: 25 성별: 남자\n",
            "이름: 쨈미니 나이: 25 성별: 여자\n"
          ]
        }
      ]
    },
    {
      "cell_type": "code",
      "source": [
        "# 259번\n",
        "class Human:\n",
        "    def __init__(self, name, age, sex):\n",
        "        self.name = name\n",
        "        self.age = age\n",
        "        self.sex = sex\n",
        "    def __del__(self):\n",
        "        print(\"나의 죽음을 알리지마라\")\n",
        "\n",
        "    def who(self):\n",
        "        print(\"이름: {} 나이: {} 성별: {}\".format(self.name, self.age, self.sex))\n",
        "\n",
        "    def setinfo(self, name, age, sex):\n",
        "        self.name = name\n",
        "        self.age = age\n",
        "        self.sex = sex\n",
        "\n",
        "areum = Human(\"이순신\",100,\"남자\")\n",
        "del(areum)"
      ],
      "metadata": {
        "colab": {
          "base_uri": "https://localhost:8080/"
        },
        "id": "FVJHiuAyns-8",
        "outputId": "7e66609b-1719-4306-ff56-aa3c989a259c"
      },
      "execution_count": null,
      "outputs": [
        {
          "output_type": "stream",
          "name": "stdout",
          "text": [
            "나의 죽음을 알리지마라\n"
          ]
        }
      ]
    },
    {
      "cell_type": "code",
      "source": [
        "# 260번 \n",
        "class OMG :\n",
        "    def print() :\n",
        "        print(\"Oh my god\")\n",
        "\n",
        "\n",
        "mystock = OMG()\n",
        "mystock.print()  # → OMG.print(mystock)로 변환됨. def print()엔 인자가 없는데 mystock가 넘어와서! "
      ],
      "metadata": {
        "colab": {
          "base_uri": "https://localhost:8080/",
          "height": 227
        },
        "id": "aJrBNOnqns4S",
        "outputId": "f41dc777-b4ab-48b3-e263-0e734c7845c7"
      },
      "execution_count": null,
      "outputs": [
        {
          "output_type": "error",
          "ename": "TypeError",
          "evalue": "ignored",
          "traceback": [
            "\u001b[0;31m---------------------------------------------------------------------------\u001b[0m",
            "\u001b[0;31mTypeError\u001b[0m                                 Traceback (most recent call last)",
            "\u001b[0;32m<ipython-input-10-67b0b0e102e9>\u001b[0m in \u001b[0;36m<module>\u001b[0;34m()\u001b[0m\n\u001b[1;32m      6\u001b[0m \u001b[0;34m\u001b[0m\u001b[0m\n\u001b[1;32m      7\u001b[0m \u001b[0mmystock\u001b[0m \u001b[0;34m=\u001b[0m \u001b[0mOMG\u001b[0m\u001b[0;34m(\u001b[0m\u001b[0;34m)\u001b[0m\u001b[0;34m\u001b[0m\u001b[0;34m\u001b[0m\u001b[0m\n\u001b[0;32m----> 8\u001b[0;31m \u001b[0mmystock\u001b[0m\u001b[0;34m.\u001b[0m\u001b[0mprint\u001b[0m\u001b[0;34m(\u001b[0m\u001b[0;34m)\u001b[0m  \u001b[0;31m# → OMG.print(mystock)로 변환됨. def print()엔 인자가 없는데 mystock가 넘어와서!\u001b[0m\u001b[0;34m\u001b[0m\u001b[0;34m\u001b[0m\u001b[0m\n\u001b[0m",
            "\u001b[0;31mTypeError\u001b[0m: print() takes 0 positional arguments but 1 was given"
          ]
        }
      ]
    },
    {
      "cell_type": "code",
      "source": [
        "# 261번\n",
        "class stock:\n",
        "   pass"
      ],
      "metadata": {
        "id": "WmdCoTVqnsxo"
      },
      "execution_count": null,
      "outputs": []
    },
    {
      "cell_type": "code",
      "source": [
        "# 262번\n",
        "class stock:\n",
        "   def __init__(self, name, code):\n",
        "       self.name = name\n",
        "       self.code = code\n",
        "\n",
        "삼성 = stock(\"삼성전자\", \"005930\")\n",
        "print(삼성.name)\n",
        "print(삼성.code)"
      ],
      "metadata": {
        "colab": {
          "base_uri": "https://localhost:8080/"
        },
        "id": "R4EVIZpGnsrB",
        "outputId": "16cdb7fd-0bf1-4f44-e87b-9dffba28e557"
      },
      "execution_count": null,
      "outputs": [
        {
          "output_type": "stream",
          "name": "stdout",
          "text": [
            "삼성전자\n",
            "005930\n"
          ]
        }
      ]
    },
    {
      "cell_type": "code",
      "source": [
        "# 263번\n",
        "class stock:\n",
        "    def __init__(self, name, code):\n",
        "        self.name = name\n",
        "        self.code = code\n",
        "         \n",
        "    def set_name(self, name):\n",
        "        self.name = name\n",
        "\n",
        "a = stock(None, None)\n",
        "a.set_name(\"삼성전자\")\n",
        "print(a.name)"
      ],
      "metadata": {
        "colab": {
          "base_uri": "https://localhost:8080/"
        },
        "id": "_XWbwZsNnslH",
        "outputId": "4a3f038c-566e-4f61-f40c-cf3ae9b9b374"
      },
      "execution_count": null,
      "outputs": [
        {
          "output_type": "stream",
          "name": "stdout",
          "text": [
            "삼성전자\n"
          ]
        }
      ]
    },
    {
      "cell_type": "code",
      "source": [
        "# 264번\n",
        "class stock:\n",
        "    def __init__(self, name, code):\n",
        "        self.name = name\n",
        "        self.code = code\n",
        "    \n",
        "    def  set_name(self, name):\n",
        "         self.name = name\n",
        "\n",
        "    def set_code(self, code):\n",
        "         self.code = code     \n",
        "\n",
        "a = stock(None, None)\n",
        "a.set_code(\"005930\")\n",
        "print(a.code)"
      ],
      "metadata": {
        "colab": {
          "base_uri": "https://localhost:8080/"
        },
        "id": "zsGlpnObnsef",
        "outputId": "17254926-a18e-429f-8a5c-1af242e8998a"
      },
      "execution_count": null,
      "outputs": [
        {
          "output_type": "stream",
          "name": "stdout",
          "text": [
            "005930\n"
          ]
        }
      ]
    },
    {
      "cell_type": "code",
      "source": [
        "# 265번\n",
        "class stock:\n",
        "    def __init__(self, name, code):\n",
        "      self.name = name\n",
        "      self.code = code\n",
        "   \n",
        "    def set_name(self, name):\n",
        "      self.name = name\n",
        "\n",
        "    def set_code(self, code):\n",
        "       self.code = code\n",
        "\n",
        "    def get_name(self):\n",
        "       return self.name\n",
        "\n",
        "    def get_code(self):\n",
        "       return self.code\n",
        "\n",
        "삼성 = stock(\"삼성전자\",\"005930\")\n",
        "print(삼성.name)\n",
        "print(삼성.code)\n",
        "print(삼성.get_name())\n",
        "print(삼성.get_code())"
      ],
      "metadata": {
        "colab": {
          "base_uri": "https://localhost:8080/"
        },
        "id": "piQGbGPZnsXr",
        "outputId": "e96d2fc4-e658-4394-8441-2f7ba81b045b"
      },
      "execution_count": null,
      "outputs": [
        {
          "output_type": "stream",
          "name": "stdout",
          "text": [
            "삼성전자\n",
            "005930\n",
            "삼성전자\n",
            "005930\n"
          ]
        }
      ]
    },
    {
      "cell_type": "code",
      "source": [
        "# 266번 \n",
        "class stock:\n",
        "   def __init__(self, name, code, per, pbr, 배당수익률):\n",
        "       self.name = name\n",
        "       self.code = code\n",
        "       self.per = per\n",
        "       self.pbr = pbr\n",
        "       self.배당수익률 = 배당수익률\n",
        "\n",
        "   def set_name(self, name):\n",
        "       self.name = name\n",
        "\n",
        "   def set_code(self, code):\n",
        "       self.code = code\n",
        "\n",
        "   def get_name(self):\n",
        "       return self.name\n",
        "\n",
        "   def get_code(self):\n",
        "       return self.code    \n"
      ],
      "metadata": {
        "id": "C8PJd3KmnsR2"
      },
      "execution_count": null,
      "outputs": []
    },
    {
      "cell_type": "code",
      "source": [
        "# 267번\n",
        "삼성 = stock(\"삼성전자\", \"005930\", 15.79, 1.33, 2.83)\n",
        "print(삼성.배당수익률)"
      ],
      "metadata": {
        "colab": {
          "base_uri": "https://localhost:8080/"
        },
        "id": "xcwXbxuEnsLV",
        "outputId": "ba96a1db-c871-49eb-f55e-7386011cd7d3"
      },
      "execution_count": null,
      "outputs": [
        {
          "output_type": "stream",
          "name": "stdout",
          "text": [
            "2.83\n"
          ]
        }
      ]
    },
    {
      "cell_type": "code",
      "source": [
        "# 268번\n",
        "class stock:\n",
        "   def __init__(self, name, code, per, pbr, dividend):\n",
        "       self.name = name\n",
        "       self.code = code\n",
        "       self,per = per\n",
        "       self.pbr = pbr\n",
        "       self.dividend = dividend\n",
        "\n",
        "   def set_name(self, name):\n",
        "       self.name = name\n",
        "\n",
        "   def set_code(self, code):\n",
        "       self.code = code\n",
        "\n",
        "   def get_name(self):\n",
        "       return self.name \n",
        "\n",
        "   def get_code(self):\n",
        "       return self.code\n",
        "\n",
        "   def set_per(self, per):\n",
        "       self.per = per\n",
        "\n",
        "   def set_pbr(self, pbr):\n",
        "       self.pbr = pbr\n",
        "\n",
        "   def set_dividend(self, dividend):\n",
        "       self.dividend = dividend                          "
      ],
      "metadata": {
        "id": "tWiIVrI-nsEc"
      },
      "execution_count": null,
      "outputs": []
    },
    {
      "cell_type": "code",
      "source": [
        "# 269번 오류남\n",
        "삼성 = stock(\"삼성전자\", \"005930\", 15.79, 1.33, 2.83)\n",
        "삼성.set_per(12.75)\n",
        "print(삼성.per)"
      ],
      "metadata": {
        "colab": {
          "base_uri": "https://localhost:8080/",
          "height": 355
        },
        "id": "T6iowAfEnr9q",
        "outputId": "e07cf16a-fa05-406c-e4b5-6514f700cbc0"
      },
      "execution_count": null,
      "outputs": [
        {
          "output_type": "error",
          "ename": "TypeError",
          "evalue": "ignored",
          "traceback": [
            "\u001b[0;31m---------------------------------------------------------------------------\u001b[0m",
            "\u001b[0;31mTypeError\u001b[0m                                 Traceback (most recent call last)",
            "\u001b[0;32m<ipython-input-23-af0b6eff7b7c>\u001b[0m in \u001b[0;36m<module>\u001b[0;34m()\u001b[0m\n\u001b[1;32m      1\u001b[0m \u001b[0;31m# 269번 오류남\u001b[0m\u001b[0;34m\u001b[0m\u001b[0;34m\u001b[0m\u001b[0;34m\u001b[0m\u001b[0m\n\u001b[0;32m----> 2\u001b[0;31m \u001b[0m삼성\u001b[0m \u001b[0;34m=\u001b[0m \u001b[0mstock\u001b[0m\u001b[0;34m(\u001b[0m\u001b[0;34m\"삼성전자\"\u001b[0m\u001b[0;34m,\u001b[0m \u001b[0;34m\"005930\"\u001b[0m\u001b[0;34m,\u001b[0m \u001b[0;36m15.79\u001b[0m\u001b[0;34m,\u001b[0m \u001b[0;36m1.33\u001b[0m\u001b[0;34m,\u001b[0m \u001b[0;36m2.83\u001b[0m\u001b[0;34m)\u001b[0m\u001b[0;34m\u001b[0m\u001b[0;34m\u001b[0m\u001b[0m\n\u001b[0m\u001b[1;32m      3\u001b[0m \u001b[0m삼성\u001b[0m\u001b[0;34m.\u001b[0m\u001b[0mset_per\u001b[0m\u001b[0;34m(\u001b[0m\u001b[0;36m12.75\u001b[0m\u001b[0;34m)\u001b[0m\u001b[0;34m\u001b[0m\u001b[0;34m\u001b[0m\u001b[0m\n\u001b[1;32m      4\u001b[0m \u001b[0mprint\u001b[0m\u001b[0;34m(\u001b[0m\u001b[0m삼성\u001b[0m\u001b[0;34m.\u001b[0m\u001b[0mper\u001b[0m\u001b[0;34m)\u001b[0m\u001b[0;34m\u001b[0m\u001b[0;34m\u001b[0m\u001b[0m\n",
            "\u001b[0;32m<ipython-input-18-76b78897b9fe>\u001b[0m in \u001b[0;36m__init__\u001b[0;34m(self, name, code, per, pbr, dividend)\u001b[0m\n\u001b[1;32m      4\u001b[0m        \u001b[0mself\u001b[0m\u001b[0;34m.\u001b[0m\u001b[0mname\u001b[0m \u001b[0;34m=\u001b[0m \u001b[0mname\u001b[0m\u001b[0;34m\u001b[0m\u001b[0;34m\u001b[0m\u001b[0m\n\u001b[1;32m      5\u001b[0m        \u001b[0mself\u001b[0m\u001b[0;34m.\u001b[0m\u001b[0mcode\u001b[0m \u001b[0;34m=\u001b[0m \u001b[0mcode\u001b[0m\u001b[0;34m\u001b[0m\u001b[0;34m\u001b[0m\u001b[0m\n\u001b[0;32m----> 6\u001b[0;31m        \u001b[0mself\u001b[0m\u001b[0;34m,\u001b[0m\u001b[0mper\u001b[0m \u001b[0;34m=\u001b[0m \u001b[0mper\u001b[0m\u001b[0;34m\u001b[0m\u001b[0;34m\u001b[0m\u001b[0m\n\u001b[0m\u001b[1;32m      7\u001b[0m        \u001b[0mself\u001b[0m\u001b[0;34m.\u001b[0m\u001b[0mpbr\u001b[0m \u001b[0;34m=\u001b[0m \u001b[0mpbr\u001b[0m\u001b[0;34m\u001b[0m\u001b[0;34m\u001b[0m\u001b[0m\n\u001b[1;32m      8\u001b[0m        \u001b[0mself\u001b[0m\u001b[0;34m.\u001b[0m\u001b[0mdividend\u001b[0m \u001b[0;34m=\u001b[0m \u001b[0mdividend\u001b[0m\u001b[0;34m\u001b[0m\u001b[0;34m\u001b[0m\u001b[0m\n",
            "\u001b[0;31mTypeError\u001b[0m: cannot unpack non-iterable float object"
          ]
        }
      ]
    },
    {
      "cell_type": "code",
      "source": [
        "# 270번 이거도 오류..\n",
        "종목 = []\n",
        "\n",
        "삼성 = stock(\"삼성전자\", \"005930\", 15.79, 1.33, 2.83)\n",
        "현대차 = stock(\"현대차\", \"005380\", 8.70, 0.35, 4.27)\n",
        "LG전자 = stock(\"LG전자\", \"066570\", 317.34, 0.69, 1.37)\n",
        "\n",
        "종목.append(삼성)\n",
        "종목.append(현대차)\n",
        "종목.append(LG전자)\n",
        "\n",
        "for i in 종목:\n",
        "    print(i.code, i.per)"
      ],
      "metadata": {
        "colab": {
          "base_uri": "https://localhost:8080/",
          "height": 373
        },
        "id": "Pj_g6L7dnr3N",
        "outputId": "e476167d-9b2f-4dbd-ed80-c315d39b263a"
      },
      "execution_count": null,
      "outputs": [
        {
          "output_type": "error",
          "ename": "TypeError",
          "evalue": "ignored",
          "traceback": [
            "\u001b[0;31m---------------------------------------------------------------------------\u001b[0m",
            "\u001b[0;31mTypeError\u001b[0m                                 Traceback (most recent call last)",
            "\u001b[0;32m<ipython-input-26-8ea804970c0d>\u001b[0m in \u001b[0;36m<module>\u001b[0;34m()\u001b[0m\n\u001b[1;32m      2\u001b[0m \u001b[0m종목\u001b[0m \u001b[0;34m=\u001b[0m \u001b[0;34m[\u001b[0m\u001b[0;34m]\u001b[0m\u001b[0;34m\u001b[0m\u001b[0;34m\u001b[0m\u001b[0m\n\u001b[1;32m      3\u001b[0m \u001b[0;34m\u001b[0m\u001b[0m\n\u001b[0;32m----> 4\u001b[0;31m \u001b[0m삼성\u001b[0m \u001b[0;34m=\u001b[0m \u001b[0mstock\u001b[0m\u001b[0;34m(\u001b[0m\u001b[0;34m\"삼성전자\"\u001b[0m\u001b[0;34m,\u001b[0m \u001b[0;34m\"005930\"\u001b[0m\u001b[0;34m,\u001b[0m \u001b[0;36m15.79\u001b[0m\u001b[0;34m,\u001b[0m \u001b[0;36m1.33\u001b[0m\u001b[0;34m,\u001b[0m \u001b[0;36m2.83\u001b[0m\u001b[0;34m)\u001b[0m\u001b[0;34m\u001b[0m\u001b[0;34m\u001b[0m\u001b[0m\n\u001b[0m\u001b[1;32m      5\u001b[0m \u001b[0m현대차\u001b[0m \u001b[0;34m=\u001b[0m \u001b[0mstock\u001b[0m\u001b[0;34m(\u001b[0m\u001b[0;34m\"현대차\"\u001b[0m\u001b[0;34m,\u001b[0m \u001b[0;34m\"005380\"\u001b[0m\u001b[0;34m,\u001b[0m \u001b[0;36m8.70\u001b[0m\u001b[0;34m,\u001b[0m \u001b[0;36m0.35\u001b[0m\u001b[0;34m,\u001b[0m \u001b[0;36m4.27\u001b[0m\u001b[0;34m)\u001b[0m\u001b[0;34m\u001b[0m\u001b[0;34m\u001b[0m\u001b[0m\n\u001b[1;32m      6\u001b[0m \u001b[0mLG전자\u001b[0m \u001b[0;34m=\u001b[0m \u001b[0mstock\u001b[0m\u001b[0;34m(\u001b[0m\u001b[0;34m\"LG전자\"\u001b[0m\u001b[0;34m,\u001b[0m \u001b[0;34m\"066570\"\u001b[0m\u001b[0;34m,\u001b[0m \u001b[0;36m317.34\u001b[0m\u001b[0;34m,\u001b[0m \u001b[0;36m0.69\u001b[0m\u001b[0;34m,\u001b[0m \u001b[0;36m1.37\u001b[0m\u001b[0;34m)\u001b[0m\u001b[0;34m\u001b[0m\u001b[0;34m\u001b[0m\u001b[0m\n",
            "\u001b[0;32m<ipython-input-18-76b78897b9fe>\u001b[0m in \u001b[0;36m__init__\u001b[0;34m(self, name, code, per, pbr, dividend)\u001b[0m\n\u001b[1;32m      4\u001b[0m        \u001b[0mself\u001b[0m\u001b[0;34m.\u001b[0m\u001b[0mname\u001b[0m \u001b[0;34m=\u001b[0m \u001b[0mname\u001b[0m\u001b[0;34m\u001b[0m\u001b[0;34m\u001b[0m\u001b[0m\n\u001b[1;32m      5\u001b[0m        \u001b[0mself\u001b[0m\u001b[0;34m.\u001b[0m\u001b[0mcode\u001b[0m \u001b[0;34m=\u001b[0m \u001b[0mcode\u001b[0m\u001b[0;34m\u001b[0m\u001b[0;34m\u001b[0m\u001b[0m\n\u001b[0;32m----> 6\u001b[0;31m        \u001b[0mself\u001b[0m\u001b[0;34m,\u001b[0m\u001b[0mper\u001b[0m \u001b[0;34m=\u001b[0m \u001b[0mper\u001b[0m\u001b[0;34m\u001b[0m\u001b[0;34m\u001b[0m\u001b[0m\n\u001b[0m\u001b[1;32m      7\u001b[0m        \u001b[0mself\u001b[0m\u001b[0;34m.\u001b[0m\u001b[0mpbr\u001b[0m \u001b[0;34m=\u001b[0m \u001b[0mpbr\u001b[0m\u001b[0;34m\u001b[0m\u001b[0;34m\u001b[0m\u001b[0m\n\u001b[1;32m      8\u001b[0m        \u001b[0mself\u001b[0m\u001b[0;34m.\u001b[0m\u001b[0mdividend\u001b[0m \u001b[0;34m=\u001b[0m \u001b[0mdividend\u001b[0m\u001b[0;34m\u001b[0m\u001b[0;34m\u001b[0m\u001b[0m\n",
            "\u001b[0;31mTypeError\u001b[0m: cannot unpack non-iterable float object"
          ]
        }
      ]
    },
    {
      "cell_type": "code",
      "source": [
        "# 271번 zfill() - string 앞에 0 채우는 함수\n",
        "import random\n",
        "\n",
        "class account:\n",
        "    def __init__(self, name, balance):\n",
        "        self.name = name\n",
        "        self.balance = balance\n",
        "        self.bank = \"카카오뱅크\"\n",
        "        num1 = random.randint(0, 999)    # 3자리\n",
        "        num2 = random.randint(0, 99)     # 2자리\n",
        "        num3 = random.randint(0, 999999) # 6자리\n",
        "\n",
        "\n",
        "        num1 = str(num1).zfill(3)  # 1 → 001  \n",
        "        num2 = str(num2).zfill(2)  # 1 → 01\n",
        "        num3 = str(num3).zfill(6)  # 1 → 000001\n",
        "        self.account_number = num1 + '-' + num2 + '-' + num3  # 001-01-000001\n",
        "\n",
        "kim = account(\"김잼민\",100)\n",
        "print(kim.name)\n",
        "print(kim.balance)\n",
        "print(kim.bank)\n",
        "print(kim.account_number)        "
      ],
      "metadata": {
        "id": "ILKv__Zpnrwe",
        "colab": {
          "base_uri": "https://localhost:8080/"
        },
        "outputId": "3f7db5fd-948d-41f3-bc6e-f0f07a7064e6"
      },
      "execution_count": null,
      "outputs": [
        {
          "output_type": "stream",
          "name": "stdout",
          "text": [
            "김잼민\n",
            "100\n",
            "카카오뱅크\n",
            "488-89-539951\n"
          ]
        }
      ]
    },
    {
      "cell_type": "code",
      "source": [
        "# 272번\n",
        "import random\n",
        "\n",
        "class account:\n",
        "   account_count = 0  # class variable : 클래스 내부에 선언된 변수 \n",
        "\n",
        "   def __init__(self, name, balance):\n",
        "       self.name = name\n",
        "       self.balance = balance\n",
        "       self.bank = \"카카오뱅크\"\n",
        "\n",
        "       num1 = random.randint(0, 999)\n",
        "       num2 = random.randint(0, 99)\n",
        "       num3 = random.randint(0, 999999)\n",
        "\n",
        "       num1 = str(num1).zfill(3)\n",
        "       num2 = str(num2).zfill(2)\n",
        "       num3 = str(num3).zfill(6)\n",
        "       self.account_number = num1 + '-' + num2 + '-' + num3 + '-'\n",
        "\n",
        "       account.account_count += 1 # 계좌가 만들어질 때 1씩 증가\n",
        "\n",
        "kim = account(\"김잼민\", 100)\n",
        "print(account.account_count)\n",
        "lee = account(\"이잼민\", 100)\n",
        "print(account.account_count)       \n"
      ],
      "metadata": {
        "id": "8zh7RI9YnrqO"
      },
      "execution_count": null,
      "outputs": []
    },
    {
      "cell_type": "code",
      "source": [
        "# 273번\n",
        "import random\n",
        "\n",
        "class account:\n",
        "   account_count = 0  # class variable : 클래스 내부에 선언된 변수 \n",
        "\n",
        "   def __init__(self, name, balance):\n",
        "       self.name = name\n",
        "       self.balance = balance\n",
        "       self.bank = \"카카오뱅크\"\n",
        "\n",
        "       num1 = random.randint(0, 999)\n",
        "       num2 = random.randint(0, 99)\n",
        "       num3 = random.randint(0, 999999)\n",
        "\n",
        "       num1 = str(num1).zfill(3)\n",
        "       num2 = str(num2).zfill(2)\n",
        "       num3 = str(num3).zfill(6)\n",
        "       self.account_number = num1 + '-' + num2 + '-' + num3 \n",
        "\n",
        "       account.account_count += 1 # 계좌가 만들어질 때 1씩 증가\n",
        "\n",
        "   def get_account_num(cls):\n",
        "       print(cls.account_count)\n",
        "kim = account(\"김잼민\",100)\n",
        "lee = account(\"이잼민\",100)\n",
        "kim.get_account_num()           "
      ],
      "metadata": {
        "id": "Jde6gXWMnrlH",
        "colab": {
          "base_uri": "https://localhost:8080/"
        },
        "outputId": "0d802f04-121a-4d2c-fd35-aac3bc1df869"
      },
      "execution_count": null,
      "outputs": [
        {
          "output_type": "stream",
          "name": "stdout",
          "text": [
            "2\n"
          ]
        }
      ]
    },
    {
      "cell_type": "code",
      "source": [
        "# 274번\n",
        "import random\n",
        "\n",
        "class account:\n",
        "   account_count = 0  # class variable : 클래스 내부에 선언된 변수 \n",
        "\n",
        "   def __init__(self, name, balance):\n",
        "       self.name = name\n",
        "       self.balance = balance\n",
        "       self.bank = \"카카오뱅크\"\n",
        "\n",
        "       num1 = random.randint(0, 999)\n",
        "       num2 = random.randint(0, 99)\n",
        "       num3 = random.randint(0, 999999)\n",
        "\n",
        "       num1 = str(num1).zfill(3)\n",
        "       num2 = str(num2).zfill(2)\n",
        "       num3 = str(num3).zfill(6)\n",
        "       self.account_number = num1 + '-' + num2 + '-' + num3 \n",
        "\n",
        "       account.account_count += 1 # 계좌가 만들어질 때 1씩 증가\n",
        "\n",
        "   @classmethod # 해당메서드가 클래스 메서드임을 표시/ 클래스 변수 엑세스할 때 사용\n",
        "   def get_account_num(cls):\n",
        "       print(cls.account_count)\n",
        "\n",
        "   def deposit(self, amount): # 입금을 위한 메서드\n",
        "       if amount >= 1:\n",
        "            self.balance += amount   "
      ],
      "metadata": {
        "id": "LMQBnN4KnrfX"
      },
      "execution_count": null,
      "outputs": []
    },
    {
      "cell_type": "code",
      "source": [
        "# 275번\n",
        "import random\n",
        "\n",
        "class account:\n",
        "   account_count = 0   \n",
        "\n",
        "   def __init__(self, name, balance):\n",
        "       self.name = name\n",
        "       self.balance = balance\n",
        "       self.bank = \"카카오뱅크\"\n",
        "\n",
        "       num1 = random.randint(0, 999)\n",
        "       num2 = random.randint(0, 99)\n",
        "       num3 = random.randint(0, 999999)\n",
        "\n",
        "       num1 = str(num1).zfill(3)\n",
        "       num2 = str(num2).zfill(2)\n",
        "       num3 = str(num3).zfill(6)\n",
        "       self.account_number = num1 + '-' + num2 + '-' + num3 \n",
        "\n",
        "       account.account_count += 1 \n",
        "\n",
        "   @classmethod\n",
        "   def get_account_num(cls):\n",
        "       print(cls.account_count)\n",
        "\n",
        "   def deposit(self, amount):\n",
        "       if amount >= 1:\n",
        "            self.balance += amount   \n",
        "\n",
        "   def withdraw(self, amount): # 출금을 위한 메서드\n",
        "       if self.balance > amount:\n",
        "           self.balance -= amount\n",
        "\n",
        "k = account(\"kim\", 100)\n",
        "k.deposit(100)\n",
        "k.withdraw(90)\n",
        "print(k.balance)                    "
      ],
      "metadata": {
        "id": "e_0CPhg2nrZT",
        "colab": {
          "base_uri": "https://localhost:8080/"
        },
        "outputId": "9e4152f9-a69c-49e4-8c76-c9643f4f83c8"
      },
      "execution_count": null,
      "outputs": [
        {
          "output_type": "stream",
          "name": "stdout",
          "text": [
            "110\n"
          ]
        }
      ]
    },
    {
      "cell_type": "code",
      "source": [
        "# 276번\n",
        "import random\n",
        "\n",
        "class account:\n",
        "   account_count = 0   \n",
        "\n",
        "   def __init__(self, name, balance):\n",
        "       self.name = name\n",
        "       self.balance = balance\n",
        "       self.bank = \"카카오뱅크\"\n",
        "\n",
        "       num1 = random.randint(0, 999)\n",
        "       num2 = random.randint(0, 99)\n",
        "       num3 = random.randint(0, 999999)\n",
        "\n",
        "       num1 = str(num1).zfill(3)\n",
        "       num2 = str(num2).zfill(2)\n",
        "       num3 = str(num3).zfill(6)\n",
        "       self.account_number = num1 + '-' + num2 + '-' + num3 \n",
        "\n",
        "       account.account_count += 1 \n",
        "\n",
        "   @classmethod\n",
        "   def get_account_num(cls):\n",
        "       print(cls.account_count)\n",
        "\n",
        "   def deposit(self, amount):\n",
        "       if amount >= 1:\n",
        "            self.balance += amount   \n",
        "\n",
        "   def withdraw(self, amount):\n",
        "       if self.balance > amount:\n",
        "           self.balance -= amount\n",
        "\n",
        "   def display_info(self): # 저장된 정보 출력하는 메서드\n",
        "       print(\"은행이름: \", self.bank)\n",
        "       print(\"예금주: \", self.name)\n",
        "       print(\"계좌번호: \", self.account_number)\n",
        "       print(\"잔고: \", self.balance)\n",
        "\n",
        "p = account(\"햄찌\", 10000)\n",
        "p.display_info()               "
      ],
      "metadata": {
        "id": "rDjXAsZfnrTv",
        "colab": {
          "base_uri": "https://localhost:8080/"
        },
        "outputId": "bde3ae48-ecca-4074-be08-8d8a6929d5aa"
      },
      "execution_count": null,
      "outputs": [
        {
          "output_type": "stream",
          "name": "stdout",
          "text": [
            "은행이름:  카카오뱅크\n",
            "예금주:  햄찌\n",
            "계좌번호:  647-11-278628\n",
            "잔고:  10000\n"
          ]
        }
      ]
    },
    {
      "cell_type": "code",
      "source": [
        "# 277번\n",
        "import random\n",
        "\n",
        "class account:\n",
        "   account_count = 0   \n",
        "\n",
        "   def __init__(self, name, balance):\n",
        "       self.deposit_count = 0\n",
        "      \n",
        "       self.name = name\n",
        "       self.balance = balance\n",
        "       self.bank = \"카카오뱅크\"\n",
        "\n",
        "       num1 = random.randint(0, 999)\n",
        "       num2 = random.randint(0, 99)\n",
        "       num3 = random.randint(0, 999999)\n",
        "\n",
        "       num1 = str(num1).zfill(3)\n",
        "       num2 = str(num2).zfill(2)\n",
        "       num3 = str(num3).zfill(6)\n",
        "       self.account_number = num1 + '-' + num2 + '-' + num3 \n",
        "\n",
        "       account.account_count += 1 \n",
        "\n",
        "   @classmethod\n",
        "   def get_account_num(cls):\n",
        "       print(cls.account_count)\n",
        "\n",
        "   def deposit(self, amount):\n",
        "       if amount >= 1:\n",
        "            self.balance += amount   \n",
        "\n",
        "            self.deposit_count += 1\n",
        "            if self.deposit_count % 5 == 0:\n",
        "               self.balance = (self.balance * 1.01)\n",
        "\n",
        "   def withdraw(self, amount):\n",
        "       if self.balance > amount:\n",
        "           self.balance -= amount\n",
        "\n",
        "   def display_info(self): # 저장된 정보 출력하는 메서드\n",
        "       print(\"은행이름: \", self.bank)\n",
        "       print(\"예금주: \", self.name)\n",
        "       print(\"계좌번호: \", self.account_number)\n",
        "       print(\"잔고: \", self.balance)\n",
        "\n",
        "p = account(\"햄찌\", 10000)\n",
        "p.deposit(10000)\n",
        "p.deposit(10000)\n",
        "p.deposit(5000)\n",
        "p.deposit(5000)\n",
        "p.deposit(10000)\n",
        "print(p.balance)"
      ],
      "metadata": {
        "id": "gujrXd8QnrOC",
        "colab": {
          "base_uri": "https://localhost:8080/"
        },
        "outputId": "ba0b51e9-68c8-4fdc-c510-7714850c4487"
      },
      "execution_count": null,
      "outputs": [
        {
          "output_type": "stream",
          "name": "stdout",
          "text": [
            "50500.0\n"
          ]
        }
      ]
    },
    {
      "cell_type": "code",
      "source": [
        "# 278번\n",
        "import random\n",
        "\n",
        "class account:\n",
        "   account_count = 0   \n",
        "\n",
        "   def __init__(self, name, balance):\n",
        "       self.deposit_count = 0\n",
        "      \n",
        "       self.name = name\n",
        "       self.balance = balance\n",
        "       self.bank = \"카카오뱅크\"\n",
        "\n",
        "       num1 = random.randint(0, 999)\n",
        "       num2 = random.randint(0, 99)\n",
        "       num3 = random.randint(0, 999999)\n",
        "\n",
        "       num1 = str(num1).zfill(3)\n",
        "       num2 = str(num2).zfill(2)\n",
        "       num3 = str(num3).zfill(6)\n",
        "       self.account_number = num1 + '-' + num2 + '-' + num3 \n",
        "\n",
        "       account.account_count += 1 \n",
        "\n",
        "   @classmethod\n",
        "   def get_account_num(cls):\n",
        "       print(cls.account_count)\n",
        "\n",
        "   def deposit(self, amount):\n",
        "       if amount >= 1:\n",
        "            self.balance += amount   \n",
        "\n",
        "            self.deposit_count += 1\n",
        "            if self.deposit_count % 5 == 0:\n",
        "               self.balance = (self.balance * 1.01)\n",
        "\n",
        "   def withdraw(self, amount):\n",
        "       if self.balance > amount:\n",
        "           self.balance -= amount\n",
        "\n",
        "   def display_info(self): # 저장된 정보 출력하는 메서드\n",
        "       print(\"은행이름: \", self.bank)\n",
        "       print(\"예금주: \", self.name)\n",
        "       print(\"계좌번호: \", self.account_number)\n",
        "       print(\"잔고: \", self.balance)\n",
        "\n",
        "data = []\n",
        "k = account(\"kim\", 1000000)\n",
        "l = account(\"lee\", 10000)\n",
        "p = account(\"park\", 10000)\n",
        "\n",
        "data.append(k)\n",
        "data.append(l)\n",
        "data.append(p)\n",
        "\n",
        "print(data)"
      ],
      "metadata": {
        "id": "2rmQiQYZnrH-",
        "colab": {
          "base_uri": "https://localhost:8080/"
        },
        "outputId": "0f18c031-90ca-4a47-ae18-999efd3cf934"
      },
      "execution_count": null,
      "outputs": [
        {
          "output_type": "stream",
          "name": "stdout",
          "text": [
            "[<__main__.account object at 0x7f35a42fd050>, <__main__.account object at 0x7f35a42fded0>, <__main__.account object at 0x7f35a42fdbd0>]\n"
          ]
        }
      ]
    },
    {
      "cell_type": "code",
      "source": [
        "# 279번\n",
        "import random\n",
        "\n",
        "class account:\n",
        "   account_count = 0   \n",
        "\n",
        "   def __init__(self, name, balance):\n",
        "       self.deposit_count = 0\n",
        "      \n",
        "       self.name = name\n",
        "       self.balance = balance\n",
        "       self.bank = \"카카오뱅크\"\n",
        "\n",
        "       num1 = random.randint(0, 999)\n",
        "       num2 = random.randint(0, 99)\n",
        "       num3 = random.randint(0, 999999)\n",
        "\n",
        "       num1 = str(num1).zfill(3)\n",
        "       num2 = str(num2).zfill(2)\n",
        "       num3 = str(num3).zfill(6)\n",
        "       self.account_number = num1 + '-' + num2 + '-' + num3 \n",
        "\n",
        "       account.account_count += 1 \n",
        "\n",
        "   @classmethod\n",
        "   def get_account_num(cls):\n",
        "       print(cls.account_count)\n",
        "\n",
        "   def deposit(self, amount):\n",
        "       if amount >= 1:\n",
        "            self.balance += amount   \n",
        "\n",
        "            self.deposit_count += 1\n",
        "            if self.deposit_count % 5 == 0:\n",
        "               self.balance = (self.balance * 1.01)\n",
        "\n",
        "   def withdraw(self, amount):\n",
        "       if self.balance > amount:\n",
        "           self.balance -= amount\n",
        "\n",
        "   def display_info(self): # 저장된 정보 출력하는 메서드\n",
        "       print(\"은행이름: \", self.bank)\n",
        "       print(\"예금주: \", self.name)\n",
        "       print(\"계좌번호: \", self.account_number)\n",
        "       print(\"잔고: \", self.balance)\n",
        "\n",
        "data = []\n",
        "k = account(\"kim\", 1000000)\n",
        "l = account(\"lee\", 10000)\n",
        "p = account(\"park\", 10000)\n",
        "\n",
        "data.append(k)\n",
        "data.append(l)\n",
        "data.append(p)\n",
        "\n",
        "for i in data:\n",
        "    if i.balance >= 1000000:\n",
        "       i.display_info()"
      ],
      "metadata": {
        "id": "BGm1TVKonrCU",
        "colab": {
          "base_uri": "https://localhost:8080/"
        },
        "outputId": "b3c5539d-618b-4fd2-e335-80840375056b"
      },
      "execution_count": null,
      "outputs": [
        {
          "output_type": "stream",
          "name": "stdout",
          "text": [
            "은행이름:  카카오뱅크\n",
            "예금주:  kim\n",
            "계좌번호:  698-84-812922\n",
            "잔고:  1000000\n"
          ]
        }
      ]
    },
    {
      "cell_type": "code",
      "source": [
        "# 280번\n",
        "import random\n",
        "\n",
        "class account:\n",
        "   account_count = 0   \n",
        "\n",
        "   def __init__(self, name, balance):\n",
        "       self.deposit_count = 0\n",
        "       self.deposit_log = []\n",
        "       self.withdraw_log = []      \n",
        "\n",
        "\n",
        "       self.name = name\n",
        "       self.balance = balance\n",
        "       self.bank = \"카카오뱅크\"\n",
        "\n",
        "       num1 = random.randint(0, 999)\n",
        "       num2 = random.randint(0, 99)\n",
        "       num3 = random.randint(0, 999999)\n",
        "\n",
        "       num1 = str(num1).zfill(3)\n",
        "       num2 = str(num2).zfill(2)\n",
        "       num3 = str(num3).zfill(6)\n",
        "       self.account_number = num1 + '-' + num2 + '-' + num3 \n",
        "\n",
        "       account.account_count += 1 \n",
        "\n",
        "   @classmethod\n",
        "   def get_account_num(cls):\n",
        "       print(cls.account_count)\n",
        "\n",
        "   def deposit(self, amount):\n",
        "       if amount >= 1:\n",
        "            self.balance += amount   \n",
        "\n",
        "            self.deposit_count += 1\n",
        "            if self.deposit_count % 5 == 0:\n",
        "               self.balance = (self.balance * 1.01)\n",
        "\n",
        "   def withdraw(self, amount):\n",
        "       if self.balance > amount:\n",
        "           self.balance -= amount\n",
        "\n",
        "   def display_info(self): # 저장된 정보 출력하는 메서드\n",
        "       print(\"은행이름: \", self.bank)\n",
        "       print(\"예금주: \", self.name)\n",
        "       print(\"계좌번호: \", self.account_number)\n",
        "       print(\"잔고: \", self.balance)\n",
        "\n",
        "   def withdraw_history(self):\n",
        "       for amount in self.withdraw_log:\n",
        "           print(amount)\n",
        "\n",
        "   def deposit_history(self):\n",
        "       for amount in self.deposit_log:\n",
        "           print(amount)\n",
        "\n",
        "k = account(\"kim\", 1000)\n",
        "k.deposit(100)\n",
        "k.deposit(200)\n",
        "k.deposit(300)\n",
        "k.deposit_history()\n",
        "\n",
        "k.withdraw(100)\n",
        "k.withdraw(200)\n",
        "k.withdraw_history()                         "
      ],
      "metadata": {
        "id": "TABY-wnanq8z"
      },
      "execution_count": null,
      "outputs": []
    }
  ]
}