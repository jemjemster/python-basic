{
  "nbformat": 4,
  "nbformat_minor": 0,
  "metadata": {
    "colab": {
      "name": "python_6_final.ipynb",
      "provenance": [],
      "collapsed_sections": [],
      "authorship_tag": "ABX9TyOd6KZoXh8TV4RxfoqWQFlj"
    },
    "kernelspec": {
      "name": "python3",
      "display_name": "Python 3"
    },
    "language_info": {
      "name": "python"
    }
  },
  "cells": [
    {
      "cell_type": "markdown",
      "source": [
        "## 파이썬 클래스 \n",
        "- 251번 ~ 290번\n"
      ],
      "metadata": {
        "id": "f6hhmClEniq5"
      }
    },
    {
      "cell_type": "code",
      "execution_count": null,
      "metadata": {
        "id": "q6iHRZnMlSqH"
      },
      "outputs": [],
      "source": [
        "# 251번\n",
        "# 클래스 : 데이터 유형 나타내는 데이터       ex) int,float,str 데이터 유형 → 클래스\n",
        "# 객체 : 메모리에 존재하는 개별 데이터       ex) 유형은 type(),정체성은 id()로 구할 수 있음\n",
        "# 인스턴스 : 어떤 클래스에 속한 객체(이 객체를 클래스의 인스턴스라 부름)\n",
        "\n",
        "# 붕어빵 틀(클래스), 붕어빵(인스턴스) → 인스턴스 = 객체 / 클래스에 의해 만들어진 객체가 인스턴스"
      ]
    },
    {
      "cell_type": "code",
      "source": [
        "# 252번\n",
        "class Human:\n",
        "    pass"
      ],
      "metadata": {
        "id": "9dGCZ1vuntxj"
      },
      "execution_count": null,
      "outputs": []
    },
    {
      "cell_type": "code",
      "source": [
        "# 253번\n",
        "class Human:\n",
        "    pass\n",
        "\n",
        "areum = Human()"
      ],
      "metadata": {
        "id": "k14eP1E_ntpY"
      },
      "execution_count": null,
      "outputs": []
    },
    {
      "cell_type": "code",
      "source": [
        "# 254번\n",
        "class Human:\n",
        "   def __init__(self):\n",
        "      print(\"흐하하\")\n",
        "\n",
        "areum = Human()"
      ],
      "metadata": {
        "colab": {
          "base_uri": "https://localhost:8080/"
        },
        "id": "kZNZ_ZGcnth5",
        "outputId": "c7d0a313-8794-4e2a-9767-8a1f1c9daab4"
      },
      "execution_count": null,
      "outputs": [
        {
          "output_type": "stream",
          "name": "stdout",
          "text": [
            "흐하하\n"
          ]
        }
      ]
    },
    {
      "cell_type": "code",
      "source": [
        "# 255번\n",
        "class Human:\n",
        "    def __init__(self, name, age, sex):\n",
        "        self.name = name\n",
        "        self.age = age\n",
        "        self.sex = sex\n",
        "\n",
        "areum = Human(\"김장꾸\", 25, \"남자\")\n",
        "print(areum.name)"
      ],
      "metadata": {
        "colab": {
          "base_uri": "https://localhost:8080/"
        },
        "id": "--JRZlKmntan",
        "outputId": "9b59ebfe-95e0-45cf-cda3-ab0548ef0dcb"
      },
      "execution_count": null,
      "outputs": [
        {
          "output_type": "stream",
          "name": "stdout",
          "text": [
            "김장꾸\n"
          ]
        }
      ]
    },
    {
      "cell_type": "code",
      "source": [
        "# 256번\n",
        "class Human:\n",
        "    def __init__(self, name, age, sex):\n",
        "        self.name = name\n",
        "        self.age = age\n",
        "        self.sex = sex\n",
        "\n",
        "areum = Human(\"잼미니\", 23, \"여자\")\n",
        "print(areum.age)"
      ],
      "metadata": {
        "colab": {
          "base_uri": "https://localhost:8080/"
        },
        "id": "Yq9HWjcentUM",
        "outputId": "7917693d-11af-4b30-929d-415b188b713a"
      },
      "execution_count": null,
      "outputs": [
        {
          "output_type": "stream",
          "name": "stdout",
          "text": [
            "23\n"
          ]
        }
      ]
    },
    {
      "cell_type": "code",
      "source": [
        "# 257번\n",
        "class Human:\n",
        "    def __init__(self, name, age, sex):\n",
        "        self.name = name\n",
        "        self.age = age\n",
        "        self.sex = sex\n",
        "\n",
        "    def who(self):\n",
        "        print(\"이름: {} 나이: {} 성별: {}\".format(self.name, self.age, self.sex)) \n",
        "\n",
        "areum = Human(\"잼민이\", 22, \"남자\")\n",
        "areum.who()   "
      ],
      "metadata": {
        "colab": {
          "base_uri": "https://localhost:8080/"
        },
        "id": "pS4lLJ-sntNH",
        "outputId": "f2b1617e-c880-4723-ebe9-045b50ad1ae0"
      },
      "execution_count": null,
      "outputs": [
        {
          "output_type": "stream",
          "name": "stdout",
          "text": [
            "이름: 잼민이 나이: 22 성별: 남자\n"
          ]
        }
      ]
    },
    {
      "cell_type": "code",
      "source": [
        "# 258번\n",
        "class Human:\n",
        "   def __init__(self, name, age, sex):\n",
        "       self.name = name\n",
        "       self.age = age\n",
        "       self.sex = sex\n",
        "\n",
        "   def who(self):\n",
        "       print(\"이름: {} 나이: {} 성별: {}\".format(self.name, self.age,self.sex))\n",
        "\n",
        "   def setinfo(self, name, age, sex):\n",
        "       self.name = name\n",
        "       self.age = age\n",
        "       self.sex = sex\n",
        "\n",
        "areum = Human(\"김장꾸\", \"25\", \"남자\")\n",
        "areum.who()\n",
        "\n",
        "areum.setinfo(\"쨈미니\", 25, \"여자\")\n",
        "areum.who()"
      ],
      "metadata": {
        "colab": {
          "base_uri": "https://localhost:8080/"
        },
        "id": "lqCC888GntGT",
        "outputId": "31e36800-5414-49d2-83f8-6baba600d47e"
      },
      "execution_count": null,
      "outputs": [
        {
          "output_type": "stream",
          "name": "stdout",
          "text": [
            "이름: 김장꾸 나이: 25 성별: 남자\n",
            "이름: 쨈미니 나이: 25 성별: 여자\n"
          ]
        }
      ]
    },
    {
      "cell_type": "code",
      "source": [
        "# 259번\n",
        "class Human:\n",
        "    def __init__(self, name, age, sex):\n",
        "        self.name = name\n",
        "        self.age = age\n",
        "        self.sex = sex\n",
        "    def __del__(self):\n",
        "        print(\"나의 죽음을 알리지마라\")\n",
        "\n",
        "    def who(self):\n",
        "        print(\"이름: {} 나이: {} 성별: {}\".format(self.name, self.age, self.sex))\n",
        "\n",
        "    def setinfo(self, name, age, sex):\n",
        "        self.name = name\n",
        "        self.age = age\n",
        "        self.sex = sex\n",
        "\n",
        "areum = Human(\"이순신\",100,\"남자\")\n",
        "del(areum)"
      ],
      "metadata": {
        "colab": {
          "base_uri": "https://localhost:8080/"
        },
        "id": "FVJHiuAyns-8",
        "outputId": "7e66609b-1719-4306-ff56-aa3c989a259c"
      },
      "execution_count": null,
      "outputs": [
        {
          "output_type": "stream",
          "name": "stdout",
          "text": [
            "나의 죽음을 알리지마라\n"
          ]
        }
      ]
    },
    {
      "cell_type": "code",
      "source": [
        "# 260번 \n",
        "class OMG :\n",
        "    def print() :\n",
        "        print(\"Oh my god\")\n",
        "\n",
        "\n",
        "mystock = OMG()\n",
        "mystock.print()  # → OMG.print(mystock)로 변환됨. def print()엔 인자가 없는데 mystock가 넘어와서! "
      ],
      "metadata": {
        "colab": {
          "base_uri": "https://localhost:8080/",
          "height": 227
        },
        "id": "aJrBNOnqns4S",
        "outputId": "f41dc777-b4ab-48b3-e263-0e734c7845c7"
      },
      "execution_count": null,
      "outputs": [
        {
          "output_type": "error",
          "ename": "TypeError",
          "evalue": "ignored",
          "traceback": [
            "\u001b[0;31m---------------------------------------------------------------------------\u001b[0m",
            "\u001b[0;31mTypeError\u001b[0m                                 Traceback (most recent call last)",
            "\u001b[0;32m<ipython-input-10-67b0b0e102e9>\u001b[0m in \u001b[0;36m<module>\u001b[0;34m()\u001b[0m\n\u001b[1;32m      6\u001b[0m \u001b[0;34m\u001b[0m\u001b[0m\n\u001b[1;32m      7\u001b[0m \u001b[0mmystock\u001b[0m \u001b[0;34m=\u001b[0m \u001b[0mOMG\u001b[0m\u001b[0;34m(\u001b[0m\u001b[0;34m)\u001b[0m\u001b[0;34m\u001b[0m\u001b[0;34m\u001b[0m\u001b[0m\n\u001b[0;32m----> 8\u001b[0;31m \u001b[0mmystock\u001b[0m\u001b[0;34m.\u001b[0m\u001b[0mprint\u001b[0m\u001b[0;34m(\u001b[0m\u001b[0;34m)\u001b[0m  \u001b[0;31m# → OMG.print(mystock)로 변환됨. def print()엔 인자가 없는데 mystock가 넘어와서!\u001b[0m\u001b[0;34m\u001b[0m\u001b[0;34m\u001b[0m\u001b[0m\n\u001b[0m",
            "\u001b[0;31mTypeError\u001b[0m: print() takes 0 positional arguments but 1 was given"
          ]
        }
      ]
    },
    {
      "cell_type": "code",
      "source": [
        "# 261번\n",
        "class stock:\n",
        "   pass"
      ],
      "metadata": {
        "id": "WmdCoTVqnsxo"
      },
      "execution_count": null,
      "outputs": []
    },
    {
      "cell_type": "code",
      "source": [
        "# 262번\n",
        "class stock:\n",
        "   def __init__(self, name, code):\n",
        "       self.name = name\n",
        "       self.code = code\n",
        "\n",
        "삼성 = stock(\"삼성전자\", \"005930\")\n",
        "print(삼성.name)\n",
        "print(삼성.code)"
      ],
      "metadata": {
        "colab": {
          "base_uri": "https://localhost:8080/"
        },
        "id": "R4EVIZpGnsrB",
        "outputId": "16cdb7fd-0bf1-4f44-e87b-9dffba28e557"
      },
      "execution_count": null,
      "outputs": [
        {
          "output_type": "stream",
          "name": "stdout",
          "text": [
            "삼성전자\n",
            "005930\n"
          ]
        }
      ]
    },
    {
      "cell_type": "code",
      "source": [
        "# 263번\n",
        "class stock:\n",
        "    def __init__(self, name, code):\n",
        "        self.name = name\n",
        "        self.code = code\n",
        "         \n",
        "    def set_name(self, name):\n",
        "        self.name = name\n",
        "\n",
        "a = stock(None, None)\n",
        "a.set_name(\"삼성전자\")\n",
        "print(a.name)"
      ],
      "metadata": {
        "colab": {
          "base_uri": "https://localhost:8080/"
        },
        "id": "_XWbwZsNnslH",
        "outputId": "4a3f038c-566e-4f61-f40c-cf3ae9b9b374"
      },
      "execution_count": null,
      "outputs": [
        {
          "output_type": "stream",
          "name": "stdout",
          "text": [
            "삼성전자\n"
          ]
        }
      ]
    },
    {
      "cell_type": "code",
      "source": [
        "# 264번\n",
        "class stock:\n",
        "    def __init__(self, name, code):\n",
        "        self.name = name\n",
        "        self.code = code\n",
        "    \n",
        "    def  set_name(self, name):\n",
        "         self.name = name\n",
        "\n",
        "    def set_code(self, code):\n",
        "         self.code = code     \n",
        "\n",
        "a = stock(None, None)\n",
        "a.set_code(\"005930\")\n",
        "print(a.code)"
      ],
      "metadata": {
        "colab": {
          "base_uri": "https://localhost:8080/"
        },
        "id": "zsGlpnObnsef",
        "outputId": "17254926-a18e-429f-8a5c-1af242e8998a"
      },
      "execution_count": null,
      "outputs": [
        {
          "output_type": "stream",
          "name": "stdout",
          "text": [
            "005930\n"
          ]
        }
      ]
    },
    {
      "cell_type": "code",
      "source": [
        "# 265번\n",
        "class stock:\n",
        "    def __init__(self, name, code):\n",
        "      self.name = name\n",
        "      self.code = code\n",
        "   \n",
        "    def set_name(self, name):\n",
        "      self.name = name\n",
        "\n",
        "    def set_code(self, code):\n",
        "       self.code = code\n",
        "\n",
        "    def get_name(self):\n",
        "       return self.name\n",
        "\n",
        "    def get_code(self):\n",
        "       return self.code\n",
        "\n",
        "삼성 = stock(\"삼성전자\",\"005930\")\n",
        "print(삼성.name)\n",
        "print(삼성.code)\n",
        "print(삼성.get_name())\n",
        "print(삼성.get_code())"
      ],
      "metadata": {
        "colab": {
          "base_uri": "https://localhost:8080/"
        },
        "id": "piQGbGPZnsXr",
        "outputId": "e96d2fc4-e658-4394-8441-2f7ba81b045b"
      },
      "execution_count": null,
      "outputs": [
        {
          "output_type": "stream",
          "name": "stdout",
          "text": [
            "삼성전자\n",
            "005930\n",
            "삼성전자\n",
            "005930\n"
          ]
        }
      ]
    },
    {
      "cell_type": "code",
      "source": [
        "# 266번 \n",
        "class stock:\n",
        "   def __init__(self, name, code, per, pbr, 배당수익률):\n",
        "       self.name = name\n",
        "       self.code = code\n",
        "       self.per = per\n",
        "       self.pbr = pbr\n",
        "       self.배당수익률 = 배당수익률\n",
        "\n",
        "   def set_name(self, name):\n",
        "       self.name = name\n",
        "\n",
        "   def set_code(self, code):\n",
        "       self.code = code\n",
        "\n",
        "   def get_name(self):\n",
        "       return self.name\n",
        "\n",
        "   def get_code(self):\n",
        "       return self.code    \n"
      ],
      "metadata": {
        "id": "C8PJd3KmnsR2"
      },
      "execution_count": null,
      "outputs": []
    },
    {
      "cell_type": "code",
      "source": [
        "# 267번\n",
        "삼성 = stock(\"삼성전자\", \"005930\", 15.79, 1.33, 2.83)\n",
        "print(삼성.배당수익률)"
      ],
      "metadata": {
        "colab": {
          "base_uri": "https://localhost:8080/"
        },
        "id": "xcwXbxuEnsLV",
        "outputId": "ba96a1db-c871-49eb-f55e-7386011cd7d3"
      },
      "execution_count": null,
      "outputs": [
        {
          "output_type": "stream",
          "name": "stdout",
          "text": [
            "2.83\n"
          ]
        }
      ]
    },
    {
      "cell_type": "code",
      "source": [
        "# 268번\n",
        "class stock:\n",
        "   def __init__(self, name, code, per, pbr, dividend):\n",
        "       self.name = name\n",
        "       self.code = code\n",
        "       self,per = per\n",
        "       self.pbr = pbr\n",
        "       self.dividend = dividend\n",
        "\n",
        "   def set_name(self, name):\n",
        "       self.name = name\n",
        "\n",
        "   def set_code(self, code):\n",
        "       self.code = code\n",
        "\n",
        "   def get_name(self):\n",
        "       return self.name \n",
        "\n",
        "   def get_code(self):\n",
        "       return self.code\n",
        "\n",
        "   def set_per(self, per):\n",
        "       self.per = per\n",
        "\n",
        "   def set_pbr(self, pbr):\n",
        "       self.pbr = pbr\n",
        "\n",
        "   def set_dividend(self, dividend):\n",
        "       self.dividend = dividend                          "
      ],
      "metadata": {
        "id": "tWiIVrI-nsEc"
      },
      "execution_count": null,
      "outputs": []
    },
    {
      "cell_type": "code",
      "source": [
        "# 269번 오류남\n",
        "삼성 = stock(\"삼성전자\", \"005930\", 15.79, 1.33, 2.83)\n",
        "삼성.set_per(12.75)\n",
        "print(삼성.per)"
      ],
      "metadata": {
        "colab": {
          "base_uri": "https://localhost:8080/",
          "height": 355
        },
        "id": "T6iowAfEnr9q",
        "outputId": "e07cf16a-fa05-406c-e4b5-6514f700cbc0"
      },
      "execution_count": null,
      "outputs": [
        {
          "output_type": "error",
          "ename": "TypeError",
          "evalue": "ignored",
          "traceback": [
            "\u001b[0;31m---------------------------------------------------------------------------\u001b[0m",
            "\u001b[0;31mTypeError\u001b[0m                                 Traceback (most recent call last)",
            "\u001b[0;32m<ipython-input-23-af0b6eff7b7c>\u001b[0m in \u001b[0;36m<module>\u001b[0;34m()\u001b[0m\n\u001b[1;32m      1\u001b[0m \u001b[0;31m# 269번 오류남\u001b[0m\u001b[0;34m\u001b[0m\u001b[0;34m\u001b[0m\u001b[0;34m\u001b[0m\u001b[0m\n\u001b[0;32m----> 2\u001b[0;31m \u001b[0m삼성\u001b[0m \u001b[0;34m=\u001b[0m \u001b[0mstock\u001b[0m\u001b[0;34m(\u001b[0m\u001b[0;34m\"삼성전자\"\u001b[0m\u001b[0;34m,\u001b[0m \u001b[0;34m\"005930\"\u001b[0m\u001b[0;34m,\u001b[0m \u001b[0;36m15.79\u001b[0m\u001b[0;34m,\u001b[0m \u001b[0;36m1.33\u001b[0m\u001b[0;34m,\u001b[0m \u001b[0;36m2.83\u001b[0m\u001b[0;34m)\u001b[0m\u001b[0;34m\u001b[0m\u001b[0;34m\u001b[0m\u001b[0m\n\u001b[0m\u001b[1;32m      3\u001b[0m \u001b[0m삼성\u001b[0m\u001b[0;34m.\u001b[0m\u001b[0mset_per\u001b[0m\u001b[0;34m(\u001b[0m\u001b[0;36m12.75\u001b[0m\u001b[0;34m)\u001b[0m\u001b[0;34m\u001b[0m\u001b[0;34m\u001b[0m\u001b[0m\n\u001b[1;32m      4\u001b[0m \u001b[0mprint\u001b[0m\u001b[0;34m(\u001b[0m\u001b[0m삼성\u001b[0m\u001b[0;34m.\u001b[0m\u001b[0mper\u001b[0m\u001b[0;34m)\u001b[0m\u001b[0;34m\u001b[0m\u001b[0;34m\u001b[0m\u001b[0m\n",
            "\u001b[0;32m<ipython-input-18-76b78897b9fe>\u001b[0m in \u001b[0;36m__init__\u001b[0;34m(self, name, code, per, pbr, dividend)\u001b[0m\n\u001b[1;32m      4\u001b[0m        \u001b[0mself\u001b[0m\u001b[0;34m.\u001b[0m\u001b[0mname\u001b[0m \u001b[0;34m=\u001b[0m \u001b[0mname\u001b[0m\u001b[0;34m\u001b[0m\u001b[0;34m\u001b[0m\u001b[0m\n\u001b[1;32m      5\u001b[0m        \u001b[0mself\u001b[0m\u001b[0;34m.\u001b[0m\u001b[0mcode\u001b[0m \u001b[0;34m=\u001b[0m \u001b[0mcode\u001b[0m\u001b[0;34m\u001b[0m\u001b[0;34m\u001b[0m\u001b[0m\n\u001b[0;32m----> 6\u001b[0;31m        \u001b[0mself\u001b[0m\u001b[0;34m,\u001b[0m\u001b[0mper\u001b[0m \u001b[0;34m=\u001b[0m \u001b[0mper\u001b[0m\u001b[0;34m\u001b[0m\u001b[0;34m\u001b[0m\u001b[0m\n\u001b[0m\u001b[1;32m      7\u001b[0m        \u001b[0mself\u001b[0m\u001b[0;34m.\u001b[0m\u001b[0mpbr\u001b[0m \u001b[0;34m=\u001b[0m \u001b[0mpbr\u001b[0m\u001b[0;34m\u001b[0m\u001b[0;34m\u001b[0m\u001b[0m\n\u001b[1;32m      8\u001b[0m        \u001b[0mself\u001b[0m\u001b[0;34m.\u001b[0m\u001b[0mdividend\u001b[0m \u001b[0;34m=\u001b[0m \u001b[0mdividend\u001b[0m\u001b[0;34m\u001b[0m\u001b[0;34m\u001b[0m\u001b[0m\n",
            "\u001b[0;31mTypeError\u001b[0m: cannot unpack non-iterable float object"
          ]
        }
      ]
    },
    {
      "cell_type": "code",
      "source": [
        "# 270번 이거도 오류..\n",
        "종목 = []\n",
        "\n",
        "삼성 = stock(\"삼성전자\", \"005930\", 15.79, 1.33, 2.83)\n",
        "현대차 = stock(\"현대차\", \"005380\", 8.70, 0.35, 4.27)\n",
        "LG전자 = stock(\"LG전자\", \"066570\", 317.34, 0.69, 1.37)\n",
        "\n",
        "종목.append(삼성)\n",
        "종목.append(현대차)\n",
        "종목.append(LG전자)\n",
        "\n",
        "for i in 종목:\n",
        "    print(i.code, i.per)"
      ],
      "metadata": {
        "colab": {
          "base_uri": "https://localhost:8080/",
          "height": 373
        },
        "id": "Pj_g6L7dnr3N",
        "outputId": "e476167d-9b2f-4dbd-ed80-c315d39b263a"
      },
      "execution_count": null,
      "outputs": [
        {
          "output_type": "error",
          "ename": "TypeError",
          "evalue": "ignored",
          "traceback": [
            "\u001b[0;31m---------------------------------------------------------------------------\u001b[0m",
            "\u001b[0;31mTypeError\u001b[0m                                 Traceback (most recent call last)",
            "\u001b[0;32m<ipython-input-26-8ea804970c0d>\u001b[0m in \u001b[0;36m<module>\u001b[0;34m()\u001b[0m\n\u001b[1;32m      2\u001b[0m \u001b[0m종목\u001b[0m \u001b[0;34m=\u001b[0m \u001b[0;34m[\u001b[0m\u001b[0;34m]\u001b[0m\u001b[0;34m\u001b[0m\u001b[0;34m\u001b[0m\u001b[0m\n\u001b[1;32m      3\u001b[0m \u001b[0;34m\u001b[0m\u001b[0m\n\u001b[0;32m----> 4\u001b[0;31m \u001b[0m삼성\u001b[0m \u001b[0;34m=\u001b[0m \u001b[0mstock\u001b[0m\u001b[0;34m(\u001b[0m\u001b[0;34m\"삼성전자\"\u001b[0m\u001b[0;34m,\u001b[0m \u001b[0;34m\"005930\"\u001b[0m\u001b[0;34m,\u001b[0m \u001b[0;36m15.79\u001b[0m\u001b[0;34m,\u001b[0m \u001b[0;36m1.33\u001b[0m\u001b[0;34m,\u001b[0m \u001b[0;36m2.83\u001b[0m\u001b[0;34m)\u001b[0m\u001b[0;34m\u001b[0m\u001b[0;34m\u001b[0m\u001b[0m\n\u001b[0m\u001b[1;32m      5\u001b[0m \u001b[0m현대차\u001b[0m \u001b[0;34m=\u001b[0m \u001b[0mstock\u001b[0m\u001b[0;34m(\u001b[0m\u001b[0;34m\"현대차\"\u001b[0m\u001b[0;34m,\u001b[0m \u001b[0;34m\"005380\"\u001b[0m\u001b[0;34m,\u001b[0m \u001b[0;36m8.70\u001b[0m\u001b[0;34m,\u001b[0m \u001b[0;36m0.35\u001b[0m\u001b[0;34m,\u001b[0m \u001b[0;36m4.27\u001b[0m\u001b[0;34m)\u001b[0m\u001b[0;34m\u001b[0m\u001b[0;34m\u001b[0m\u001b[0m\n\u001b[1;32m      6\u001b[0m \u001b[0mLG전자\u001b[0m \u001b[0;34m=\u001b[0m \u001b[0mstock\u001b[0m\u001b[0;34m(\u001b[0m\u001b[0;34m\"LG전자\"\u001b[0m\u001b[0;34m,\u001b[0m \u001b[0;34m\"066570\"\u001b[0m\u001b[0;34m,\u001b[0m \u001b[0;36m317.34\u001b[0m\u001b[0;34m,\u001b[0m \u001b[0;36m0.69\u001b[0m\u001b[0;34m,\u001b[0m \u001b[0;36m1.37\u001b[0m\u001b[0;34m)\u001b[0m\u001b[0;34m\u001b[0m\u001b[0;34m\u001b[0m\u001b[0m\n",
            "\u001b[0;32m<ipython-input-18-76b78897b9fe>\u001b[0m in \u001b[0;36m__init__\u001b[0;34m(self, name, code, per, pbr, dividend)\u001b[0m\n\u001b[1;32m      4\u001b[0m        \u001b[0mself\u001b[0m\u001b[0;34m.\u001b[0m\u001b[0mname\u001b[0m \u001b[0;34m=\u001b[0m \u001b[0mname\u001b[0m\u001b[0;34m\u001b[0m\u001b[0;34m\u001b[0m\u001b[0m\n\u001b[1;32m      5\u001b[0m        \u001b[0mself\u001b[0m\u001b[0;34m.\u001b[0m\u001b[0mcode\u001b[0m \u001b[0;34m=\u001b[0m \u001b[0mcode\u001b[0m\u001b[0;34m\u001b[0m\u001b[0;34m\u001b[0m\u001b[0m\n\u001b[0;32m----> 6\u001b[0;31m        \u001b[0mself\u001b[0m\u001b[0;34m,\u001b[0m\u001b[0mper\u001b[0m \u001b[0;34m=\u001b[0m \u001b[0mper\u001b[0m\u001b[0;34m\u001b[0m\u001b[0;34m\u001b[0m\u001b[0m\n\u001b[0m\u001b[1;32m      7\u001b[0m        \u001b[0mself\u001b[0m\u001b[0;34m.\u001b[0m\u001b[0mpbr\u001b[0m \u001b[0;34m=\u001b[0m \u001b[0mpbr\u001b[0m\u001b[0;34m\u001b[0m\u001b[0;34m\u001b[0m\u001b[0m\n\u001b[1;32m      8\u001b[0m        \u001b[0mself\u001b[0m\u001b[0;34m.\u001b[0m\u001b[0mdividend\u001b[0m \u001b[0;34m=\u001b[0m \u001b[0mdividend\u001b[0m\u001b[0;34m\u001b[0m\u001b[0;34m\u001b[0m\u001b[0m\n",
            "\u001b[0;31mTypeError\u001b[0m: cannot unpack non-iterable float object"
          ]
        }
      ]
    },
    {
      "cell_type": "code",
      "source": [
        "# 271번 zfill() - string 앞에 0 채우는 함수\n",
        "import random\n",
        "\n",
        "class account:\n",
        "    def __init__(self, name, balance):\n",
        "        self.name = name\n",
        "        self.balance = balance\n",
        "        self.bank = \"카카오뱅크\"\n",
        "        num1 = random.randint(0, 999)    # 3자리\n",
        "        num2 = random.randint(0, 99)     # 2자리\n",
        "        num3 = random.randint(0, 999999) # 6자리\n",
        "\n",
        "\n",
        "        num1 = str(num1).zfill(3)  # 1 → 001  \n",
        "        num2 = str(num2).zfill(2)  # 1 → 01\n",
        "        num3 = str(num3).zfill(6)  # 1 → 000001\n",
        "        self.account_number = num1 + '-' + num2 + '-' + num3  # 001-01-000001\n",
        "\n",
        "kim = account(\"김잼민\",100)\n",
        "print(kim.name)\n",
        "print(kim.balance)\n",
        "print(kim.bank)\n",
        "print(kim.account_number)        "
      ],
      "metadata": {
        "id": "ILKv__Zpnrwe",
        "colab": {
          "base_uri": "https://localhost:8080/"
        },
        "outputId": "3f7db5fd-948d-41f3-bc6e-f0f07a7064e6"
      },
      "execution_count": null,
      "outputs": [
        {
          "output_type": "stream",
          "name": "stdout",
          "text": [
            "김잼민\n",
            "100\n",
            "카카오뱅크\n",
            "488-89-539951\n"
          ]
        }
      ]
    },
    {
      "cell_type": "code",
      "source": [
        "# 272번\n",
        "import random\n",
        "\n",
        "class account:\n",
        "   account_count = 0  # class variable : 클래스 내부에 선언된 변수 \n",
        "\n",
        "   def __init__(self, name, balance):\n",
        "       self.name = name\n",
        "       self.balance = balance\n",
        "       self.bank = \"카카오뱅크\"\n",
        "\n",
        "       num1 = random.randint(0, 999)\n",
        "       num2 = random.randint(0, 99)\n",
        "       num3 = random.randint(0, 999999)\n",
        "\n",
        "       num1 = str(num1).zfill(3)\n",
        "       num2 = str(num2).zfill(2)\n",
        "       num3 = str(num3).zfill(6)\n",
        "       self.account_number = num1 + '-' + num2 + '-' + num3 + '-'\n",
        "\n",
        "       account.account_count += 1 # 계좌가 만들어질 때 1씩 증가\n",
        "\n",
        "kim = account(\"김잼민\", 100)\n",
        "print(account.account_count)\n",
        "lee = account(\"이잼민\", 100)\n",
        "print(account.account_count)       \n"
      ],
      "metadata": {
        "id": "8zh7RI9YnrqO"
      },
      "execution_count": null,
      "outputs": []
    },
    {
      "cell_type": "code",
      "source": [
        "# 273번\n",
        "import random\n",
        "\n",
        "class account:\n",
        "   account_count = 0  # class variable : 클래스 내부에 선언된 변수 \n",
        "\n",
        "   def __init__(self, name, balance):\n",
        "       self.name = name\n",
        "       self.balance = balance\n",
        "       self.bank = \"카카오뱅크\"\n",
        "\n",
        "       num1 = random.randint(0, 999)\n",
        "       num2 = random.randint(0, 99)\n",
        "       num3 = random.randint(0, 999999)\n",
        "\n",
        "       num1 = str(num1).zfill(3)\n",
        "       num2 = str(num2).zfill(2)\n",
        "       num3 = str(num3).zfill(6)\n",
        "       self.account_number = num1 + '-' + num2 + '-' + num3 \n",
        "\n",
        "       account.account_count += 1 # 계좌가 만들어질 때 1씩 증가\n",
        "\n",
        "   def get_account_num(cls):\n",
        "       print(cls.account_count)\n",
        "kim = account(\"김잼민\",100)\n",
        "lee = account(\"이잼민\",100)\n",
        "kim.get_account_num()           "
      ],
      "metadata": {
        "id": "Jde6gXWMnrlH",
        "colab": {
          "base_uri": "https://localhost:8080/"
        },
        "outputId": "0d802f04-121a-4d2c-fd35-aac3bc1df869"
      },
      "execution_count": null,
      "outputs": [
        {
          "output_type": "stream",
          "name": "stdout",
          "text": [
            "2\n"
          ]
        }
      ]
    },
    {
      "cell_type": "code",
      "source": [
        "# 274번\n",
        "import random\n",
        "\n",
        "class account:\n",
        "   account_count = 0  # class variable : 클래스 내부에 선언된 변수 \n",
        "\n",
        "   def __init__(self, name, balance):\n",
        "       self.name = name\n",
        "       self.balance = balance\n",
        "       self.bank = \"카카오뱅크\"\n",
        "\n",
        "       num1 = random.randint(0, 999)\n",
        "       num2 = random.randint(0, 99)\n",
        "       num3 = random.randint(0, 999999)\n",
        "\n",
        "       num1 = str(num1).zfill(3)\n",
        "       num2 = str(num2).zfill(2)\n",
        "       num3 = str(num3).zfill(6)\n",
        "       self.account_number = num1 + '-' + num2 + '-' + num3 \n",
        "\n",
        "       account.account_count += 1 # 계좌가 만들어질 때 1씩 증가\n",
        "\n",
        "   @classmethod # 해당메서드가 클래스 메서드임을 표시/ 클래스 변수 엑세스할 때 사용\n",
        "   def get_account_num(cls):\n",
        "       print(cls.account_count)\n",
        "\n",
        "   def deposit(self, amount): # 입금을 위한 메서드\n",
        "       if amount >= 1:\n",
        "            self.balance += amount   "
      ],
      "metadata": {
        "id": "LMQBnN4KnrfX"
      },
      "execution_count": null,
      "outputs": []
    },
    {
      "cell_type": "code",
      "source": [
        "# 275번\n",
        "import random\n",
        "\n",
        "class account:\n",
        "   account_count = 0   \n",
        "\n",
        "   def __init__(self, name, balance):\n",
        "       self.name = name\n",
        "       self.balance = balance\n",
        "       self.bank = \"카카오뱅크\"\n",
        "\n",
        "       num1 = random.randint(0, 999)\n",
        "       num2 = random.randint(0, 99)\n",
        "       num3 = random.randint(0, 999999)\n",
        "\n",
        "       num1 = str(num1).zfill(3)\n",
        "       num2 = str(num2).zfill(2)\n",
        "       num3 = str(num3).zfill(6)\n",
        "       self.account_number = num1 + '-' + num2 + '-' + num3 \n",
        "\n",
        "       account.account_count += 1 \n",
        "\n",
        "   @classmethod\n",
        "   def get_account_num(cls):\n",
        "       print(cls.account_count)\n",
        "\n",
        "   def deposit(self, amount):\n",
        "       if amount >= 1:\n",
        "            self.balance += amount   \n",
        "\n",
        "   def withdraw(self, amount): # 출금을 위한 메서드\n",
        "       if self.balance > amount:\n",
        "           self.balance -= amount\n",
        "\n",
        "k = account(\"kim\", 100)\n",
        "k.deposit(100)\n",
        "k.withdraw(90)\n",
        "print(k.balance)                    "
      ],
      "metadata": {
        "id": "e_0CPhg2nrZT",
        "colab": {
          "base_uri": "https://localhost:8080/"
        },
        "outputId": "9e4152f9-a69c-49e4-8c76-c9643f4f83c8"
      },
      "execution_count": null,
      "outputs": [
        {
          "output_type": "stream",
          "name": "stdout",
          "text": [
            "110\n"
          ]
        }
      ]
    },
    {
      "cell_type": "code",
      "source": [
        "# 276번\n",
        "import random\n",
        "\n",
        "class account:\n",
        "   account_count = 0   \n",
        "\n",
        "   def __init__(self, name, balance):\n",
        "       self.name = name\n",
        "       self.balance = balance\n",
        "       self.bank = \"카카오뱅크\"\n",
        "\n",
        "       num1 = random.randint(0, 999)\n",
        "       num2 = random.randint(0, 99)\n",
        "       num3 = random.randint(0, 999999)\n",
        "\n",
        "       num1 = str(num1).zfill(3)\n",
        "       num2 = str(num2).zfill(2)\n",
        "       num3 = str(num3).zfill(6)\n",
        "       self.account_number = num1 + '-' + num2 + '-' + num3 \n",
        "\n",
        "       account.account_count += 1 \n",
        "\n",
        "   @classmethod\n",
        "   def get_account_num(cls):\n",
        "       print(cls.account_count)\n",
        "\n",
        "   def deposit(self, amount):\n",
        "       if amount >= 1:\n",
        "            self.balance += amount   \n",
        "\n",
        "   def withdraw(self, amount):\n",
        "       if self.balance > amount:\n",
        "           self.balance -= amount\n",
        "\n",
        "   def display_info(self): # 저장된 정보 출력하는 메서드\n",
        "       print(\"은행이름: \", self.bank)\n",
        "       print(\"예금주: \", self.name)\n",
        "       print(\"계좌번호: \", self.account_number)\n",
        "       print(\"잔고: \", self.balance)\n",
        "\n",
        "p = account(\"햄찌\", 10000)\n",
        "p.display_info()               "
      ],
      "metadata": {
        "id": "rDjXAsZfnrTv",
        "colab": {
          "base_uri": "https://localhost:8080/"
        },
        "outputId": "bde3ae48-ecca-4074-be08-8d8a6929d5aa"
      },
      "execution_count": null,
      "outputs": [
        {
          "output_type": "stream",
          "name": "stdout",
          "text": [
            "은행이름:  카카오뱅크\n",
            "예금주:  햄찌\n",
            "계좌번호:  647-11-278628\n",
            "잔고:  10000\n"
          ]
        }
      ]
    },
    {
      "cell_type": "code",
      "source": [
        "# 277번\n",
        "import random\n",
        "\n",
        "class account:\n",
        "   account_count = 0   \n",
        "\n",
        "   def __init__(self, name, balance):\n",
        "       self.deposit_count = 0\n",
        "      \n",
        "       self.name = name\n",
        "       self.balance = balance\n",
        "       self.bank = \"카카오뱅크\"\n",
        "\n",
        "       num1 = random.randint(0, 999)\n",
        "       num2 = random.randint(0, 99)\n",
        "       num3 = random.randint(0, 999999)\n",
        "\n",
        "       num1 = str(num1).zfill(3)\n",
        "       num2 = str(num2).zfill(2)\n",
        "       num3 = str(num3).zfill(6)\n",
        "       self.account_number = num1 + '-' + num2 + '-' + num3 \n",
        "\n",
        "       account.account_count += 1 \n",
        "\n",
        "   @classmethod\n",
        "   def get_account_num(cls):\n",
        "       print(cls.account_count)\n",
        "\n",
        "   def deposit(self, amount):\n",
        "       if amount >= 1:\n",
        "            self.balance += amount   \n",
        "\n",
        "            self.deposit_count += 1\n",
        "            if self.deposit_count % 5 == 0:\n",
        "               self.balance = (self.balance * 1.01)\n",
        "\n",
        "   def withdraw(self, amount):\n",
        "       if self.balance > amount:\n",
        "           self.balance -= amount\n",
        "\n",
        "   def display_info(self): # 저장된 정보 출력하는 메서드\n",
        "       print(\"은행이름: \", self.bank)\n",
        "       print(\"예금주: \", self.name)\n",
        "       print(\"계좌번호: \", self.account_number)\n",
        "       print(\"잔고: \", self.balance)\n",
        "\n",
        "p = account(\"햄찌\", 10000)\n",
        "p.deposit(10000)\n",
        "p.deposit(10000)\n",
        "p.deposit(5000)\n",
        "p.deposit(5000)\n",
        "p.deposit(10000)\n",
        "print(p.balance)"
      ],
      "metadata": {
        "id": "gujrXd8QnrOC",
        "colab": {
          "base_uri": "https://localhost:8080/"
        },
        "outputId": "ba0b51e9-68c8-4fdc-c510-7714850c4487"
      },
      "execution_count": null,
      "outputs": [
        {
          "output_type": "stream",
          "name": "stdout",
          "text": [
            "50500.0\n"
          ]
        }
      ]
    },
    {
      "cell_type": "code",
      "source": [
        "# 278번\n",
        "import random\n",
        "\n",
        "class account:\n",
        "   account_count = 0   \n",
        "\n",
        "   def __init__(self, name, balance):\n",
        "       self.deposit_count = 0\n",
        "      \n",
        "       self.name = name\n",
        "       self.balance = balance\n",
        "       self.bank = \"카카오뱅크\"\n",
        "\n",
        "       num1 = random.randint(0, 999)\n",
        "       num2 = random.randint(0, 99)\n",
        "       num3 = random.randint(0, 999999)\n",
        "\n",
        "       num1 = str(num1).zfill(3)\n",
        "       num2 = str(num2).zfill(2)\n",
        "       num3 = str(num3).zfill(6)\n",
        "       self.account_number = num1 + '-' + num2 + '-' + num3 \n",
        "\n",
        "       account.account_count += 1 \n",
        "\n",
        "   @classmethod\n",
        "   def get_account_num(cls):\n",
        "       print(cls.account_count)\n",
        "\n",
        "   def deposit(self, amount):\n",
        "       if amount >= 1:\n",
        "            self.balance += amount   \n",
        "\n",
        "            self.deposit_count += 1\n",
        "            if self.deposit_count % 5 == 0:\n",
        "               self.balance = (self.balance * 1.01)\n",
        "\n",
        "   def withdraw(self, amount):\n",
        "       if self.balance > amount:\n",
        "           self.balance -= amount\n",
        "\n",
        "   def display_info(self): # 저장된 정보 출력하는 메서드\n",
        "       print(\"은행이름: \", self.bank)\n",
        "       print(\"예금주: \", self.name)\n",
        "       print(\"계좌번호: \", self.account_number)\n",
        "       print(\"잔고: \", self.balance)\n",
        "\n",
        "data = []\n",
        "k = account(\"kim\", 1000000)\n",
        "l = account(\"lee\", 10000)\n",
        "p = account(\"park\", 10000)\n",
        "\n",
        "data.append(k)\n",
        "data.append(l)\n",
        "data.append(p)\n",
        "\n",
        "print(data)"
      ],
      "metadata": {
        "id": "2rmQiQYZnrH-",
        "colab": {
          "base_uri": "https://localhost:8080/"
        },
        "outputId": "0f18c031-90ca-4a47-ae18-999efd3cf934"
      },
      "execution_count": null,
      "outputs": [
        {
          "output_type": "stream",
          "name": "stdout",
          "text": [
            "[<__main__.account object at 0x7f35a42fd050>, <__main__.account object at 0x7f35a42fded0>, <__main__.account object at 0x7f35a42fdbd0>]\n"
          ]
        }
      ]
    },
    {
      "cell_type": "code",
      "source": [
        "# 279번\n",
        "import random\n",
        "\n",
        "class account:\n",
        "   account_count = 0   \n",
        "\n",
        "   def __init__(self, name, balance):\n",
        "       self.deposit_count = 0\n",
        "      \n",
        "       self.name = name\n",
        "       self.balance = balance\n",
        "       self.bank = \"카카오뱅크\"\n",
        "\n",
        "       num1 = random.randint(0, 999)\n",
        "       num2 = random.randint(0, 99)\n",
        "       num3 = random.randint(0, 999999)\n",
        "\n",
        "       num1 = str(num1).zfill(3)\n",
        "       num2 = str(num2).zfill(2)\n",
        "       num3 = str(num3).zfill(6)\n",
        "       self.account_number = num1 + '-' + num2 + '-' + num3 \n",
        "\n",
        "       account.account_count += 1 \n",
        "\n",
        "   @classmethod\n",
        "   def get_account_num(cls):\n",
        "       print(cls.account_count)\n",
        "\n",
        "   def deposit(self, amount):\n",
        "       if amount >= 1:\n",
        "            self.balance += amount   \n",
        "\n",
        "            self.deposit_count += 1\n",
        "            if self.deposit_count % 5 == 0:\n",
        "               self.balance = (self.balance * 1.01)\n",
        "\n",
        "   def withdraw(self, amount):\n",
        "       if self.balance > amount:\n",
        "           self.balance -= amount\n",
        "\n",
        "   def display_info(self): # 저장된 정보 출력하는 메서드\n",
        "       print(\"은행이름: \", self.bank)\n",
        "       print(\"예금주: \", self.name)\n",
        "       print(\"계좌번호: \", self.account_number)\n",
        "       print(\"잔고: \", self.balance)\n",
        "\n",
        "data = []\n",
        "k = account(\"kim\", 1000000)\n",
        "l = account(\"lee\", 10000)\n",
        "p = account(\"park\", 10000)\n",
        "\n",
        "data.append(k)\n",
        "data.append(l)\n",
        "data.append(p)\n",
        "\n",
        "for i in data:\n",
        "    if i.balance >= 1000000:\n",
        "       i.display_info()"
      ],
      "metadata": {
        "id": "BGm1TVKonrCU",
        "colab": {
          "base_uri": "https://localhost:8080/"
        },
        "outputId": "b3c5539d-618b-4fd2-e335-80840375056b"
      },
      "execution_count": null,
      "outputs": [
        {
          "output_type": "stream",
          "name": "stdout",
          "text": [
            "은행이름:  카카오뱅크\n",
            "예금주:  kim\n",
            "계좌번호:  698-84-812922\n",
            "잔고:  1000000\n"
          ]
        }
      ]
    },
    {
      "cell_type": "code",
      "source": [
        "# 280번\n",
        "import random\n",
        "\n",
        "class account:\n",
        "   account_count = 0   \n",
        "\n",
        "   def __init__(self, name, balance):\n",
        "       self.deposit_count = 0\n",
        "       self.deposit_log = []\n",
        "       self.withdraw_log = []      \n",
        "\n",
        "\n",
        "       self.name = name\n",
        "       self.balance = balance\n",
        "       self.bank = \"카카오뱅크\"\n",
        "\n",
        "       num1 = random.randint(0, 999)\n",
        "       num2 = random.randint(0, 99)\n",
        "       num3 = random.randint(0, 999999)\n",
        "\n",
        "       num1 = str(num1).zfill(3)\n",
        "       num2 = str(num2).zfill(2)\n",
        "       num3 = str(num3).zfill(6)\n",
        "       self.account_number = num1 + '-' + num2 + '-' + num3 \n",
        "\n",
        "       account.account_count += 1 \n",
        "\n",
        "   @classmethod\n",
        "   def get_account_num(cls):\n",
        "       print(cls.account_count)\n",
        "\n",
        "   def deposit(self, amount):\n",
        "       if amount >= 1:\n",
        "            self.balance += amount   \n",
        "\n",
        "            self.deposit_count += 1\n",
        "            if self.deposit_count % 5 == 0:\n",
        "               self.balance = (self.balance * 1.01)\n",
        "\n",
        "   def withdraw(self, amount):\n",
        "       if self.balance > amount:\n",
        "           self.balance -= amount\n",
        "\n",
        "   def display_info(self): # 저장된 정보 출력하는 메서드\n",
        "       print(\"은행이름: \", self.bank)\n",
        "       print(\"예금주: \", self.name)\n",
        "       print(\"계좌번호: \", self.account_number)\n",
        "       print(\"잔고: \", self.balance)\n",
        "\n",
        "   def withdraw_history(self):\n",
        "       for amount in self.withdraw_log:\n",
        "           print(amount)\n",
        "\n",
        "   def deposit_history(self):\n",
        "       for amount in self.deposit_log:\n",
        "           print(amount)\n",
        "\n",
        "k = account(\"kim\", 1000)\n",
        "k.deposit(100)\n",
        "k.deposit(200)\n",
        "k.deposit(300)\n",
        "k.deposit_history()\n",
        "\n",
        "k.withdraw(100)\n",
        "k.withdraw(200)\n",
        "k.withdraw_history()                         "
      ],
      "metadata": {
        "id": "TABY-wnanq8z"
      },
      "execution_count": null,
      "outputs": []
    },
    {
      "cell_type": "code",
      "source": [
        "# 281번\n",
        "class 차:\n",
        "   def __init__(self, 바퀴, 가격):\n",
        "       self.바퀴 = 바퀴\n",
        "       self.가격 = 가격\n",
        "\n",
        "car = 차(2, 1000)\n",
        "print(car.바퀴)\n",
        "print(car.가격)"
      ],
      "metadata": {
        "colab": {
          "base_uri": "https://localhost:8080/"
        },
        "id": "2C-qG0onUXDH",
        "outputId": "5dfa9682-778c-4a64-c485-33d9cf09caf5"
      },
      "execution_count": null,
      "outputs": [
        {
          "output_type": "stream",
          "name": "stdout",
          "text": [
            "2\n",
            "1000\n"
          ]
        }
      ]
    },
    {
      "cell_type": "code",
      "source": [
        "# 282번\n",
        "class 차:\n",
        "   def __init__(self, 바퀴, 가격):\n",
        "       self.바퀴 = 바퀴\n",
        "       self.가격 = 가격\n",
        "\n",
        "class 자전차(차):\n",
        "    pass       "
      ],
      "metadata": {
        "id": "r3H1ibcaUW8w"
      },
      "execution_count": null,
      "outputs": []
    },
    {
      "cell_type": "code",
      "source": [
        "# 283번 자전차 클래스 → 차 클래스 상속\n",
        "class 차:\n",
        "    def __init__(self, 바퀴, 가격):\n",
        "        self.바퀴 = 바퀴\n",
        "        self.가격 = 가격\n",
        "\n",
        "class 자전차(차):\n",
        "    def __init__(self, 바퀴, 가격):\n",
        "        self.바퀴 = 바퀴\n",
        "        self.가격 = 가격\n",
        "\n",
        "bicycle = 자전차(2, 100)\n",
        "print(bicycle.가격)        "
      ],
      "metadata": {
        "colab": {
          "base_uri": "https://localhost:8080/"
        },
        "id": "vfYstfFtUW2U",
        "outputId": "1b6f8208-482e-48f7-e705-a31eeee18921"
      },
      "execution_count": null,
      "outputs": [
        {
          "output_type": "stream",
          "name": "stdout",
          "text": [
            "100\n"
          ]
        }
      ]
    },
    {
      "cell_type": "code",
      "source": [
        "# 284번 super().__init__() 다른 클래스의 속성 및 메소드를 자동으로 불러와 사용\n",
        "class 차:\n",
        "   def __init__(self, 바퀴, 가격):\n",
        "       self.바퀴 = 바퀴\n",
        "       self.가격 = 가격\n",
        "\n",
        "class 자전차(차):\n",
        "   def __init__(self, 바퀴, 가격, 구동계):\n",
        "      super().__init__(바퀴, 가격)  \n",
        "      self.구동계 = 구동계\n",
        "\n",
        "bicycle = 자전차(2, 100, \"삼천리\")\n",
        "print(bicycle.구동계)\n",
        "print(bicycle.바퀴)              "
      ],
      "metadata": {
        "colab": {
          "base_uri": "https://localhost:8080/"
        },
        "id": "jb4oUM8yUWwU",
        "outputId": "3f96912e-4d24-4aaa-ad71-dc3c4b092e26"
      },
      "execution_count": null,
      "outputs": [
        {
          "output_type": "stream",
          "name": "stdout",
          "text": [
            "삼천리\n",
            "2\n"
          ]
        }
      ]
    },
    {
      "cell_type": "code",
      "source": [
        "# 285번\n",
        "class 차:\n",
        "    def __init__(self, 바퀴, 가격):\n",
        "        self.바퀴 = 바퀴\n",
        "        self.가격 = 가격\n",
        "\n",
        "\n",
        "class 자동차(차):\n",
        "    def __init__(self, 바퀴, 가격):\n",
        "        super().__init__(바퀴, 가격)\n",
        "\n",
        "    def 정보(self):\n",
        "        print(\"바퀴수 \", self.바퀴)\n",
        "        print(\"가격 \", self.가격)\n",
        "\n",
        "\n",
        "car = 자동차(4, 1000)\n",
        "car.정보()"
      ],
      "metadata": {
        "colab": {
          "base_uri": "https://localhost:8080/"
        },
        "id": "rEU2A2ruUWqC",
        "outputId": "987766b8-6c4d-4e1b-e50e-c0667c6b7a92"
      },
      "execution_count": null,
      "outputs": [
        {
          "output_type": "stream",
          "name": "stdout",
          "text": [
            "바퀴수  4\n",
            "가격  1000\n"
          ]
        }
      ]
    },
    {
      "cell_type": "code",
      "source": [
        "# 286번\n",
        "class 차:\n",
        "    def __init__(self, 바퀴, 가격):\n",
        "        self.바퀴 = 바퀴\n",
        "        self.가격 = 가격\n",
        "\n",
        "    def 정보(self):\n",
        "        print(\"바퀴수 \", self.바퀴)\n",
        "        print(\"가격 \", self.가격)\n",
        "\n",
        "class 자동차(차):\n",
        "    def __init__(self, 바퀴, 가격):\n",
        "        super().__init__(바퀴, 가격)\n",
        "\n",
        "class 자전차(차):\n",
        "    def __init__(self, 바퀴, 가격, 구동계):\n",
        "        super().__init__(바퀴, 가격)\n",
        "        self.구동계 = 구동계\n",
        "\n",
        "bicycle = 자전차(2, 100, \"삼천리\")\n",
        "bicycle.정보()"
      ],
      "metadata": {
        "id": "83wPcNVOUWkC",
        "colab": {
          "base_uri": "https://localhost:8080/"
        },
        "outputId": "6477f620-68b2-40f5-f450-fe30fc436d80"
      },
      "execution_count": null,
      "outputs": [
        {
          "output_type": "stream",
          "name": "stdout",
          "text": [
            "바퀴수  2\n",
            "가격  100\n"
          ]
        }
      ]
    },
    {
      "cell_type": "code",
      "source": [
        "# 287번\n",
        "class 차:\n",
        "   def __init__(self, 바퀴, 가격):\n",
        "       self.바퀴 = 바퀴\n",
        "       self.가격 = 가격\n",
        "   \n",
        "   def 정보(self):\n",
        "       print(\"바퀴수\", self.바퀴)\n",
        "       print(\"가격\", self.가격)\n",
        "\n",
        "class 자동차(차):\n",
        "   def __init__(self, 바퀴):       \n",
        "       super().__init__(바퀴, 가격)\n",
        "\n",
        "class 자전차(차):\n",
        "   def __init__(self, 바퀴, 가격, 구동계):\n",
        "       super().__init__(바퀴, 가격)\n",
        "       self.구동계 = 구동계\n",
        "\n",
        "   def 정보(self):\n",
        "       super().정보()\n",
        "       print(\"구동계\", self.구동계)\n",
        "\n",
        "bicycle = 자전차(2, 100, \"삼천리\")\n",
        "bicycle.정보()           "
      ],
      "metadata": {
        "id": "B_00PxNsUWeo",
        "colab": {
          "base_uri": "https://localhost:8080/"
        },
        "outputId": "1bedad09-e9da-4a78-8eeb-e470a98b5511"
      },
      "execution_count": null,
      "outputs": [
        {
          "output_type": "stream",
          "name": "stdout",
          "text": [
            "바퀴수 2\n",
            "가격 100\n",
            "구동계 삼천리\n"
          ]
        }
      ]
    },
    {
      "cell_type": "code",
      "source": [
        "# 288번\n",
        "class 부모:\n",
        "  def 호출(self):\n",
        "    print(\"부모호출\")\n",
        "\n",
        "class 자식(부모):\n",
        "  def 호출(self):\n",
        "    print(\"자식호출\")\n",
        "\n",
        "나 = 자식()\n",
        "나.호출()    "
      ],
      "metadata": {
        "id": "VCqF20P0UWYq",
        "colab": {
          "base_uri": "https://localhost:8080/"
        },
        "outputId": "2159de25-d4f7-4f35-b35d-8af194630cc7"
      },
      "execution_count": null,
      "outputs": [
        {
          "output_type": "stream",
          "name": "stdout",
          "text": [
            "자식호출\n"
          ]
        }
      ]
    },
    {
      "cell_type": "code",
      "source": [
        "# 289번\n",
        "class 부모:\n",
        "    def __init__(self):\n",
        "        print(\"부모생성\")\n",
        "\n",
        "class 자식(부모):\n",
        "    def __init__(self):\n",
        "        print(\"자식생성\")\n",
        "\n",
        "나 = 자식()"
      ],
      "metadata": {
        "id": "0bLwBrulUWRS",
        "colab": {
          "base_uri": "https://localhost:8080/"
        },
        "outputId": "b3704319-2238-48ee-a03b-87dec3724fb0"
      },
      "execution_count": null,
      "outputs": [
        {
          "output_type": "stream",
          "name": "stdout",
          "text": [
            "자식생성\n"
          ]
        }
      ]
    },
    {
      "cell_type": "code",
      "source": [
        "# 290번\n",
        "class 부모:\n",
        "    def __init__(self):\n",
        "        print(\"부모생성\")\n",
        "\n",
        "class 자식(부모):\n",
        "    def __init__(self):\n",
        "        print(\"자식생성\")\n",
        "        super().__init__()\n",
        "\n",
        "나 = 자식()"
      ],
      "metadata": {
        "id": "wVMKYRXPUWH-",
        "colab": {
          "base_uri": "https://localhost:8080/"
        },
        "outputId": "eb8973cd-8737-4dd3-9493-cfc859f0a045"
      },
      "execution_count": null,
      "outputs": [
        {
          "output_type": "stream",
          "name": "stdout",
          "text": [
            "자식생성\n",
            "부모생성\n"
          ]
        }
      ]
    },
    {
      "cell_type": "markdown",
      "source": [
        "## 파이썬 예외처리\n",
        "- 296번 ~ 300번 "
      ],
      "metadata": {
        "id": "bnfu4rpGUg8u"
      }
    },
    {
      "cell_type": "code",
      "source": [
        "# (291번~295번 코랩은 입출력 안된다고 함..)\n",
        "# 296번 오류 처리 위한 try, except문 ⟶ try 블록 수행 중 오류 발생시 except 블록 수행 / 오류 안나면 실행 X\n",
        "# try:\n",
        "# except [발생 오류[as 오류 메세지 변수]]:\n",
        "per = [\"10.31\", \"\", \"8.00\"]\n",
        "\n",
        "for i in per:\n",
        "    try:\n",
        "        print(float(i))\n",
        "    except:\n",
        "        print(0)"
      ],
      "metadata": {
        "id": "61B45iAfUquk",
        "colab": {
          "base_uri": "https://localhost:8080/"
        },
        "outputId": "2f041e44-bc49-4df2-e30f-ca0888abf7db"
      },
      "execution_count": 7,
      "outputs": [
        {
          "output_type": "stream",
          "name": "stdout",
          "text": [
            "10.31\n",
            "0\n",
            "8.0\n"
          ]
        }
      ]
    },
    {
      "cell_type": "code",
      "source": [
        "# 297번\n",
        "per = [\"10.31\", \"\", \"8.00\"]\n",
        "new_per = [] # 리스트에 저장해야하니까 미리 만들어둔 것\n",
        "\n",
        "for i in per:\n",
        "    try:\n",
        "        v = float(i)\n",
        "    except:\n",
        "        v = 0\n",
        "    new_per.append(v)\n",
        "\n",
        "print(new_per)"
      ],
      "metadata": {
        "id": "AMN1wZa4Uqng",
        "colab": {
          "base_uri": "https://localhost:8080/"
        },
        "outputId": "fe739f5a-75ad-4def-996c-dc2e51efad95"
      },
      "execution_count": 10,
      "outputs": [
        {
          "output_type": "stream",
          "name": "stdout",
          "text": [
            "[10.31, 0, 8.0]\n"
          ]
        }
      ]
    },
    {
      "cell_type": "code",
      "source": [
        "# 298번\n",
        "try:\n",
        "    b = 3 / 0\n",
        "\n",
        "except ZeroDivisionError:\n",
        "    print(\"0으로 나누면 에러가 납니다!\")"
      ],
      "metadata": {
        "id": "SPN3dWjcUqeg",
        "colab": {
          "base_uri": "https://localhost:8080/"
        },
        "outputId": "e2a645f1-8eba-4a89-c3b6-e78434e4e200"
      },
      "execution_count": 11,
      "outputs": [
        {
          "output_type": "stream",
          "name": "stdout",
          "text": [
            "0으로 나누면 에러가 납니다!\n"
          ]
        }
      ]
    },
    {
      "cell_type": "code",
      "source": [
        "# 299번\n",
        "# try: \n",
        "#     실행코드\n",
        "# except 예외 as 변수:\n",
        "#     예외처리코드\n",
        "data = [1, 2, 3]\n",
        "\n",
        "for i in range(5):\n",
        "    try:\n",
        "        print(data[i])\n",
        "    except IndexError as e:\n",
        "        print(e)    "
      ],
      "metadata": {
        "id": "cwB9yogVUqW8",
        "colab": {
          "base_uri": "https://localhost:8080/"
        },
        "outputId": "4a49caeb-dbdd-4925-aa7b-c8a62ae8b62e"
      },
      "execution_count": 14,
      "outputs": [
        {
          "output_type": "stream",
          "name": "stdout",
          "text": [
            "1\n",
            "2\n",
            "3\n",
            "list index out of range\n",
            "list index out of range\n"
          ]
        }
      ]
    },
    {
      "cell_type": "code",
      "source": [
        "# 300번\n",
        "per = [\"10.31\", \"\", \"8.00\"]\n",
        "\n",
        "for i in per:\n",
        "    try:                    # 실행 코드\n",
        "        print(float(i))\n",
        "    except:                 # 예외 발생시 수행할 코드\n",
        "        print(0)\n",
        "    else:                   # 예외가 발생하지 않았을 때 수행할 코드\n",
        "        print(\"clean data\")\n",
        "    finally:                # 예외 발생 여부와 상관없이 항상 수행할 코드 \n",
        "        print(\"변환 완료\")            "
      ],
      "metadata": {
        "id": "RQhdc7R7UqPn",
        "colab": {
          "base_uri": "https://localhost:8080/"
        },
        "outputId": "b3fcb850-77b5-49c2-d6a9-95fdeee36965"
      },
      "execution_count": 17,
      "outputs": [
        {
          "output_type": "stream",
          "name": "stdout",
          "text": [
            "10.31\n",
            "clean data\n",
            "변환 완료\n",
            "0\n",
            "변환 완료\n",
            "8.0\n",
            "clean data\n",
            "변환 완료\n"
          ]
        }
      ]
    }
  ]
}